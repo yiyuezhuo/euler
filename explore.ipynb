{
 "cells": [
  {
   "cell_type": "code",
   "execution_count": 1,
   "metadata": {
    "collapsed": false
   },
   "outputs": [
    {
     "name": "stdout",
     "output_type": "stream",
     "text": [
      "Load data.csv from cache\n"
     ]
    }
   ],
   "source": [
    "import numpy as np\n",
    "import pandas as pd\n",
    "import statsmodels.api as sm\n",
    "import statsmodels.formula.api as smf\n",
    "from data_craw import integration\n",
    "import matplotlib.pyplot as plt\n",
    "import statsmodels\n",
    "\n",
    "%matplotlib inline\n",
    "\n",
    "plt.style.use('ggplot')\n",
    "\n",
    "data_file_name='data.csv'\n",
    "\n",
    "import os\n",
    "if os.path.isfile(data_file_name):\n",
    "    print('Load {} from cache'.format(data_file_name))\n",
    "    df=pd.read_csv(data_file_name)\n",
    "else:\n",
    "    print('The cache is not established. Trying to create it from data_craw.py script')\n",
    "    bl=integration()\n",
    "    df=pd.DataFrame(bl)\n",
    "    df.index=df['id']\n",
    "    df.to_csv(data_file_name)"
   ]
  },
  {
   "cell_type": "code",
   "execution_count": 2,
   "metadata": {
    "collapsed": false
   },
   "outputs": [
    {
     "data": {
      "text/html": [
       "<div>\n",
       "<table border=\"1\" class=\"dataframe\">\n",
       "  <thead>\n",
       "    <tr style=\"text-align: right;\">\n",
       "      <th></th>\n",
       "      <th>id</th>\n",
       "      <th>content</th>\n",
       "      <th>des_len</th>\n",
       "      <th>diff</th>\n",
       "      <th>hit</th>\n",
       "      <th>id.1</th>\n",
       "      <th>solve</th>\n",
       "      <th>t_content</th>\n",
       "    </tr>\n",
       "  </thead>\n",
       "  <tbody>\n",
       "    <tr>\n",
       "      <th>0</th>\n",
       "      <td>1</td>\n",
       "      <td>187</td>\n",
       "      <td>25</td>\n",
       "      <td>5</td>\n",
       "      <td>13792</td>\n",
       "      <td>1</td>\n",
       "      <td>537234</td>\n",
       "      <td>85</td>\n",
       "    </tr>\n",
       "    <tr>\n",
       "      <th>1</th>\n",
       "      <td>2</td>\n",
       "      <td>312</td>\n",
       "      <td>32</td>\n",
       "      <td>5</td>\n",
       "      <td>7571</td>\n",
       "      <td>2</td>\n",
       "      <td>438350</td>\n",
       "      <td>135</td>\n",
       "    </tr>\n",
       "    <tr>\n",
       "      <th>2</th>\n",
       "      <td>3</td>\n",
       "      <td>111</td>\n",
       "      <td>17</td>\n",
       "      <td>5</td>\n",
       "      <td>6364</td>\n",
       "      <td>3</td>\n",
       "      <td>317208</td>\n",
       "      <td>65</td>\n",
       "    </tr>\n",
       "    <tr>\n",
       "      <th>3</th>\n",
       "      <td>4</td>\n",
       "      <td>209</td>\n",
       "      <td>20</td>\n",
       "      <td>5</td>\n",
       "      <td>5414</td>\n",
       "      <td>4</td>\n",
       "      <td>285419</td>\n",
       "      <td>101</td>\n",
       "    </tr>\n",
       "    <tr>\n",
       "      <th>4</th>\n",
       "      <td>5</td>\n",
       "      <td>206</td>\n",
       "      <td>24</td>\n",
       "      <td>5</td>\n",
       "      <td>4627</td>\n",
       "      <td>5</td>\n",
       "      <td>297082</td>\n",
       "      <td>70</td>\n",
       "    </tr>\n",
       "    <tr>\n",
       "      <th>5</th>\n",
       "      <td>6</td>\n",
       "      <td>431</td>\n",
       "      <td>17</td>\n",
       "      <td>5</td>\n",
       "      <td>4524</td>\n",
       "      <td>6</td>\n",
       "      <td>298805</td>\n",
       "      <td>156</td>\n",
       "    </tr>\n",
       "    <tr>\n",
       "      <th>6</th>\n",
       "      <td>7</td>\n",
       "      <td>137</td>\n",
       "      <td>16</td>\n",
       "      <td>5</td>\n",
       "      <td>3756</td>\n",
       "      <td>7</td>\n",
       "      <td>256030</td>\n",
       "      <td>62</td>\n",
       "    </tr>\n",
       "    <tr>\n",
       "      <th>7</th>\n",
       "      <td>8</td>\n",
       "      <td>1255</td>\n",
       "      <td>30</td>\n",
       "      <td>5</td>\n",
       "      <td>4263</td>\n",
       "      <td>8</td>\n",
       "      <td>220371</td>\n",
       "      <td>1071</td>\n",
       "    </tr>\n",
       "    <tr>\n",
       "      <th>8</th>\n",
       "      <td>9</td>\n",
       "      <td>229</td>\n",
       "      <td>46</td>\n",
       "      <td>5</td>\n",
       "      <td>4090</td>\n",
       "      <td>9</td>\n",
       "      <td>220702</td>\n",
       "      <td>157</td>\n",
       "    </tr>\n",
       "    <tr>\n",
       "      <th>9</th>\n",
       "      <td>10</td>\n",
       "      <td>105</td>\n",
       "      <td>19</td>\n",
       "      <td>5</td>\n",
       "      <td>3710</td>\n",
       "      <td>10</td>\n",
       "      <td>202710</td>\n",
       "      <td>65</td>\n",
       "    </tr>\n",
       "    <tr>\n",
       "      <th>10</th>\n",
       "      <td>11</td>\n",
       "      <td>1482</td>\n",
       "      <td>32</td>\n",
       "      <td>5</td>\n",
       "      <td>4511</td>\n",
       "      <td>11</td>\n",
       "      <td>149411</td>\n",
       "      <td>1344</td>\n",
       "    </tr>\n",
       "    <tr>\n",
       "      <th>11</th>\n",
       "      <td>12</td>\n",
       "      <td>514</td>\n",
       "      <td>27</td>\n",
       "      <td>5</td>\n",
       "      <td>4275</td>\n",
       "      <td>12</td>\n",
       "      <td>137601</td>\n",
       "      <td>290</td>\n",
       "    </tr>\n",
       "    <tr>\n",
       "      <th>12</th>\n",
       "      <td>13</td>\n",
       "      <td>5190</td>\n",
       "      <td>24</td>\n",
       "      <td>5</td>\n",
       "      <td>3412</td>\n",
       "      <td>13</td>\n",
       "      <td>143861</td>\n",
       "      <td>5123</td>\n",
       "    </tr>\n",
       "    <tr>\n",
       "      <th>13</th>\n",
       "      <td>14</td>\n",
       "      <td>584</td>\n",
       "      <td>25</td>\n",
       "      <td>5</td>\n",
       "      <td>3791</td>\n",
       "      <td>14</td>\n",
       "      <td>142243</td>\n",
       "      <td>266</td>\n",
       "    </tr>\n",
       "    <tr>\n",
       "      <th>14</th>\n",
       "      <td>15</td>\n",
       "      <td>209</td>\n",
       "      <td>29</td>\n",
       "      <td>5</td>\n",
       "      <td>2945</td>\n",
       "      <td>15</td>\n",
       "      <td>118253</td>\n",
       "      <td>76</td>\n",
       "    </tr>\n",
       "    <tr>\n",
       "      <th>15</th>\n",
       "      <td>16</td>\n",
       "      <td>117</td>\n",
       "      <td>22</td>\n",
       "      <td>5</td>\n",
       "      <td>2877</td>\n",
       "      <td>16</td>\n",
       "      <td>145930</td>\n",
       "      <td>87</td>\n",
       "    </tr>\n",
       "    <tr>\n",
       "      <th>16</th>\n",
       "      <td>17</td>\n",
       "      <td>497</td>\n",
       "      <td>29</td>\n",
       "      <td>5</td>\n",
       "      <td>3182</td>\n",
       "      <td>17</td>\n",
       "      <td>97022</td>\n",
       "      <td>248</td>\n",
       "    </tr>\n",
       "    <tr>\n",
       "      <th>17</th>\n",
       "      <td>18</td>\n",
       "      <td>868</td>\n",
       "      <td>22</td>\n",
       "      <td>5</td>\n",
       "      <td>2944</td>\n",
       "      <td>18</td>\n",
       "      <td>94080</td>\n",
       "      <td>489</td>\n",
       "    </tr>\n",
       "    <tr>\n",
       "      <th>18</th>\n",
       "      <td>19</td>\n",
       "      <td>509</td>\n",
       "      <td>24</td>\n",
       "      <td>5</td>\n",
       "      <td>2534</td>\n",
       "      <td>19</td>\n",
       "      <td>87112</td>\n",
       "      <td>219</td>\n",
       "    </tr>\n",
       "    <tr>\n",
       "      <th>19</th>\n",
       "      <td>20</td>\n",
       "      <td>219</td>\n",
       "      <td>17</td>\n",
       "      <td>5</td>\n",
       "      <td>2610</td>\n",
       "      <td>20</td>\n",
       "      <td>130439</td>\n",
       "      <td>148</td>\n",
       "    </tr>\n",
       "    <tr>\n",
       "      <th>20</th>\n",
       "      <td>21</td>\n",
       "      <td>467</td>\n",
       "      <td>22</td>\n",
       "      <td>5</td>\n",
       "      <td>2617</td>\n",
       "      <td>21</td>\n",
       "      <td>93685</td>\n",
       "      <td>287</td>\n",
       "    </tr>\n",
       "    <tr>\n",
       "      <th>21</th>\n",
       "      <td>22</td>\n",
       "      <td>553</td>\n",
       "      <td>21</td>\n",
       "      <td>5</td>\n",
       "      <td>3138</td>\n",
       "      <td>22</td>\n",
       "      <td>86933</td>\n",
       "      <td>253</td>\n",
       "    </tr>\n",
       "    <tr>\n",
       "      <th>22</th>\n",
       "      <td>23</td>\n",
       "      <td>936</td>\n",
       "      <td>27</td>\n",
       "      <td>5</td>\n",
       "      <td>3030</td>\n",
       "      <td>23</td>\n",
       "      <td>66177</td>\n",
       "      <td>304</td>\n",
       "    </tr>\n",
       "    <tr>\n",
       "      <th>23</th>\n",
       "      <td>24</td>\n",
       "      <td>408</td>\n",
       "      <td>39</td>\n",
       "      <td>5</td>\n",
       "      <td>2875</td>\n",
       "      <td>24</td>\n",
       "      <td>74726</td>\n",
       "      <td>172</td>\n",
       "    </tr>\n",
       "    <tr>\n",
       "      <th>24</th>\n",
       "      <td>25</td>\n",
       "      <td>383</td>\n",
       "      <td>30</td>\n",
       "      <td>5</td>\n",
       "      <td>2278</td>\n",
       "      <td>25</td>\n",
       "      <td>101009</td>\n",
       "      <td>221</td>\n",
       "    </tr>\n",
       "    <tr>\n",
       "      <th>25</th>\n",
       "      <td>26</td>\n",
       "      <td>463</td>\n",
       "      <td>33</td>\n",
       "      <td>5</td>\n",
       "      <td>2322</td>\n",
       "      <td>26</td>\n",
       "      <td>53786</td>\n",
       "      <td>279</td>\n",
       "    </tr>\n",
       "    <tr>\n",
       "      <th>26</th>\n",
       "      <td>27</td>\n",
       "      <td>803</td>\n",
       "      <td>24</td>\n",
       "      <td>5</td>\n",
       "      <td>2569</td>\n",
       "      <td>27</td>\n",
       "      <td>56461</td>\n",
       "      <td>379</td>\n",
       "    </tr>\n",
       "    <tr>\n",
       "      <th>27</th>\n",
       "      <td>28</td>\n",
       "      <td>358</td>\n",
       "      <td>29</td>\n",
       "      <td>5</td>\n",
       "      <td>2104</td>\n",
       "      <td>28</td>\n",
       "      <td>72610</td>\n",
       "      <td>169</td>\n",
       "    </tr>\n",
       "    <tr>\n",
       "      <th>28</th>\n",
       "      <td>29</td>\n",
       "      <td>462</td>\n",
       "      <td>32</td>\n",
       "      <td>5</td>\n",
       "      <td>2443</td>\n",
       "      <td>29</td>\n",
       "      <td>67676</td>\n",
       "      <td>307</td>\n",
       "    </tr>\n",
       "    <tr>\n",
       "      <th>29</th>\n",
       "      <td>30</td>\n",
       "      <td>378</td>\n",
       "      <td>27</td>\n",
       "      <td>5</td>\n",
       "      <td>2093</td>\n",
       "      <td>30</td>\n",
       "      <td>71359</td>\n",
       "      <td>204</td>\n",
       "    </tr>\n",
       "    <tr>\n",
       "      <th>...</th>\n",
       "      <td>...</td>\n",
       "      <td>...</td>\n",
       "      <td>...</td>\n",
       "      <td>...</td>\n",
       "      <td>...</td>\n",
       "      <td>...</td>\n",
       "      <td>...</td>\n",
       "      <td>...</td>\n",
       "    </tr>\n",
       "    <tr>\n",
       "      <th>232</th>\n",
       "      <td>233</td>\n",
       "      <td>236</td>\n",
       "      <td>11</td>\n",
       "      <td>70</td>\n",
       "      <td>196</td>\n",
       "      <td>233</td>\n",
       "      <td>1404</td>\n",
       "      <td>123</td>\n",
       "    </tr>\n",
       "    <tr>\n",
       "      <th>233</th>\n",
       "      <td>234</td>\n",
       "      <td>687</td>\n",
       "      <td>11</td>\n",
       "      <td>50</td>\n",
       "      <td>180</td>\n",
       "      <td>234</td>\n",
       "      <td>2378</td>\n",
       "      <td>336</td>\n",
       "    </tr>\n",
       "    <tr>\n",
       "      <th>234</th>\n",
       "      <td>235</td>\n",
       "      <td>218</td>\n",
       "      <td>14</td>\n",
       "      <td>40</td>\n",
       "      <td>227</td>\n",
       "      <td>235</td>\n",
       "      <td>3677</td>\n",
       "      <td>127</td>\n",
       "    </tr>\n",
       "    <tr>\n",
       "      <th>235</th>\n",
       "      <td>236</td>\n",
       "      <td>1285</td>\n",
       "      <td>9</td>\n",
       "      <td>80</td>\n",
       "      <td>183</td>\n",
       "      <td>236</td>\n",
       "      <td>645</td>\n",
       "      <td>444</td>\n",
       "    </tr>\n",
       "    <tr>\n",
       "      <th>236</th>\n",
       "      <td>237</td>\n",
       "      <td>360</td>\n",
       "      <td>19</td>\n",
       "      <td>70</td>\n",
       "      <td>169</td>\n",
       "      <td>237</td>\n",
       "      <td>1045</td>\n",
       "      <td>184</td>\n",
       "    </tr>\n",
       "    <tr>\n",
       "      <th>237</th>\n",
       "      <td>238</td>\n",
       "      <td>1207</td>\n",
       "      <td>13</td>\n",
       "      <td>75</td>\n",
       "      <td>209</td>\n",
       "      <td>238</td>\n",
       "      <td>672</td>\n",
       "      <td>646</td>\n",
       "    </tr>\n",
       "    <tr>\n",
       "      <th>238</th>\n",
       "      <td>239</td>\n",
       "      <td>400</td>\n",
       "      <td>14</td>\n",
       "      <td>65</td>\n",
       "      <td>183</td>\n",
       "      <td>239</td>\n",
       "      <td>1236</td>\n",
       "      <td>137</td>\n",
       "    </tr>\n",
       "    <tr>\n",
       "      <th>239</th>\n",
       "      <td>240</td>\n",
       "      <td>360</td>\n",
       "      <td>11</td>\n",
       "      <td>60</td>\n",
       "      <td>188</td>\n",
       "      <td>240</td>\n",
       "      <td>1513</td>\n",
       "      <td>221</td>\n",
       "    </tr>\n",
       "    <tr>\n",
       "      <th>240</th>\n",
       "      <td>241</td>\n",
       "      <td>357</td>\n",
       "      <td>9</td>\n",
       "      <td>80</td>\n",
       "      <td>186</td>\n",
       "      <td>241</td>\n",
       "      <td>603</td>\n",
       "      <td>206</td>\n",
       "    </tr>\n",
       "    <tr>\n",
       "      <th>241</th>\n",
       "      <td>242</td>\n",
       "      <td>564</td>\n",
       "      <td>11</td>\n",
       "      <td>75</td>\n",
       "      <td>185</td>\n",
       "      <td>242</td>\n",
       "      <td>708</td>\n",
       "      <td>346</td>\n",
       "    </tr>\n",
       "    <tr>\n",
       "      <th>242</th>\n",
       "      <td>243</td>\n",
       "      <td>646</td>\n",
       "      <td>11</td>\n",
       "      <td>35</td>\n",
       "      <td>192</td>\n",
       "      <td>243</td>\n",
       "      <td>6335</td>\n",
       "      <td>291</td>\n",
       "    </tr>\n",
       "    <tr>\n",
       "      <th>243</th>\n",
       "      <td>244</td>\n",
       "      <td>926</td>\n",
       "      <td>12</td>\n",
       "      <td>70</td>\n",
       "      <td>182</td>\n",
       "      <td>244</td>\n",
       "      <td>878</td>\n",
       "      <td>504</td>\n",
       "    </tr>\n",
       "    <tr>\n",
       "      <th>244</th>\n",
       "      <td>245</td>\n",
       "      <td>540</td>\n",
       "      <td>11</td>\n",
       "      <td>80</td>\n",
       "      <td>181</td>\n",
       "      <td>245</td>\n",
       "      <td>554</td>\n",
       "      <td>272</td>\n",
       "    </tr>\n",
       "    <tr>\n",
       "      <th>245</th>\n",
       "      <td>246</td>\n",
       "      <td>656</td>\n",
       "      <td>11</td>\n",
       "      <td>80</td>\n",
       "      <td>199</td>\n",
       "      <td>246</td>\n",
       "      <td>541</td>\n",
       "      <td>231</td>\n",
       "    </tr>\n",
       "    <tr>\n",
       "      <th>246</th>\n",
       "      <td>247</td>\n",
       "      <td>650</td>\n",
       "      <td>14</td>\n",
       "      <td>65</td>\n",
       "      <td>184</td>\n",
       "      <td>247</td>\n",
       "      <td>1012</td>\n",
       "      <td>301</td>\n",
       "    </tr>\n",
       "    <tr>\n",
       "      <th>247</th>\n",
       "      <td>248</td>\n",
       "      <td>86</td>\n",
       "      <td>18</td>\n",
       "      <td>70</td>\n",
       "      <td>192</td>\n",
       "      <td>248</td>\n",
       "      <td>856</td>\n",
       "      <td>74</td>\n",
       "    </tr>\n",
       "    <tr>\n",
       "      <th>248</th>\n",
       "      <td>249</td>\n",
       "      <td>198</td>\n",
       "      <td>11</td>\n",
       "      <td>60</td>\n",
       "      <td>185</td>\n",
       "      <td>249</td>\n",
       "      <td>1712</td>\n",
       "      <td>102</td>\n",
       "    </tr>\n",
       "    <tr>\n",
       "      <th>249</th>\n",
       "      <td>250</td>\n",
       "      <td>166</td>\n",
       "      <td>12</td>\n",
       "      <td>55</td>\n",
       "      <td>259</td>\n",
       "      <td>250</td>\n",
       "      <td>1961</td>\n",
       "      <td>95</td>\n",
       "    </tr>\n",
       "    <tr>\n",
       "      <th>250</th>\n",
       "      <td>251</td>\n",
       "      <td>278</td>\n",
       "      <td>13</td>\n",
       "      <td>70</td>\n",
       "      <td>256</td>\n",
       "      <td>251</td>\n",
       "      <td>884</td>\n",
       "      <td>151</td>\n",
       "    </tr>\n",
       "    <tr>\n",
       "      <th>251</th>\n",
       "      <td>252</td>\n",
       "      <td>968</td>\n",
       "      <td>9</td>\n",
       "      <td>80</td>\n",
       "      <td>204</td>\n",
       "      <td>252</td>\n",
       "      <td>582</td>\n",
       "      <td>390</td>\n",
       "    </tr>\n",
       "    <tr>\n",
       "      <th>252</th>\n",
       "      <td>253</td>\n",
       "      <td>1252</td>\n",
       "      <td>10</td>\n",
       "      <td>75</td>\n",
       "      <td>289</td>\n",
       "      <td>253</td>\n",
       "      <td>682</td>\n",
       "      <td>621</td>\n",
       "    </tr>\n",
       "    <tr>\n",
       "      <th>253</th>\n",
       "      <td>254</td>\n",
       "      <td>507</td>\n",
       "      <td>12</td>\n",
       "      <td>75</td>\n",
       "      <td>209</td>\n",
       "      <td>254</td>\n",
       "      <td>647</td>\n",
       "      <td>334</td>\n",
       "    </tr>\n",
       "    <tr>\n",
       "      <th>254</th>\n",
       "      <td>255</td>\n",
       "      <td>1214</td>\n",
       "      <td>11</td>\n",
       "      <td>75</td>\n",
       "      <td>204</td>\n",
       "      <td>255</td>\n",
       "      <td>621</td>\n",
       "      <td>545</td>\n",
       "    </tr>\n",
       "    <tr>\n",
       "      <th>255</th>\n",
       "      <td>256</td>\n",
       "      <td>1445</td>\n",
       "      <td>13</td>\n",
       "      <td>80</td>\n",
       "      <td>219</td>\n",
       "      <td>256</td>\n",
       "      <td>495</td>\n",
       "      <td>605</td>\n",
       "    </tr>\n",
       "    <tr>\n",
       "      <th>256</th>\n",
       "      <td>257</td>\n",
       "      <td>602</td>\n",
       "      <td>10</td>\n",
       "      <td>85</td>\n",
       "      <td>184</td>\n",
       "      <td>257</td>\n",
       "      <td>443</td>\n",
       "      <td>273</td>\n",
       "    </tr>\n",
       "    <tr>\n",
       "      <th>257</th>\n",
       "      <td>258</td>\n",
       "      <td>126</td>\n",
       "      <td>15</td>\n",
       "      <td>70</td>\n",
       "      <td>237</td>\n",
       "      <td>258</td>\n",
       "      <td>973</td>\n",
       "      <td>131</td>\n",
       "    </tr>\n",
       "    <tr>\n",
       "      <th>258</th>\n",
       "      <td>259</td>\n",
       "      <td>717</td>\n",
       "      <td>9</td>\n",
       "      <td>70</td>\n",
       "      <td>194</td>\n",
       "      <td>259</td>\n",
       "      <td>1047</td>\n",
       "      <td>270</td>\n",
       "    </tr>\n",
       "    <tr>\n",
       "      <th>259</th>\n",
       "      <td>260</td>\n",
       "      <td>1164</td>\n",
       "      <td>10</td>\n",
       "      <td>70</td>\n",
       "      <td>287</td>\n",
       "      <td>260</td>\n",
       "      <td>882</td>\n",
       "      <td>495</td>\n",
       "    </tr>\n",
       "    <tr>\n",
       "      <th>260</th>\n",
       "      <td>261</td>\n",
       "      <td>458</td>\n",
       "      <td>11</td>\n",
       "      <td>85</td>\n",
       "      <td>334</td>\n",
       "      <td>261</td>\n",
       "      <td>447</td>\n",
       "      <td>304</td>\n",
       "    </tr>\n",
       "    <tr>\n",
       "      <th>261</th>\n",
       "      <td>262</td>\n",
       "      <td>997</td>\n",
       "      <td>12</td>\n",
       "      <td>80</td>\n",
       "      <td>210</td>\n",
       "      <td>262</td>\n",
       "      <td>488</td>\n",
       "      <td>193</td>\n",
       "    </tr>\n",
       "  </tbody>\n",
       "</table>\n",
       "<p>262 rows × 8 columns</p>\n",
       "</div>"
      ],
      "text/plain": [
       "      id  content  des_len  diff    hit  id.1   solve  t_content\n",
       "0      1      187       25     5  13792     1  537234         85\n",
       "1      2      312       32     5   7571     2  438350        135\n",
       "2      3      111       17     5   6364     3  317208         65\n",
       "3      4      209       20     5   5414     4  285419        101\n",
       "4      5      206       24     5   4627     5  297082         70\n",
       "5      6      431       17     5   4524     6  298805        156\n",
       "6      7      137       16     5   3756     7  256030         62\n",
       "7      8     1255       30     5   4263     8  220371       1071\n",
       "8      9      229       46     5   4090     9  220702        157\n",
       "9     10      105       19     5   3710    10  202710         65\n",
       "10    11     1482       32     5   4511    11  149411       1344\n",
       "11    12      514       27     5   4275    12  137601        290\n",
       "12    13     5190       24     5   3412    13  143861       5123\n",
       "13    14      584       25     5   3791    14  142243        266\n",
       "14    15      209       29     5   2945    15  118253         76\n",
       "15    16      117       22     5   2877    16  145930         87\n",
       "16    17      497       29     5   3182    17   97022        248\n",
       "17    18      868       22     5   2944    18   94080        489\n",
       "18    19      509       24     5   2534    19   87112        219\n",
       "19    20      219       17     5   2610    20  130439        148\n",
       "20    21      467       22     5   2617    21   93685        287\n",
       "21    22      553       21     5   3138    22   86933        253\n",
       "22    23      936       27     5   3030    23   66177        304\n",
       "23    24      408       39     5   2875    24   74726        172\n",
       "24    25      383       30     5   2278    25  101009        221\n",
       "25    26      463       33     5   2322    26   53786        279\n",
       "26    27      803       24     5   2569    27   56461        379\n",
       "27    28      358       29     5   2104    28   72610        169\n",
       "28    29      462       32     5   2443    29   67676        307\n",
       "29    30      378       27     5   2093    30   71359        204\n",
       "..   ...      ...      ...   ...    ...   ...     ...        ...\n",
       "232  233      236       11    70    196   233    1404        123\n",
       "233  234      687       11    50    180   234    2378        336\n",
       "234  235      218       14    40    227   235    3677        127\n",
       "235  236     1285        9    80    183   236     645        444\n",
       "236  237      360       19    70    169   237    1045        184\n",
       "237  238     1207       13    75    209   238     672        646\n",
       "238  239      400       14    65    183   239    1236        137\n",
       "239  240      360       11    60    188   240    1513        221\n",
       "240  241      357        9    80    186   241     603        206\n",
       "241  242      564       11    75    185   242     708        346\n",
       "242  243      646       11    35    192   243    6335        291\n",
       "243  244      926       12    70    182   244     878        504\n",
       "244  245      540       11    80    181   245     554        272\n",
       "245  246      656       11    80    199   246     541        231\n",
       "246  247      650       14    65    184   247    1012        301\n",
       "247  248       86       18    70    192   248     856         74\n",
       "248  249      198       11    60    185   249    1712        102\n",
       "249  250      166       12    55    259   250    1961         95\n",
       "250  251      278       13    70    256   251     884        151\n",
       "251  252      968        9    80    204   252     582        390\n",
       "252  253     1252       10    75    289   253     682        621\n",
       "253  254      507       12    75    209   254     647        334\n",
       "254  255     1214       11    75    204   255     621        545\n",
       "255  256     1445       13    80    219   256     495        605\n",
       "256  257      602       10    85    184   257     443        273\n",
       "257  258      126       15    70    237   258     973        131\n",
       "258  259      717        9    70    194   259    1047        270\n",
       "259  260     1164       10    70    287   260     882        495\n",
       "260  261      458       11    85    334   261     447        304\n",
       "261  262      997       12    80    210   262     488        193\n",
       "\n",
       "[262 rows x 8 columns]"
      ]
     },
     "execution_count": 2,
     "metadata": {},
     "output_type": "execute_result"
    }
   ],
   "source": [
    "df"
   ]
  },
  {
   "cell_type": "code",
   "execution_count": 3,
   "metadata": {
    "collapsed": false
   },
   "outputs": [
    {
     "data": {
      "text/plain": [
       "[<matplotlib.lines.Line2D at 0xb49d390>]"
      ]
     },
     "execution_count": 3,
     "metadata": {},
     "output_type": "execute_result"
    },
    {
     "data": {
      "image/png": "[encoded data removed]",
      "text/plain": [
       "<matplotlib.figure.Figure at 0xb334c18>"
      ]
     },
     "metadata": {},
     "output_type": "display_data"
    }
   ],
   "source": [
    "fig,ax = plt.subplots(figsize=(8,6))\n",
    "ax.plot(df['solve'])"
   ]
  },
  {
   "cell_type": "code",
   "execution_count": 4,
   "metadata": {
    "collapsed": false
   },
   "outputs": [
    {
     "data": {
      "image/png": "[encoded data removed]",
      "text/plain": [
       "<matplotlib.figure.Figure at 0xb4e0080>"
      ]
     },
     "metadata": {},
     "output_type": "display_data"
    }
   ],
   "source": [
    "fig,ax = plt.subplots(figsize=(8,6))\n",
    "ax.plot(df['solve'])\n",
    "plt.yscale('log')"
   ]
  },
  {
   "cell_type": "code",
   "execution_count": 5,
   "metadata": {
    "collapsed": false
   },
   "outputs": [
    {
     "data": {
      "text/plain": [
       "0    537234\n",
       "1    438350\n",
       "2    317208\n",
       "3    285419\n",
       "4    297082\n",
       "Name: solve, dtype: int64"
      ]
     },
     "execution_count": 5,
     "metadata": {},
     "output_type": "execute_result"
    }
   ],
   "source": [
    "df['solve'].head()"
   ]
  },
  {
   "cell_type": "code",
   "execution_count": 6,
   "metadata": {
    "collapsed": false
   },
   "outputs": [
    {
     "data": {
      "text/plain": [
       "0         NaN\n",
       "1    537234.0\n",
       "2    438350.0\n",
       "3    317208.0\n",
       "4    285419.0\n",
       "Name: solve, dtype: float64"
      ]
     },
     "execution_count": 6,
     "metadata": {},
     "output_type": "execute_result"
    }
   ],
   "source": [
    "df['solve'].shift(1).head()"
   ]
  },
  {
   "cell_type": "code",
   "execution_count": 7,
   "metadata": {
    "collapsed": false
   },
   "outputs": [
    {
     "data": {
      "text/plain": [
       "0         NaN\n",
       "1    0.815939\n",
       "2    0.723641\n",
       "3    0.899785\n",
       "4    1.040863\n",
       "Name: solve, dtype: float64"
      ]
     },
     "execution_count": 7,
     "metadata": {},
     "output_type": "execute_result"
    }
   ],
   "source": [
    "(df['solve']/df['solve'].shift(1)).head()"
   ]
  },
  {
   "cell_type": "code",
   "execution_count": 8,
   "metadata": {
    "collapsed": false
   },
   "outputs": [
    {
     "data": {
      "text/plain": [
       "[<matplotlib.lines.Line2D at 0xc10a978>]"
      ]
     },
     "execution_count": 8,
     "metadata": {},
     "output_type": "execute_result"
    },
    {
     "data": {
      "image/png": "[encoded data removed]",
      "text/plain": [
       "<matplotlib.figure.Figure at 0xb7df588>"
      ]
     },
     "metadata": {},
     "output_type": "display_data"
    }
   ],
   "source": [
    "plt.plot(np.log(df['solve']/df['solve'].shift(1)))"
   ]
  },
  {
   "cell_type": "code",
   "execution_count": 9,
   "metadata": {
    "collapsed": true
   },
   "outputs": [],
   "source": [
    "ser = np.log(df['solve']/df['solve'].shift(1))[1:]"
   ]
  },
  {
   "cell_type": "code",
   "execution_count": 10,
   "metadata": {
    "collapsed": false
   },
   "outputs": [
    {
     "data": {
      "image/png": "[encoded data removed]",
      "text/plain": [
       "<matplotlib.figure.Figure at 0xc0ebbe0>"
      ]
     },
     "metadata": {},
     "output_type": "display_data"
    }
   ],
   "source": [
    "sm.graphics.tsa.plot_acf(ser, lags=40)\n",
    "plt.show()"
   ]
  },
  {
   "cell_type": "code",
   "execution_count": 11,
   "metadata": {
    "collapsed": false
   },
   "outputs": [
    {
     "data": {
      "image/png": "[encoded data removed]",
      "text/plain": [
       "<matplotlib.figure.Figure at 0xc11cf98>"
      ]
     },
     "metadata": {},
     "output_type": "display_data"
    }
   ],
   "source": [
    "sm.graphics.tsa.plot_pacf(ser, lags=40)\n",
    "plt.show()"
   ]
  },
  {
   "cell_type": "code",
   "execution_count": 12,
   "metadata": {
    "collapsed": false
   },
   "outputs": [
    {
     "data": {
      "text/plain": [
       "-0.026834764854078617"
      ]
     },
     "execution_count": 12,
     "metadata": {},
     "output_type": "execute_result"
    }
   ],
   "source": [
    "ser.mean()"
   ]
  },
  {
   "cell_type": "code",
   "execution_count": 13,
   "metadata": {
    "collapsed": false
   },
   "outputs": [
    {
     "data": {
      "text/plain": [
       "0.6418147031250282"
      ]
     },
     "execution_count": 13,
     "metadata": {},
     "output_type": "execute_result"
    }
   ],
   "source": [
    "ser.std()"
   ]
  },
  {
   "cell_type": "code",
   "execution_count": 14,
   "metadata": {
    "collapsed": false
   },
   "outputs": [
    {
     "data": {
      "image/png": "[encoded data removed]",
      "text/plain": [
       "<matplotlib.figure.Figure at 0xd10d860>"
      ]
     },
     "metadata": {},
     "output_type": "display_data"
    }
   ],
   "source": [
    "sm.graphics.tsa.plot_acf(df['content'],lags = 40)\n",
    "plt.show()"
   ]
  },
  {
   "cell_type": "code",
   "execution_count": 15,
   "metadata": {
    "collapsed": false
   },
   "outputs": [
    {
     "data": {
      "image/png": "[encoded data removed]",
      "text/plain": [
       "<matplotlib.figure.Figure at 0xbd410f0>"
      ]
     },
     "metadata": {},
     "output_type": "display_data"
    }
   ],
   "source": [
    "sm.graphics.tsa.plot_pacf(df['content'],lags = 40)\n",
    "plt.show()"
   ]
  },
  {
   "cell_type": "code",
   "execution_count": 16,
   "metadata": {
    "collapsed": false
   },
   "outputs": [],
   "source": [
    "ser2 = ser - ser.mean()"
   ]
  },
  {
   "cell_type": "code",
   "execution_count": 17,
   "metadata": {
    "collapsed": false
   },
   "outputs": [
    {
     "data": {
      "image/png": "[encoded data removed]",
      "text/plain": [
       "<matplotlib.figure.Figure at 0xd141710>"
      ]
     },
     "metadata": {},
     "output_type": "display_data"
    }
   ],
   "source": [
    "sm.graphics.tsa.plot_acf(ser2, lags=40)\n",
    "plt.show()"
   ]
  },
  {
   "cell_type": "code",
   "execution_count": 18,
   "metadata": {
    "collapsed": false
   },
   "outputs": [],
   "source": [
    "res = smf.ols('solve ~ id + diff',data=df).fit()"
   ]
  },
  {
   "cell_type": "code",
   "execution_count": 19,
   "metadata": {
    "collapsed": false
   },
   "outputs": [
    {
     "data": {
      "text/html": [
       "<table class=\"simpletable\">\n",
       "<caption>OLS Regression Results</caption>\n",
       "<tr>\n",
       "  <th>Dep. Variable:</th>          <td>solve</td>      <th>  R-squared:         </th> <td>   0.331</td>\n",
       "</tr>\n",
       "<tr>\n",
       "  <th>Model:</th>                   <td>OLS</td>       <th>  Adj. R-squared:    </th> <td>   0.325</td>\n",
       "</tr>\n",
       "<tr>\n",
       "  <th>Method:</th>             <td>Least Squares</td>  <th>  F-statistic:       </th> <td>   63.95</td>\n",
       "</tr>\n",
       "<tr>\n",
       "  <th>Date:</th>             <td>Tue, 11 Apr 2017</td> <th>  Prob (F-statistic):</th> <td>2.68e-23</td>\n",
       "</tr>\n",
       "<tr>\n",
       "  <th>Time:</th>                 <td>22:01:55</td>     <th>  Log-Likelihood:    </th> <td> -3224.6</td>\n",
       "</tr>\n",
       "<tr>\n",
       "  <th>No. Observations:</th>      <td>   262</td>      <th>  AIC:               </th> <td>   6455.</td>\n",
       "</tr>\n",
       "<tr>\n",
       "  <th>Df Residuals:</th>          <td>   259</td>      <th>  BIC:               </th> <td>   6466.</td>\n",
       "</tr>\n",
       "<tr>\n",
       "  <th>Df Model:</th>              <td>     2</td>      <th>                     </th>     <td> </td>   \n",
       "</tr>\n",
       "<tr>\n",
       "  <th>Covariance Type:</th>      <td>nonrobust</td>    <th>                     </th>     <td> </td>   \n",
       "</tr>\n",
       "</table>\n",
       "<table class=\"simpletable\">\n",
       "<tr>\n",
       "      <td></td>         <th>coef</th>     <th>std err</th>      <th>t</th>      <th>P>|t|</th> <th>[95.0% Conf. Int.]</th> \n",
       "</tr>\n",
       "<tr>\n",
       "  <th>Intercept</th> <td> 9.401e+04</td> <td> 6678.292</td> <td>   14.077</td> <td> 0.000</td> <td> 8.09e+04  1.07e+05</td>\n",
       "</tr>\n",
       "<tr>\n",
       "  <th>id</th>        <td> -479.7585</td> <td>   90.521</td> <td>   -5.300</td> <td> 0.000</td> <td> -658.008  -301.509</td>\n",
       "</tr>\n",
       "<tr>\n",
       "  <th>diff</th>      <td>  -60.2227</td> <td>  266.704</td> <td>   -0.226</td> <td> 0.822</td> <td> -585.406   464.961</td>\n",
       "</tr>\n",
       "</table>\n",
       "<table class=\"simpletable\">\n",
       "<tr>\n",
       "  <th>Omnibus:</th>       <td>270.575</td> <th>  Durbin-Watson:     </th> <td>   0.077</td>\n",
       "</tr>\n",
       "<tr>\n",
       "  <th>Prob(Omnibus):</th> <td> 0.000</td>  <th>  Jarque-Bera (JB):  </th> <td>8178.806</td>\n",
       "</tr>\n",
       "<tr>\n",
       "  <th>Skew:</th>          <td> 4.299</td>  <th>  Prob(JB):          </th> <td>    0.00</td>\n",
       "</tr>\n",
       "<tr>\n",
       "  <th>Kurtosis:</th>      <td>28.986</td>  <th>  Cond. No.          </th> <td>    317.</td>\n",
       "</tr>\n",
       "</table>"
      ],
      "text/plain": [
       "<class 'statsmodels.iolib.summary.Summary'>\n",
       "\"\"\"\n",
       "                            OLS Regression Results                            \n",
       "==============================================================================\n",
       "Dep. Variable:                  solve   R-squared:                       0.331\n",
       "Model:                            OLS   Adj. R-squared:                  0.325\n",
       "Method:                 Least Squares   F-statistic:                     63.95\n",
       "Date:                Tue, 11 Apr 2017   Prob (F-statistic):           2.68e-23\n",
       "Time:                        22:01:55   Log-Likelihood:                -3224.6\n",
       "No. Observations:                 262   AIC:                             6455.\n",
       "Df Residuals:                     259   BIC:                             6466.\n",
       "Df Model:                           2                                         \n",
       "Covariance Type:            nonrobust                                         \n",
       "==============================================================================\n",
       "                 coef    std err          t      P>|t|      [95.0% Conf. Int.]\n",
       "------------------------------------------------------------------------------\n",
       "Intercept   9.401e+04   6678.292     14.077      0.000      8.09e+04  1.07e+05\n",
       "id          -479.7585     90.521     -5.300      0.000      -658.008  -301.509\n",
       "diff         -60.2227    266.704     -0.226      0.822      -585.406   464.961\n",
       "==============================================================================\n",
       "Omnibus:                      270.575   Durbin-Watson:                   0.077\n",
       "Prob(Omnibus):                  0.000   Jarque-Bera (JB):             8178.806\n",
       "Skew:                           4.299   Prob(JB):                         0.00\n",
       "Kurtosis:                      28.986   Cond. No.                         317.\n",
       "==============================================================================\n",
       "\n",
       "Warnings:\n",
       "[1] Standard Errors assume that the covariance matrix of the errors is correctly specified.\n",
       "\"\"\""
      ]
     },
     "execution_count": 19,
     "metadata": {},
     "output_type": "execute_result"
    }
   ],
   "source": [
    "res.summary()"
   ]
  },
  {
   "cell_type": "code",
   "execution_count": 20,
   "metadata": {
    "collapsed": true
   },
   "outputs": [],
   "source": [
    "def to_latex(summary, width_scale=0.5, col_scale=0.5, \n",
    "             print_only=True, center = True):\n",
    "    header = '\\\\scalebox{{{}}}[{}]{{'.format(width_scale,col_scale)\n",
    "    tail = '}'\n",
    "    latex_list = []\n",
    "    for table in summary.tables:\n",
    "        latex = table.as_latex_tabular(center=False).replace('_','\\\\_')\n",
    "        latex_list.append('\\n'.join([header,latex,tail]))\n",
    "    latex = '\\n'.join(latex_list)\n",
    "    if center:\n",
    "        latex = '\\n'.join([r'\\begin{center}', latex, r'\\end{center}'])\n",
    "    if print_only:\n",
    "        print(latex)\n",
    "    else:\n",
    "        return latex\n"
   ]
  },
  {
   "cell_type": "code",
   "execution_count": 21,
   "metadata": {
    "collapsed": false
   },
   "outputs": [],
   "source": [
    "#to_latex(res.summary())"
   ]
  },
  {
   "cell_type": "code",
   "execution_count": 22,
   "metadata": {
    "collapsed": false
   },
   "outputs": [
    {
     "data": {
      "text/plain": [
       "[<matplotlib.lines.Line2D at 0xd676860>]"
      ]
     },
     "execution_count": 22,
     "metadata": {},
     "output_type": "execute_result"
    },
    {
     "data": {
      "image/png": "[encoded data removed]",
      "text/plain": [
       "<matplotlib.figure.Figure at 0xd1c2b70>"
      ]
     },
     "metadata": {},
     "output_type": "display_data"
    }
   ],
   "source": [
    "fig,ax = plt.subplots(figsize = (8,6))\n",
    "\n",
    "plt.plot(res.resid)"
   ]
  },
  {
   "cell_type": "code",
   "execution_count": 23,
   "metadata": {
    "collapsed": false
   },
   "outputs": [
    {
     "data": {
      "text/html": [
       "<table class=\"simpletable\">\n",
       "<caption>OLS Regression Results</caption>\n",
       "<tr>\n",
       "  <th>Dep. Variable:</th>       <td>log(solve)</td>    <th>  R-squared:         </th> <td>   0.943</td> \n",
       "</tr>\n",
       "<tr>\n",
       "  <th>Model:</th>                   <td>OLS</td>       <th>  Adj. R-squared:    </th> <td>   0.943</td> \n",
       "</tr>\n",
       "<tr>\n",
       "  <th>Method:</th>             <td>Least Squares</td>  <th>  F-statistic:       </th> <td>   2150.</td> \n",
       "</tr>\n",
       "<tr>\n",
       "  <th>Date:</th>             <td>Tue, 11 Apr 2017</td> <th>  Prob (F-statistic):</th> <td>4.94e-162</td>\n",
       "</tr>\n",
       "<tr>\n",
       "  <th>Time:</th>                 <td>22:01:55</td>     <th>  Log-Likelihood:    </th> <td> -128.21</td> \n",
       "</tr>\n",
       "<tr>\n",
       "  <th>No. Observations:</th>      <td>   262</td>      <th>  AIC:               </th> <td>   262.4</td> \n",
       "</tr>\n",
       "<tr>\n",
       "  <th>Df Residuals:</th>          <td>   259</td>      <th>  BIC:               </th> <td>   273.1</td> \n",
       "</tr>\n",
       "<tr>\n",
       "  <th>Df Model:</th>              <td>     2</td>      <th>                     </th>     <td> </td>    \n",
       "</tr>\n",
       "<tr>\n",
       "  <th>Covariance Type:</th>      <td>nonrobust</td>    <th>                     </th>     <td> </td>    \n",
       "</tr>\n",
       "</table>\n",
       "<table class=\"simpletable\">\n",
       "<tr>\n",
       "      <td></td>         <th>coef</th>     <th>std err</th>      <th>t</th>      <th>P>|t|</th> <th>[95.0% Conf. Int.]</th> \n",
       "</tr>\n",
       "<tr>\n",
       "  <th>Intercept</th> <td>   11.4369</td> <td>    0.049</td> <td>  232.406</td> <td> 0.000</td> <td>   11.340    11.534</td>\n",
       "</tr>\n",
       "<tr>\n",
       "  <th>id</th>        <td>   -0.0081</td> <td>    0.001</td> <td>  -12.179</td> <td> 0.000</td> <td>   -0.009    -0.007</td>\n",
       "</tr>\n",
       "<tr>\n",
       "  <th>diff</th>      <td>   -0.0407</td> <td>    0.002</td> <td>  -20.685</td> <td> 0.000</td> <td>   -0.045    -0.037</td>\n",
       "</tr>\n",
       "</table>\n",
       "<table class=\"simpletable\">\n",
       "<tr>\n",
       "  <th>Omnibus:</th>       <td>117.312</td> <th>  Durbin-Watson:     </th> <td>   0.197</td> \n",
       "</tr>\n",
       "<tr>\n",
       "  <th>Prob(Omnibus):</th> <td> 0.000</td>  <th>  Jarque-Bera (JB):  </th> <td> 466.808</td> \n",
       "</tr>\n",
       "<tr>\n",
       "  <th>Skew:</th>          <td> 1.888</td>  <th>  Prob(JB):          </th> <td>4.30e-102</td>\n",
       "</tr>\n",
       "<tr>\n",
       "  <th>Kurtosis:</th>      <td> 8.339</td>  <th>  Cond. No.          </th> <td>    317.</td> \n",
       "</tr>\n",
       "</table>"
      ],
      "text/plain": [
       "<class 'statsmodels.iolib.summary.Summary'>\n",
       "\"\"\"\n",
       "                            OLS Regression Results                            \n",
       "==============================================================================\n",
       "Dep. Variable:             log(solve)   R-squared:                       0.943\n",
       "Model:                            OLS   Adj. R-squared:                  0.943\n",
       "Method:                 Least Squares   F-statistic:                     2150.\n",
       "Date:                Tue, 11 Apr 2017   Prob (F-statistic):          4.94e-162\n",
       "Time:                        22:01:55   Log-Likelihood:                -128.21\n",
       "No. Observations:                 262   AIC:                             262.4\n",
       "Df Residuals:                     259   BIC:                             273.1\n",
       "Df Model:                           2                                         \n",
       "Covariance Type:            nonrobust                                         \n",
       "==============================================================================\n",
       "                 coef    std err          t      P>|t|      [95.0% Conf. Int.]\n",
       "------------------------------------------------------------------------------\n",
       "Intercept     11.4369      0.049    232.406      0.000        11.340    11.534\n",
       "id            -0.0081      0.001    -12.179      0.000        -0.009    -0.007\n",
       "diff          -0.0407      0.002    -20.685      0.000        -0.045    -0.037\n",
       "==============================================================================\n",
       "Omnibus:                      117.312   Durbin-Watson:                   0.197\n",
       "Prob(Omnibus):                  0.000   Jarque-Bera (JB):              466.808\n",
       "Skew:                           1.888   Prob(JB):                    4.30e-102\n",
       "Kurtosis:                       8.339   Cond. No.                         317.\n",
       "==============================================================================\n",
       "\n",
       "Warnings:\n",
       "[1] Standard Errors assume that the covariance matrix of the errors is correctly specified.\n",
       "\"\"\""
      ]
     },
     "execution_count": 23,
     "metadata": {},
     "output_type": "execute_result"
    }
   ],
   "source": [
    "from numpy import log\n",
    "\n",
    "res = smf.ols('log(solve) ~ id + diff',data=df).fit()\n",
    "res.summary()"
   ]
  },
  {
   "cell_type": "code",
   "execution_count": 24,
   "metadata": {
    "collapsed": false
   },
   "outputs": [],
   "source": [
    "#to_latex(res.summary())"
   ]
  },
  {
   "cell_type": "code",
   "execution_count": 25,
   "metadata": {
    "collapsed": false
   },
   "outputs": [
    {
     "data": {
      "text/plain": [
       "[<matplotlib.lines.Line2D at 0xd6e6828>]"
      ]
     },
     "execution_count": 25,
     "metadata": {},
     "output_type": "execute_result"
    },
    {
     "data": {
      "image/png": "[encoded data removed]",
      "text/plain": [
       "<matplotlib.figure.Figure at 0xd640278>"
      ]
     },
     "metadata": {},
     "output_type": "display_data"
    }
   ],
   "source": [
    "fig,ax = plt.subplots(figsize = (8,6))\n",
    "\n",
    "plt.plot(res.resid)"
   ]
  },
  {
   "cell_type": "code",
   "execution_count": 26,
   "metadata": {
    "collapsed": true
   },
   "outputs": [],
   "source": [
    "df['diff_mid'] = df['diff'] > 25\n",
    "df['diff_hard'] = df['diff'] > 50\n",
    "df['diff_S'] = df['diff'] > 70"
   ]
  },
  {
   "cell_type": "code",
   "execution_count": 27,
   "metadata": {
    "collapsed": false
   },
   "outputs": [
    {
     "data": {
      "text/html": [
       "<table class=\"simpletable\">\n",
       "<caption>OLS Regression Results</caption>\n",
       "<tr>\n",
       "  <th>Dep. Variable:</th>       <td>log(solve)</td>    <th>  R-squared:         </th> <td>   0.907</td> \n",
       "</tr>\n",
       "<tr>\n",
       "  <th>Model:</th>                   <td>OLS</td>       <th>  Adj. R-squared:    </th> <td>   0.906</td> \n",
       "</tr>\n",
       "<tr>\n",
       "  <th>Method:</th>             <td>Least Squares</td>  <th>  F-statistic:       </th> <td>   841.8</td> \n",
       "</tr>\n",
       "<tr>\n",
       "  <th>Date:</th>             <td>Tue, 11 Apr 2017</td> <th>  Prob (F-statistic):</th> <td>6.87e-133</td>\n",
       "</tr>\n",
       "<tr>\n",
       "  <th>Time:</th>                 <td>22:01:56</td>     <th>  Log-Likelihood:    </th> <td> -192.36</td> \n",
       "</tr>\n",
       "<tr>\n",
       "  <th>No. Observations:</th>      <td>   262</td>      <th>  AIC:               </th> <td>   392.7</td> \n",
       "</tr>\n",
       "<tr>\n",
       "  <th>Df Residuals:</th>          <td>   258</td>      <th>  BIC:               </th> <td>   407.0</td> \n",
       "</tr>\n",
       "<tr>\n",
       "  <th>Df Model:</th>              <td>     3</td>      <th>                     </th>     <td> </td>    \n",
       "</tr>\n",
       "<tr>\n",
       "  <th>Covariance Type:</th>      <td>nonrobust</td>    <th>                     </th>     <td> </td>    \n",
       "</tr>\n",
       "</table>\n",
       "<table class=\"simpletable\">\n",
       "<tr>\n",
       "          <td></td>             <th>coef</th>     <th>std err</th>      <th>t</th>      <th>P>|t|</th> <th>[95.0% Conf. Int.]</th> \n",
       "</tr>\n",
       "<tr>\n",
       "  <th>Intercept</th>         <td>   11.2770</td> <td>    0.066</td> <td>  169.869</td> <td> 0.000</td> <td>   11.146    11.408</td>\n",
       "</tr>\n",
       "<tr>\n",
       "  <th>diff_mid[T.True]</th>  <td>   -1.0259</td> <td>    0.102</td> <td>  -10.088</td> <td> 0.000</td> <td>   -1.226    -0.826</td>\n",
       "</tr>\n",
       "<tr>\n",
       "  <th>diff_hard[T.True]</th> <td>   -0.6194</td> <td>    0.092</td> <td>   -6.731</td> <td> 0.000</td> <td>   -0.801    -0.438</td>\n",
       "</tr>\n",
       "<tr>\n",
       "  <th>id</th>                <td>   -0.0124</td> <td>    0.001</td> <td>  -16.695</td> <td> 0.000</td> <td>   -0.014    -0.011</td>\n",
       "</tr>\n",
       "</table>\n",
       "<table class=\"simpletable\">\n",
       "<tr>\n",
       "  <th>Omnibus:</th>       <td>32.712</td> <th>  Durbin-Watson:     </th> <td>   0.774</td>\n",
       "</tr>\n",
       "<tr>\n",
       "  <th>Prob(Omnibus):</th> <td> 0.000</td> <th>  Jarque-Bera (JB):  </th> <td>  45.065</td>\n",
       "</tr>\n",
       "<tr>\n",
       "  <th>Skew:</th>          <td> 0.810</td> <th>  Prob(JB):          </th> <td>1.64e-10</td>\n",
       "</tr>\n",
       "<tr>\n",
       "  <th>Kurtosis:</th>      <td> 4.225</td> <th>  Cond. No.          </th> <td>    501.</td>\n",
       "</tr>\n",
       "</table>"
      ],
      "text/plain": [
       "<class 'statsmodels.iolib.summary.Summary'>\n",
       "\"\"\"\n",
       "                            OLS Regression Results                            \n",
       "==============================================================================\n",
       "Dep. Variable:             log(solve)   R-squared:                       0.907\n",
       "Model:                            OLS   Adj. R-squared:                  0.906\n",
       "Method:                 Least Squares   F-statistic:                     841.8\n",
       "Date:                Tue, 11 Apr 2017   Prob (F-statistic):          6.87e-133\n",
       "Time:                        22:01:56   Log-Likelihood:                -192.36\n",
       "No. Observations:                 262   AIC:                             392.7\n",
       "Df Residuals:                     258   BIC:                             407.0\n",
       "Df Model:                           3                                         \n",
       "Covariance Type:            nonrobust                                         \n",
       "=====================================================================================\n",
       "                        coef    std err          t      P>|t|      [95.0% Conf. Int.]\n",
       "-------------------------------------------------------------------------------------\n",
       "Intercept            11.2770      0.066    169.869      0.000        11.146    11.408\n",
       "diff_mid[T.True]     -1.0259      0.102    -10.088      0.000        -1.226    -0.826\n",
       "diff_hard[T.True]    -0.6194      0.092     -6.731      0.000        -0.801    -0.438\n",
       "id                   -0.0124      0.001    -16.695      0.000        -0.014    -0.011\n",
       "==============================================================================\n",
       "Omnibus:                       32.712   Durbin-Watson:                   0.774\n",
       "Prob(Omnibus):                  0.000   Jarque-Bera (JB):               45.065\n",
       "Skew:                           0.810   Prob(JB):                     1.64e-10\n",
       "Kurtosis:                       4.225   Cond. No.                         501.\n",
       "==============================================================================\n",
       "\n",
       "Warnings:\n",
       "[1] Standard Errors assume that the covariance matrix of the errors is correctly specified.\n",
       "\"\"\""
      ]
     },
     "execution_count": 27,
     "metadata": {},
     "output_type": "execute_result"
    }
   ],
   "source": [
    "res = smf.ols('log(solve) ~ id + diff_mid + diff_hard ',data=df).fit()\n",
    "res.summary()"
   ]
  },
  {
   "cell_type": "code",
   "execution_count": 28,
   "metadata": {
    "collapsed": false
   },
   "outputs": [
    {
     "data": {
      "text/plain": [
       "[<matplotlib.lines.Line2D at 0xbdcb978>]"
      ]
     },
     "execution_count": 28,
     "metadata": {},
     "output_type": "execute_result"
    },
    {
     "data": {
      "image/png": "[encoded data removed]",
      "text/plain": [
       "<matplotlib.figure.Figure at 0xd68a748>"
      ]
     },
     "metadata": {},
     "output_type": "display_data"
    }
   ],
   "source": [
    "fig,ax = plt.subplots(figsize = (8,6))\n",
    "\n",
    "plt.plot(res.resid)"
   ]
  },
  {
   "cell_type": "code",
   "execution_count": 29,
   "metadata": {
    "collapsed": false
   },
   "outputs": [],
   "source": [
    "#to_latex(res.summary())"
   ]
  },
  {
   "cell_type": "code",
   "execution_count": 30,
   "metadata": {
    "collapsed": false
   },
   "outputs": [
    {
     "data": {
      "text/html": [
       "<table class=\"simpletable\">\n",
       "<caption>OLS Regression Results</caption>\n",
       "<tr>\n",
       "  <th>Dep. Variable:</th>        <td>log(hit)</td>     <th>  R-squared:         </th> <td>   0.803</td>\n",
       "</tr>\n",
       "<tr>\n",
       "  <th>Model:</th>                   <td>OLS</td>       <th>  Adj. R-squared:    </th> <td>   0.802</td>\n",
       "</tr>\n",
       "<tr>\n",
       "  <th>Method:</th>             <td>Least Squares</td>  <th>  F-statistic:       </th> <td>   529.0</td>\n",
       "</tr>\n",
       "<tr>\n",
       "  <th>Date:</th>             <td>Tue, 11 Apr 2017</td> <th>  Prob (F-statistic):</th> <td>3.46e-92</td>\n",
       "</tr>\n",
       "<tr>\n",
       "  <th>Time:</th>                 <td>22:01:58</td>     <th>  Log-Likelihood:    </th> <td> -111.77</td>\n",
       "</tr>\n",
       "<tr>\n",
       "  <th>No. Observations:</th>      <td>   262</td>      <th>  AIC:               </th> <td>   229.5</td>\n",
       "</tr>\n",
       "<tr>\n",
       "  <th>Df Residuals:</th>          <td>   259</td>      <th>  BIC:               </th> <td>   240.2</td>\n",
       "</tr>\n",
       "<tr>\n",
       "  <th>Df Model:</th>              <td>     2</td>      <th>                     </th>     <td> </td>   \n",
       "</tr>\n",
       "<tr>\n",
       "  <th>Covariance Type:</th>      <td>nonrobust</td>    <th>                     </th>     <td> </td>   \n",
       "</tr>\n",
       "</table>\n",
       "<table class=\"simpletable\">\n",
       "<tr>\n",
       "      <td></td>         <th>coef</th>     <th>std err</th>      <th>t</th>      <th>P>|t|</th> <th>[95.0% Conf. Int.]</th> \n",
       "</tr>\n",
       "<tr>\n",
       "  <th>Intercept</th> <td>    8.2747</td> <td>    0.046</td> <td>  179.042</td> <td> 0.000</td> <td>    8.184     8.366</td>\n",
       "</tr>\n",
       "<tr>\n",
       "  <th>id</th>        <td>   -0.0111</td> <td>    0.001</td> <td>  -17.705</td> <td> 0.000</td> <td>   -0.012    -0.010</td>\n",
       "</tr>\n",
       "<tr>\n",
       "  <th>diff</th>      <td>    0.0041</td> <td>    0.002</td> <td>    2.207</td> <td> 0.028</td> <td>    0.000     0.008</td>\n",
       "</tr>\n",
       "</table>\n",
       "<table class=\"simpletable\">\n",
       "<tr>\n",
       "  <th>Omnibus:</th>       <td> 0.793</td> <th>  Durbin-Watson:     </th> <td>   0.319</td>\n",
       "</tr>\n",
       "<tr>\n",
       "  <th>Prob(Omnibus):</th> <td> 0.673</td> <th>  Jarque-Bera (JB):  </th> <td>   0.642</td>\n",
       "</tr>\n",
       "<tr>\n",
       "  <th>Skew:</th>          <td> 0.118</td> <th>  Prob(JB):          </th> <td>   0.726</td>\n",
       "</tr>\n",
       "<tr>\n",
       "  <th>Kurtosis:</th>      <td> 3.054</td> <th>  Cond. No.          </th> <td>    317.</td>\n",
       "</tr>\n",
       "</table>"
      ],
      "text/plain": [
       "<class 'statsmodels.iolib.summary.Summary'>\n",
       "\"\"\"\n",
       "                            OLS Regression Results                            \n",
       "==============================================================================\n",
       "Dep. Variable:               log(hit)   R-squared:                       0.803\n",
       "Model:                            OLS   Adj. R-squared:                  0.802\n",
       "Method:                 Least Squares   F-statistic:                     529.0\n",
       "Date:                Tue, 11 Apr 2017   Prob (F-statistic):           3.46e-92\n",
       "Time:                        22:01:58   Log-Likelihood:                -111.77\n",
       "No. Observations:                 262   AIC:                             229.5\n",
       "Df Residuals:                     259   BIC:                             240.2\n",
       "Df Model:                           2                                         \n",
       "Covariance Type:            nonrobust                                         \n",
       "==============================================================================\n",
       "                 coef    std err          t      P>|t|      [95.0% Conf. Int.]\n",
       "------------------------------------------------------------------------------\n",
       "Intercept      8.2747      0.046    179.042      0.000         8.184     8.366\n",
       "id            -0.0111      0.001    -17.705      0.000        -0.012    -0.010\n",
       "diff           0.0041      0.002      2.207      0.028         0.000     0.008\n",
       "==============================================================================\n",
       "Omnibus:                        0.793   Durbin-Watson:                   0.319\n",
       "Prob(Omnibus):                  0.673   Jarque-Bera (JB):                0.642\n",
       "Skew:                           0.118   Prob(JB):                        0.726\n",
       "Kurtosis:                       3.054   Cond. No.                         317.\n",
       "==============================================================================\n",
       "\n",
       "Warnings:\n",
       "[1] Standard Errors assume that the covariance matrix of the errors is correctly specified.\n",
       "\"\"\""
      ]
     },
     "execution_count": 30,
     "metadata": {},
     "output_type": "execute_result"
    }
   ],
   "source": [
    "res = smf.ols('log(hit) ~ id + diff ',data=df).fit()\n",
    "res.summary()"
   ]
  },
  {
   "cell_type": "code",
   "execution_count": 31,
   "metadata": {
    "collapsed": false
   },
   "outputs": [
    {
     "data": {
      "text/plain": [
       "[<matplotlib.lines.Line2D at 0xbd06080>]"
      ]
     },
     "execution_count": 31,
     "metadata": {},
     "output_type": "execute_result"
    },
    {
     "data": {
      "image/png": "[encoded data removed]",
      "text/plain": [
       "<matplotlib.figure.Figure at 0xd13e208>"
      ]
     },
     "metadata": {},
     "output_type": "display_data"
    }
   ],
   "source": [
    "plt.plot(res.resid)"
   ]
  },
  {
   "cell_type": "code",
   "execution_count": 32,
   "metadata": {
    "collapsed": false
   },
   "outputs": [
    {
     "data": {
      "text/plain": [
       "[<matplotlib.lines.Line2D at 0xb7a5588>]"
      ]
     },
     "execution_count": 32,
     "metadata": {},
     "output_type": "execute_result"
    },
    {
     "data": {
      "image/png": "[encoded data removed]",
      "text/plain": [
       "<matplotlib.figure.Figure at 0xc0e6e48>"
      ]
     },
     "metadata": {},
     "output_type": "display_data"
    }
   ],
   "source": [
    "plt.plot(df['hit'])"
   ]
  },
  {
   "cell_type": "code",
   "execution_count": 33,
   "metadata": {
    "collapsed": false
   },
   "outputs": [
    {
     "data": {
      "image/png": "[encoded data removed]",
      "text/plain": [
       "<matplotlib.figure.Figure at 0xb7950f0>"
      ]
     },
     "metadata": {},
     "output_type": "display_data"
    }
   ],
   "source": [
    "fig,ax = plt.subplots(figsize=(8,6))\n",
    "ax.plot(df['hit'])\n",
    "plt.yscale('log')"
   ]
  },
  {
   "cell_type": "code",
   "execution_count": 34,
   "metadata": {
    "collapsed": false
   },
   "outputs": [
    {
     "data": {
      "text/plain": [
       "212    787\n",
       "213    800\n",
       "214    717\n",
       "215    761\n",
       "216    764\n",
       "217    742\n",
       "218    697\n",
       "219    718\n",
       "220    660\n",
       "221    942\n",
       "222    231\n",
       "223    182\n",
       "224    193\n",
       "225    191\n",
       "226    186\n",
       "227    189\n",
       "228    203\n",
       "229    213\n",
       "230    189\n",
       "231    214\n",
       "232    196\n",
       "233    180\n",
       "234    227\n",
       "235    183\n",
       "236    169\n",
       "237    209\n",
       "238    183\n",
       "239    188\n",
       "240    186\n",
       "241    185\n",
       "242    192\n",
       "243    182\n",
       "244    181\n",
       "245    199\n",
       "246    184\n",
       "247    192\n",
       "248    185\n",
       "249    259\n",
       "250    256\n",
       "251    204\n",
       "252    289\n",
       "253    209\n",
       "254    204\n",
       "255    219\n",
       "256    184\n",
       "257    237\n",
       "258    194\n",
       "259    287\n",
       "260    334\n",
       "261    210\n",
       "Name: hit, dtype: int64"
      ]
     },
     "execution_count": 34,
     "metadata": {},
     "output_type": "execute_result"
    }
   ],
   "source": [
    "df['hit'].tail(50)"
   ]
  },
  {
   "cell_type": "code",
   "execution_count": 35,
   "metadata": {
    "collapsed": false
   },
   "outputs": [
    {
     "data": {
      "text/plain": [
       "212    1577\n",
       "213    3669\n",
       "214    2555\n",
       "215    2760\n",
       "216     992\n",
       "217    2085\n",
       "218    1047\n",
       "219    1636\n",
       "220    1412\n",
       "221    1432\n",
       "222     958\n",
       "223     783\n",
       "224    3106\n",
       "225    1228\n",
       "226    1428\n",
       "227     923\n",
       "228    1002\n",
       "229    2070\n",
       "230    3844\n",
       "231    1191\n",
       "232    1404\n",
       "233    2378\n",
       "234    3677\n",
       "235     645\n",
       "236    1045\n",
       "237     672\n",
       "238    1236\n",
       "239    1513\n",
       "240     603\n",
       "241     708\n",
       "242    6335\n",
       "243     878\n",
       "244     554\n",
       "245     541\n",
       "246    1012\n",
       "247     856\n",
       "248    1712\n",
       "249    1961\n",
       "250     884\n",
       "251     582\n",
       "252     682\n",
       "253     647\n",
       "254     621\n",
       "255     495\n",
       "256     443\n",
       "257     973\n",
       "258    1047\n",
       "259     882\n",
       "260     447\n",
       "261     488\n",
       "Name: solve, dtype: int64"
      ]
     },
     "execution_count": 35,
     "metadata": {},
     "output_type": "execute_result"
    }
   ],
   "source": [
    "df['solve'].tail(50)"
   ]
  },
  {
   "cell_type": "code",
   "execution_count": 36,
   "metadata": {
    "collapsed": false
   },
   "outputs": [
    {
     "data": {
      "text/html": [
       "<table class=\"simpletable\">\n",
       "<caption>OLS Regression Results</caption>\n",
       "<tr>\n",
       "  <th>Dep. Variable:</th>           <td>hit</td>       <th>  R-squared:         </th> <td>   0.874</td>\n",
       "</tr>\n",
       "<tr>\n",
       "  <th>Model:</th>                   <td>OLS</td>       <th>  Adj. R-squared:    </th> <td>   0.873</td>\n",
       "</tr>\n",
       "<tr>\n",
       "  <th>Method:</th>             <td>Least Squares</td>  <th>  F-statistic:       </th> <td>   1375.</td>\n",
       "</tr>\n",
       "<tr>\n",
       "  <th>Date:</th>             <td>Tue, 11 Apr 2017</td> <th>  Prob (F-statistic):</th> <td>4.85e-91</td>\n",
       "</tr>\n",
       "<tr>\n",
       "  <th>Time:</th>                 <td>22:02:00</td>     <th>  Log-Likelihood:    </th> <td> -1511.6</td>\n",
       "</tr>\n",
       "<tr>\n",
       "  <th>No. Observations:</th>      <td>   200</td>      <th>  AIC:               </th> <td>   3027.</td>\n",
       "</tr>\n",
       "<tr>\n",
       "  <th>Df Residuals:</th>          <td>   198</td>      <th>  BIC:               </th> <td>   3034.</td>\n",
       "</tr>\n",
       "<tr>\n",
       "  <th>Df Model:</th>              <td>     1</td>      <th>                     </th>     <td> </td>   \n",
       "</tr>\n",
       "<tr>\n",
       "  <th>Covariance Type:</th>      <td>nonrobust</td>    <th>                     </th>     <td> </td>   \n",
       "</tr>\n",
       "</table>\n",
       "<table class=\"simpletable\">\n",
       "<tr>\n",
       "      <td></td>         <th>coef</th>     <th>std err</th>      <th>t</th>      <th>P>|t|</th> <th>[95.0% Conf. Int.]</th> \n",
       "</tr>\n",
       "<tr>\n",
       "  <th>Intercept</th> <td> 1144.9051</td> <td>   36.906</td> <td>   31.022</td> <td> 0.000</td> <td> 1072.126  1217.684</td>\n",
       "</tr>\n",
       "<tr>\n",
       "  <th>solve</th>     <td>    0.0167</td> <td>    0.000</td> <td>   37.076</td> <td> 0.000</td> <td>    0.016     0.018</td>\n",
       "</tr>\n",
       "</table>\n",
       "<table class=\"simpletable\">\n",
       "<tr>\n",
       "  <th>Omnibus:</th>       <td>134.173</td> <th>  Durbin-Watson:     </th> <td>   1.277</td>\n",
       "</tr>\n",
       "<tr>\n",
       "  <th>Prob(Omnibus):</th> <td> 0.000</td>  <th>  Jarque-Bera (JB):  </th> <td>3312.519</td>\n",
       "</tr>\n",
       "<tr>\n",
       "  <th>Skew:</th>          <td> 2.056</td>  <th>  Prob(JB):          </th> <td>    0.00</td>\n",
       "</tr>\n",
       "<tr>\n",
       "  <th>Kurtosis:</th>      <td>22.509</td>  <th>  Cond. No.          </th> <td>9.16e+04</td>\n",
       "</tr>\n",
       "</table>"
      ],
      "text/plain": [
       "<class 'statsmodels.iolib.summary.Summary'>\n",
       "\"\"\"\n",
       "                            OLS Regression Results                            \n",
       "==============================================================================\n",
       "Dep. Variable:                    hit   R-squared:                       0.874\n",
       "Model:                            OLS   Adj. R-squared:                  0.873\n",
       "Method:                 Least Squares   F-statistic:                     1375.\n",
       "Date:                Tue, 11 Apr 2017   Prob (F-statistic):           4.85e-91\n",
       "Time:                        22:02:00   Log-Likelihood:                -1511.6\n",
       "No. Observations:                 200   AIC:                             3027.\n",
       "Df Residuals:                     198   BIC:                             3034.\n",
       "Df Model:                           1                                         \n",
       "Covariance Type:            nonrobust                                         \n",
       "==============================================================================\n",
       "                 coef    std err          t      P>|t|      [95.0% Conf. Int.]\n",
       "------------------------------------------------------------------------------\n",
       "Intercept   1144.9051     36.906     31.022      0.000      1072.126  1217.684\n",
       "solve          0.0167      0.000     37.076      0.000         0.016     0.018\n",
       "==============================================================================\n",
       "Omnibus:                      134.173   Durbin-Watson:                   1.277\n",
       "Prob(Omnibus):                  0.000   Jarque-Bera (JB):             3312.519\n",
       "Skew:                           2.056   Prob(JB):                         0.00\n",
       "Kurtosis:                      22.509   Cond. No.                     9.16e+04\n",
       "==============================================================================\n",
       "\n",
       "Warnings:\n",
       "[1] Standard Errors assume that the covariance matrix of the errors is correctly specified.\n",
       "[2] The condition number is large, 9.16e+04. This might indicate that there are\n",
       "strong multicollinearity or other numerical problems.\n",
       "\"\"\""
      ]
     },
     "execution_count": 36,
     "metadata": {},
     "output_type": "execute_result"
    }
   ],
   "source": [
    "res = smf.ols('hit ~ solve',data=df.head(200)).fit()\n",
    "res.summary()"
   ]
  },
  {
   "cell_type": "code",
   "execution_count": 37,
   "metadata": {
    "collapsed": false
   },
   "outputs": [
    {
     "data": {
      "text/plain": [
       "[<matplotlib.lines.Line2D at 0xdc7b358>]"
      ]
     },
     "execution_count": 37,
     "metadata": {},
     "output_type": "execute_result"
    },
    {
     "data": {
      "image/png": "[encoded data removed]",
      "text/plain": [
       "<matplotlib.figure.Figure at 0xbdeba58>"
      ]
     },
     "metadata": {},
     "output_type": "display_data"
    }
   ],
   "source": [
    "plt.plot(res.resid)"
   ]
  },
  {
   "cell_type": "code",
   "execution_count": 38,
   "metadata": {
    "collapsed": false
   },
   "outputs": [
    {
     "data": {
      "text/html": [
       "<table class=\"simpletable\">\n",
       "<caption>OLS Regression Results</caption>\n",
       "<tr>\n",
       "  <th>Dep. Variable:</th>           <td>hit</td>       <th>  R-squared:         </th> <td>   0.829</td> \n",
       "</tr>\n",
       "<tr>\n",
       "  <th>Model:</th>                   <td>OLS</td>       <th>  Adj. R-squared:    </th> <td>   0.829</td> \n",
       "</tr>\n",
       "<tr>\n",
       "  <th>Method:</th>             <td>Least Squares</td>  <th>  F-statistic:       </th> <td>   1264.</td> \n",
       "</tr>\n",
       "<tr>\n",
       "  <th>Date:</th>             <td>Tue, 11 Apr 2017</td> <th>  Prob (F-statistic):</th> <td>7.84e-102</td>\n",
       "</tr>\n",
       "<tr>\n",
       "  <th>Time:</th>                 <td>22:02:01</td>     <th>  Log-Likelihood:    </th> <td> -2015.4</td> \n",
       "</tr>\n",
       "<tr>\n",
       "  <th>No. Observations:</th>      <td>   262</td>      <th>  AIC:               </th> <td>   4035.</td> \n",
       "</tr>\n",
       "<tr>\n",
       "  <th>Df Residuals:</th>          <td>   260</td>      <th>  BIC:               </th> <td>   4042.</td> \n",
       "</tr>\n",
       "<tr>\n",
       "  <th>Df Model:</th>              <td>     1</td>      <th>                     </th>     <td> </td>    \n",
       "</tr>\n",
       "<tr>\n",
       "  <th>Covariance Type:</th>      <td>nonrobust</td>    <th>                     </th>     <td> </td>    \n",
       "</tr>\n",
       "</table>\n",
       "<table class=\"simpletable\">\n",
       "<tr>\n",
       "      <td></td>         <th>coef</th>     <th>std err</th>      <th>t</th>      <th>P>|t|</th> <th>[95.0% Conf. Int.]</th> \n",
       "</tr>\n",
       "<tr>\n",
       "  <th>Intercept</th> <td>  933.3706</td> <td>   35.895</td> <td>   26.003</td> <td> 0.000</td> <td>  862.689  1004.052</td>\n",
       "</tr>\n",
       "<tr>\n",
       "  <th>solve</th>     <td>    0.0179</td> <td>    0.001</td> <td>   35.552</td> <td> 0.000</td> <td>    0.017     0.019</td>\n",
       "</tr>\n",
       "</table>\n",
       "<table class=\"simpletable\">\n",
       "<tr>\n",
       "  <th>Omnibus:</th>       <td>45.741</td> <th>  Durbin-Watson:     </th> <td>   0.774</td>\n",
       "</tr>\n",
       "<tr>\n",
       "  <th>Prob(Omnibus):</th> <td> 0.000</td> <th>  Jarque-Bera (JB):  </th> <td> 307.239</td>\n",
       "</tr>\n",
       "<tr>\n",
       "  <th>Skew:</th>          <td> 0.428</td> <th>  Prob(JB):          </th> <td>1.92e-67</td>\n",
       "</tr>\n",
       "<tr>\n",
       "  <th>Kurtosis:</th>      <td> 8.236</td> <th>  Cond. No.          </th> <td>7.80e+04</td>\n",
       "</tr>\n",
       "</table>"
      ],
      "text/plain": [
       "<class 'statsmodels.iolib.summary.Summary'>\n",
       "\"\"\"\n",
       "                            OLS Regression Results                            \n",
       "==============================================================================\n",
       "Dep. Variable:                    hit   R-squared:                       0.829\n",
       "Model:                            OLS   Adj. R-squared:                  0.829\n",
       "Method:                 Least Squares   F-statistic:                     1264.\n",
       "Date:                Tue, 11 Apr 2017   Prob (F-statistic):          7.84e-102\n",
       "Time:                        22:02:01   Log-Likelihood:                -2015.4\n",
       "No. Observations:                 262   AIC:                             4035.\n",
       "Df Residuals:                     260   BIC:                             4042.\n",
       "Df Model:                           1                                         \n",
       "Covariance Type:            nonrobust                                         \n",
       "==============================================================================\n",
       "                 coef    std err          t      P>|t|      [95.0% Conf. Int.]\n",
       "------------------------------------------------------------------------------\n",
       "Intercept    933.3706     35.895     26.003      0.000       862.689  1004.052\n",
       "solve          0.0179      0.001     35.552      0.000         0.017     0.019\n",
       "==============================================================================\n",
       "Omnibus:                       45.741   Durbin-Watson:                   0.774\n",
       "Prob(Omnibus):                  0.000   Jarque-Bera (JB):              307.239\n",
       "Skew:                           0.428   Prob(JB):                     1.92e-67\n",
       "Kurtosis:                       8.236   Cond. No.                     7.80e+04\n",
       "==============================================================================\n",
       "\n",
       "Warnings:\n",
       "[1] Standard Errors assume that the covariance matrix of the errors is correctly specified.\n",
       "[2] The condition number is large, 7.8e+04. This might indicate that there are\n",
       "strong multicollinearity or other numerical problems.\n",
       "\"\"\""
      ]
     },
     "execution_count": 38,
     "metadata": {},
     "output_type": "execute_result"
    }
   ],
   "source": [
    "res = smf.ols('hit ~ solve',data=df).fit()\n",
    "res.summary()"
   ]
  },
  {
   "cell_type": "code",
   "execution_count": 39,
   "metadata": {
    "collapsed": false
   },
   "outputs": [
    {
     "data": {
      "text/plain": [
       "[<matplotlib.lines.Line2D at 0xb50aeb8>]"
      ]
     },
     "execution_count": 39,
     "metadata": {},
     "output_type": "execute_result"
    },
    {
     "data": {
      "image/png": "[encoded data removed]",
      "text/plain": [
       "<matplotlib.figure.Figure at 0xd121908>"
      ]
     },
     "metadata": {},
     "output_type": "display_data"
    }
   ],
   "source": [
    "plt.plot(res.resid)"
   ]
  },
  {
   "cell_type": "code",
   "execution_count": 40,
   "metadata": {
    "collapsed": false
   },
   "outputs": [
    {
     "data": {
      "text/html": [
       "<table class=\"simpletable\">\n",
       "<caption>OLS Regression Results</caption>\n",
       "<tr>\n",
       "  <th>Dep. Variable:</th>        <td>log(hit)</td>     <th>  R-squared:         </th> <td>   0.799</td>\n",
       "</tr>\n",
       "<tr>\n",
       "  <th>Model:</th>                   <td>OLS</td>       <th>  Adj. R-squared:    </th> <td>   0.798</td>\n",
       "</tr>\n",
       "<tr>\n",
       "  <th>Method:</th>             <td>Least Squares</td>  <th>  F-statistic:       </th> <td>   787.0</td>\n",
       "</tr>\n",
       "<tr>\n",
       "  <th>Date:</th>             <td>Tue, 11 Apr 2017</td> <th>  Prob (F-statistic):</th> <td>6.60e-71</td>\n",
       "</tr>\n",
       "<tr>\n",
       "  <th>Time:</th>                 <td>22:02:02</td>     <th>  Log-Likelihood:    </th> <td>  25.677</td>\n",
       "</tr>\n",
       "<tr>\n",
       "  <th>No. Observations:</th>      <td>   200</td>      <th>  AIC:               </th> <td>  -47.35</td>\n",
       "</tr>\n",
       "<tr>\n",
       "  <th>Df Residuals:</th>          <td>   198</td>      <th>  BIC:               </th> <td>  -40.76</td>\n",
       "</tr>\n",
       "<tr>\n",
       "  <th>Df Model:</th>              <td>     1</td>      <th>                     </th>     <td> </td>   \n",
       "</tr>\n",
       "<tr>\n",
       "  <th>Covariance Type:</th>      <td>nonrobust</td>    <th>                     </th>     <td> </td>   \n",
       "</tr>\n",
       "</table>\n",
       "<table class=\"simpletable\">\n",
       "<tr>\n",
       "       <td></td>         <th>coef</th>     <th>std err</th>      <th>t</th>      <th>P>|t|</th> <th>[95.0% Conf. Int.]</th> \n",
       "</tr>\n",
       "<tr>\n",
       "  <th>Intercept</th>  <td>    4.7823</td> <td>    0.092</td> <td>   51.866</td> <td> 0.000</td> <td>    4.600     4.964</td>\n",
       "</tr>\n",
       "<tr>\n",
       "  <th>log(solve)</th> <td>    0.2744</td> <td>    0.010</td> <td>   28.054</td> <td> 0.000</td> <td>    0.255     0.294</td>\n",
       "</tr>\n",
       "</table>\n",
       "<table class=\"simpletable\">\n",
       "<tr>\n",
       "  <th>Omnibus:</th>       <td>36.380</td> <th>  Durbin-Watson:     </th> <td>   1.453</td>\n",
       "</tr>\n",
       "<tr>\n",
       "  <th>Prob(Omnibus):</th> <td> 0.000</td> <th>  Jarque-Bera (JB):  </th> <td>  93.928</td>\n",
       "</tr>\n",
       "<tr>\n",
       "  <th>Skew:</th>          <td> 0.775</td> <th>  Prob(JB):          </th> <td>4.02e-21</td>\n",
       "</tr>\n",
       "<tr>\n",
       "  <th>Kurtosis:</th>      <td> 5.978</td> <th>  Cond. No.          </th> <td>    58.1</td>\n",
       "</tr>\n",
       "</table>"
      ],
      "text/plain": [
       "<class 'statsmodels.iolib.summary.Summary'>\n",
       "\"\"\"\n",
       "                            OLS Regression Results                            \n",
       "==============================================================================\n",
       "Dep. Variable:               log(hit)   R-squared:                       0.799\n",
       "Model:                            OLS   Adj. R-squared:                  0.798\n",
       "Method:                 Least Squares   F-statistic:                     787.0\n",
       "Date:                Tue, 11 Apr 2017   Prob (F-statistic):           6.60e-71\n",
       "Time:                        22:02:02   Log-Likelihood:                 25.677\n",
       "No. Observations:                 200   AIC:                            -47.35\n",
       "Df Residuals:                     198   BIC:                            -40.76\n",
       "Df Model:                           1                                         \n",
       "Covariance Type:            nonrobust                                         \n",
       "==============================================================================\n",
       "                 coef    std err          t      P>|t|      [95.0% Conf. Int.]\n",
       "------------------------------------------------------------------------------\n",
       "Intercept      4.7823      0.092     51.866      0.000         4.600     4.964\n",
       "log(solve)     0.2744      0.010     28.054      0.000         0.255     0.294\n",
       "==============================================================================\n",
       "Omnibus:                       36.380   Durbin-Watson:                   1.453\n",
       "Prob(Omnibus):                  0.000   Jarque-Bera (JB):               93.928\n",
       "Skew:                           0.775   Prob(JB):                     4.02e-21\n",
       "Kurtosis:                       5.978   Cond. No.                         58.1\n",
       "==============================================================================\n",
       "\n",
       "Warnings:\n",
       "[1] Standard Errors assume that the covariance matrix of the errors is correctly specified.\n",
       "\"\"\""
      ]
     },
     "execution_count": 40,
     "metadata": {},
     "output_type": "execute_result"
    }
   ],
   "source": [
    "res = smf.ols('log(hit) ~ log(solve)',data=df.head(200)).fit()\n",
    "res.summary()"
   ]
  },
  {
   "cell_type": "code",
   "execution_count": 41,
   "metadata": {
    "collapsed": false
   },
   "outputs": [
    {
     "data": {
      "text/plain": [
       "[<matplotlib.lines.Line2D at 0xd117dd8>]"
      ]
     },
     "execution_count": 41,
     "metadata": {},
     "output_type": "execute_result"
    },
    {
     "data": {
      "image/png": "[encoded data removed]",
      "text/plain": [
       "<matplotlib.figure.Figure at 0xc0dbf28>"
      ]
     },
     "metadata": {},
     "output_type": "display_data"
    }
   ],
   "source": [
    "plt.plot(res.resid)"
   ]
  },
  {
   "cell_type": "code",
   "execution_count": 46,
   "metadata": {
    "collapsed": false
   },
   "outputs": [
    {
     "name": "stdout",
     "output_type": "stream",
     "text": [
      "\\begin{tabular}{lrrrrrrrr}\n",
      "\\toprule\n",
      "{} &  id &  content &  des\\_len &  diff &    hit &  id.1 &   solve &  t\\_content \\\\\n",
      "\\midrule\n",
      "0 &   1 &      187 &       25 &     5 &  13792 &     1 &  537234 &         85 \\\\\n",
      "1 &   2 &      312 &       32 &     5 &   7571 &     2 &  438350 &        135 \\\\\n",
      "2 &   3 &      111 &       17 &     5 &   6364 &     3 &  317208 &         65 \\\\\n",
      "3 &   4 &      209 &       20 &     5 &   5414 &     4 &  285419 &        101 \\\\\n",
      "4 &   5 &      206 &       24 &     5 &   4627 &     5 &  297082 &         70 \\\\\n",
      "\\bottomrule\n",
      "\\end{tabular}\n",
      "\n"
     ]
    }
   ],
   "source": [
    "df2 = pd.read_csv(data_file_name)\n",
    "#print(df2.head().to_latex())"
   ]
  },
  {
   "cell_type": "code",
   "execution_count": 50,
   "metadata": {
    "collapsed": true
   },
   "outputs": [],
   "source": [
    "del df2['id.1']"
   ]
  },
  {
   "cell_type": "code",
   "execution_count": 52,
   "metadata": {
    "collapsed": false
   },
   "outputs": [
    {
     "name": "stdout",
     "output_type": "stream",
     "text": [
      "\\begin{tabular}{lrrrrrrr}\n",
      "\\toprule\n",
      "{} &  id &  content &  des\\_len &  diff &    hit &   solve &  t\\_content \\\\\n",
      "\\midrule\n",
      "0 &   1 &      187 &       25 &     5 &  13792 &  537234 &         85 \\\\\n",
      "1 &   2 &      312 &       32 &     5 &   7571 &  438350 &        135 \\\\\n",
      "2 &   3 &      111 &       17 &     5 &   6364 &  317208 &         65 \\\\\n",
      "3 &   4 &      209 &       20 &     5 &   5414 &  285419 &        101 \\\\\n",
      "4 &   5 &      206 &       24 &     5 &   4627 &  297082 &         70 \\\\\n",
      "\\bottomrule\n",
      "\\end{tabular}\n",
      "\n"
     ]
    }
   ],
   "source": [
    "#print(df2.head().to_latex())"
   ]
  },
  {
   "cell_type": "code",
   "execution_count": null,
   "metadata": {
    "collapsed": true
   },
   "outputs": [],
   "source": []
  }
 ],
 "metadata": {
  "kernelspec": {
   "display_name": "Python [Root]",
   "language": "python",
   "name": "Python [Root]"
  },
  "language_info": {
   "codemirror_mode": {
    "name": "ipython",
    "version": 3
   },
   "file_extension": ".py",
   "mimetype": "text/x-python",
   "name": "python",
   "nbconvert_exporter": "python",
   "pygments_lexer": "ipython3",
   "version": "3.5.2"
  }
 },
 "nbformat": 4,
 "nbformat_minor": 0
}
