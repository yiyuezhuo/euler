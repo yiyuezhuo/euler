{
 "cells": [
  {
   "cell_type": "markdown",
   "metadata": {},
   "source": [
    "We want to specify parameter $\\alpha,\\beta$ to fit data. \n",
    "\n",
    "$$\n",
    "y = e^{\\alpha + \\beta x}\n",
    "$$\n",
    "\n",
    "Whether the two optimzing problems get same result?\n",
    "\n",
    "$$\n",
    "\\min_{\\alpha,\\beta} \\sum_{i=1}^n (y_i - e^{\\alpha + \\beta x_i})^2\n",
    "$$\n",
    "\n",
    "and\n",
    "\n",
    "$$\n",
    "\\min_{\\alpha,\\beta} \\sum_{i=1}^n (\\log y_i - (\\alpha + \\beta x_i))^2\n",
    "$$"
   ]
  },
  {
   "cell_type": "code",
   "execution_count": 122,
   "metadata": {
    "collapsed": true
   },
   "outputs": [],
   "source": [
    "import numpy as np\n",
    "from scipy.optimize import minimize,least_squares\n",
    "import matplotlib.pyplot as plt\n",
    "import pandas as pd\n",
    "import statsmodels.api as sm\n",
    "import statsmodels.formula.api as smf\n",
    "%matplotlib inline\n",
    "plt.rcParams['figure.figsize'] = (8,6)\n",
    "plt.style.use('ggplot')\n"
   ]
  },
  {
   "cell_type": "code",
   "execution_count": 2,
   "metadata": {
    "collapsed": true
   },
   "outputs": [],
   "source": [
    "p=0.95\n",
    "n=200\n",
    "\n"
   ]
  },
  {
   "cell_type": "code",
   "execution_count": 10,
   "metadata": {
    "collapsed": false
   },
   "outputs": [],
   "source": [
    "g = np.random.geometric(1-p,size=n)\n",
    "succ = g - 1\n",
    "N = succ.max()\n",
    "s = np.zeros((n,N))\n",
    "for i in range(n):\n",
    "    s[i,np.arange(succ[i])] = 1\n",
    "S = np.sum(s,axis=0)"
   ]
  },
  {
   "cell_type": "code",
   "execution_count": 11,
   "metadata": {
    "collapsed": false
   },
   "outputs": [
    {
     "data": {
      "text/plain": [
       "array([ 187.,  175.,  162.,  159.,  155.,  145.,  142.,  132.,  127.,\n",
       "        119.,  114.,  109.,  103.,   99.,   92.,   85.,   80.,   72.,\n",
       "         67.,   62.,   59.,   56.,   52.,   51.,   48.,   47.,   45.,\n",
       "         45.,   43.,   40.,   40.,   37.,   36.,   36.,   35.,   33.,\n",
       "         32.,   31.,   26.,   25.,   24.,   23.,   22.,   21.,   21.,\n",
       "         20.,   19.,   19.,   18.,   18.,   17.,   17.,   16.,   16.,\n",
       "         15.,   15.,   14.,   14.,   14.,   13.,   13.,   13.,   12.,\n",
       "         12.,   11.,   11.,   11.,   11.,    9.,    9.,    9.,    7.,\n",
       "          7.,    7.,    7.,    7.,    5.,    5.,    5.,    5.,    5.,\n",
       "          5.,    5.,    4.,    4.,    4.,    4.,    4.,    4.,    4.,\n",
       "          4.,    3.,    3.,    2.,    1.,    1.,    1.,    1.,    1.,\n",
       "          1.,    1.,    1.,    1.,    1.,    1.,    1.,    1.,    1.,\n",
       "          1.,    1.,    1.,    1.,    1.,    1.,    1.,    1.,    1.,\n",
       "          1.,    1.,    1.,    1.,    1.,    1.,    1.,    1.,    1.,\n",
       "          1.,    1.,    1.,    1.,    1.,    1.,    1.])"
      ]
     },
     "execution_count": 11,
     "metadata": {},
     "output_type": "execute_result"
    }
   ],
   "source": [
    "S"
   ]
  },
  {
   "cell_type": "code",
   "execution_count": 12,
   "metadata": {
    "collapsed": false
   },
   "outputs": [],
   "source": [
    "y = S\n",
    "x = np.arange(1,N+1)"
   ]
  },
  {
   "cell_type": "code",
   "execution_count": 15,
   "metadata": {
    "collapsed": true
   },
   "outputs": [],
   "source": [
    "def generate(p,n,only_S = False):\n",
    "    g = np.random.geometric(1-p,size=n)\n",
    "    succ = g - 1\n",
    "    N = succ.max()\n",
    "    s = np.zeros((n,N))\n",
    "    for i in range(n):\n",
    "        s[i,np.arange(succ[i])] = 1\n",
    "    S = np.sum(s,axis=0)\n",
    "    if only_S:\n",
    "        return S\n",
    "    x = np.arange(1,N+1)\n",
    "    return x,S"
   ]
  },
  {
   "cell_type": "code",
   "execution_count": 38,
   "metadata": {
    "collapsed": false
   },
   "outputs": [],
   "source": [
    "x,y = generate(0.97,2000)"
   ]
  },
  {
   "cell_type": "code",
   "execution_count": 39,
   "metadata": {
    "collapsed": false
   },
   "outputs": [
    {
     "data": {
      "text/plain": [
       "[<matplotlib.lines.Line2D at 0x8c8c7b8>]"
      ]
     },
     "execution_count": 39,
     "metadata": {},
     "output_type": "execute_result"
    },
    {
     "data": {
      "image/png": "[encoded data removed]",
      "text/plain": [
       "<matplotlib.figure.Figure at 0x8bf2940>"
      ]
     },
     "metadata": {},
     "output_type": "display_data"
    }
   ],
   "source": [
    "plt.plot(y)"
   ]
  },
  {
   "cell_type": "code",
   "execution_count": 36,
   "metadata": {
    "collapsed": true
   },
   "outputs": [],
   "source": [
    "def fun1(p):\n",
    "    a,b = p\n",
    "    yy = np.exp(a + b*x)\n",
    "    return np.sum((y - yy)**2)\n",
    "\n",
    "def fun2(p):\n",
    "    a,b = p\n",
    "    logy = np.log(y)\n",
    "    logyy = a + b*x\n",
    "    return np.sum((logy-logyy)**2)\n",
    "\n"
   ]
  },
  {
   "cell_type": "code",
   "execution_count": 37,
   "metadata": {
    "collapsed": false
   },
   "outputs": [
    {
     "name": "stderr",
     "output_type": "stream",
     "text": [
      "C:\\Users\\yiyuezhuo\\Anaconda3\\lib\\site-packages\\ipykernel\\__main__.py:3: RuntimeWarning: overflow encountered in exp\n",
      "  app.launch_new_instance()\n",
      "C:\\Users\\yiyuezhuo\\Anaconda3\\lib\\site-packages\\ipykernel\\__main__.py:4: RuntimeWarning: overflow encountered in square\n",
      "C:\\Users\\yiyuezhuo\\Anaconda3\\lib\\site-packages\\scipy\\optimize\\optimize.py:562: RuntimeWarning: invalid value encountered in double_scalars\n",
      "  grad[k] = (f(*((xk + d,) + args)) - f0) / d[k]\n",
      "C:\\Users\\yiyuezhuo\\Anaconda3\\lib\\site-packages\\ipykernel\\__main__.py:3: RuntimeWarning: overflow encountered in exp\n",
      "  app.launch_new_instance()\n",
      "C:\\Users\\yiyuezhuo\\Anaconda3\\lib\\site-packages\\ipykernel\\__main__.py:4: RuntimeWarning: overflow encountered in square\n"
     ]
    },
    {
     "data": {
      "text/plain": [
       "      fun: 380579.8427603012\n",
       " hess_inv: array([[1, 0],\n",
       "       [0, 1]])\n",
       "      jac: array([ -80.140625 , -122.6171875])\n",
       "  message: 'Desired error not necessarily achieved due to precision loss.'\n",
       "     nfev: 39\n",
       "      nit: 0\n",
       "     njev: 7\n",
       "   status: 2\n",
       "  success: False\n",
       "        x: array([-1., -1.])"
      ]
     },
     "execution_count": 37,
     "metadata": {},
     "output_type": "execute_result"
    }
   ],
   "source": [
    "minimize(fun1,x0 = (-1,-1),method='BFGS')"
   ]
  },
  {
   "cell_type": "code",
   "execution_count": 40,
   "metadata": {
    "collapsed": false
   },
   "outputs": [
    {
     "data": {
      "text/plain": [
       "      fun: 11.316121340725946\n",
       " hess_inv: array([[  8.31590837e-03,  -5.14386061e-05],\n",
       "       [ -5.14386061e-05,   4.23362915e-07]])\n",
       "      jac: array([ -1.19209290e-07,  -1.19209290e-07])\n",
       "  message: 'Optimization terminated successfully.'\n",
       "     nfev: 36\n",
       "      nit: 6\n",
       "     njev: 9\n",
       "   status: 0\n",
       "  success: True\n",
       "        x: array([ 7.7265517 , -0.03114409])"
      ]
     },
     "execution_count": 40,
     "metadata": {},
     "output_type": "execute_result"
    }
   ],
   "source": [
    "res = minimize(fun2,x0 = (-1,-1))\n",
    "res"
   ]
  },
  {
   "cell_type": "code",
   "execution_count": 41,
   "metadata": {
    "collapsed": false
   },
   "outputs": [
    {
     "data": {
      "text/plain": [
       "(2267.7687553661776, 0.96933589485754146)"
      ]
     },
     "execution_count": 41,
     "metadata": {},
     "output_type": "execute_result"
    }
   ],
   "source": [
    "a,b = res.x\n",
    "np.exp(a),np.exp(b)"
   ]
  },
  {
   "cell_type": "code",
   "execution_count": 62,
   "metadata": {
    "collapsed": true
   },
   "outputs": [],
   "source": [
    "def fun3(p):\n",
    "    cut = 50\n",
    "    a,b = p\n",
    "    logy = np.log(y[cut:])\n",
    "    logyy = a + b*x[cut:]\n",
    "    return np.sum((logy-logyy)**2)\n"
   ]
  },
  {
   "cell_type": "code",
   "execution_count": 63,
   "metadata": {
    "collapsed": false
   },
   "outputs": [
    {
     "data": {
      "text/plain": [
       "(2629.4397847909468, 0.96850174896659136)"
      ]
     },
     "execution_count": 63,
     "metadata": {},
     "output_type": "execute_result"
    }
   ],
   "source": [
    "res2 = minimize(fun3,x0 = (-1,-1))\n",
    "a,b = res2.x\n",
    "np.exp(a),np.exp(b)"
   ]
  },
  {
   "cell_type": "markdown",
   "metadata": {},
   "source": [
    "Let's try it on real data."
   ]
  },
  {
   "cell_type": "code",
   "execution_count": 44,
   "metadata": {
    "collapsed": true
   },
   "outputs": [],
   "source": [
    "data_file_name='data.csv'\n",
    "df=pd.read_csv(data_file_name)"
   ]
  },
  {
   "cell_type": "code",
   "execution_count": 93,
   "metadata": {
    "collapsed": false
   },
   "outputs": [
    {
     "data": {
      "text/html": [
       "<div>\n",
       "<table border=\"1\" class=\"dataframe\">\n",
       "  <thead>\n",
       "    <tr style=\"text-align: right;\">\n",
       "      <th></th>\n",
       "      <th>id</th>\n",
       "      <th>content</th>\n",
       "      <th>des_len</th>\n",
       "      <th>diff</th>\n",
       "      <th>hit</th>\n",
       "      <th>id.1</th>\n",
       "      <th>solve</th>\n",
       "      <th>t_content</th>\n",
       "    </tr>\n",
       "  </thead>\n",
       "  <tbody>\n",
       "    <tr>\n",
       "      <th>0</th>\n",
       "      <td>1</td>\n",
       "      <td>187</td>\n",
       "      <td>25</td>\n",
       "      <td>5</td>\n",
       "      <td>13792</td>\n",
       "      <td>1</td>\n",
       "      <td>537234</td>\n",
       "      <td>85</td>\n",
       "    </tr>\n",
       "    <tr>\n",
       "      <th>1</th>\n",
       "      <td>2</td>\n",
       "      <td>312</td>\n",
       "      <td>32</td>\n",
       "      <td>5</td>\n",
       "      <td>7571</td>\n",
       "      <td>2</td>\n",
       "      <td>438350</td>\n",
       "      <td>135</td>\n",
       "    </tr>\n",
       "    <tr>\n",
       "      <th>2</th>\n",
       "      <td>3</td>\n",
       "      <td>111</td>\n",
       "      <td>17</td>\n",
       "      <td>5</td>\n",
       "      <td>6364</td>\n",
       "      <td>3</td>\n",
       "      <td>317208</td>\n",
       "      <td>65</td>\n",
       "    </tr>\n",
       "    <tr>\n",
       "      <th>3</th>\n",
       "      <td>4</td>\n",
       "      <td>209</td>\n",
       "      <td>20</td>\n",
       "      <td>5</td>\n",
       "      <td>5414</td>\n",
       "      <td>4</td>\n",
       "      <td>285419</td>\n",
       "      <td>101</td>\n",
       "    </tr>\n",
       "    <tr>\n",
       "      <th>4</th>\n",
       "      <td>5</td>\n",
       "      <td>206</td>\n",
       "      <td>24</td>\n",
       "      <td>5</td>\n",
       "      <td>4627</td>\n",
       "      <td>5</td>\n",
       "      <td>297082</td>\n",
       "      <td>70</td>\n",
       "    </tr>\n",
       "  </tbody>\n",
       "</table>\n",
       "</div>"
      ],
      "text/plain": [
       "   id  content  des_len  diff    hit  id.1   solve  t_content\n",
       "0   1      187       25     5  13792     1  537234         85\n",
       "1   2      312       32     5   7571     2  438350        135\n",
       "2   3      111       17     5   6364     3  317208         65\n",
       "3   4      209       20     5   5414     4  285419        101\n",
       "4   5      206       24     5   4627     5  297082         70"
      ]
     },
     "execution_count": 93,
     "metadata": {},
     "output_type": "execute_result"
    }
   ],
   "source": [
    "df.head()"
   ]
  },
  {
   "cell_type": "code",
   "execution_count": 90,
   "metadata": {
    "collapsed": false
   },
   "outputs": [],
   "source": [
    "log = np.log\n",
    "exp = np.exp\n",
    "res = smf.ols('log(solve) ~ id',data=df).fit()"
   ]
  },
  {
   "cell_type": "code",
   "execution_count": 91,
   "metadata": {
    "collapsed": false
   },
   "outputs": [
    {
     "data": {
      "text/html": [
       "<table class=\"simpletable\">\n",
       "<caption>OLS Regression Results</caption>\n",
       "<tr>\n",
       "  <th>Dep. Variable:</th>       <td>log(solve)</td>    <th>  R-squared:         </th> <td>   0.849</td> \n",
       "</tr>\n",
       "<tr>\n",
       "  <th>Model:</th>                   <td>OLS</td>       <th>  Adj. R-squared:    </th> <td>   0.849</td> \n",
       "</tr>\n",
       "<tr>\n",
       "  <th>Method:</th>             <td>Least Squares</td>  <th>  F-statistic:       </th> <td>   1466.</td> \n",
       "</tr>\n",
       "<tr>\n",
       "  <th>Date:</th>             <td>Mon, 01 May 2017</td> <th>  Prob (F-statistic):</th> <td>7.30e-109</td>\n",
       "</tr>\n",
       "<tr>\n",
       "  <th>Time:</th>                 <td>22:07:29</td>     <th>  Log-Likelihood:    </th> <td> -255.98</td> \n",
       "</tr>\n",
       "<tr>\n",
       "  <th>No. Observations:</th>      <td>   262</td>      <th>  AIC:               </th> <td>   516.0</td> \n",
       "</tr>\n",
       "<tr>\n",
       "  <th>Df Residuals:</th>          <td>   260</td>      <th>  BIC:               </th> <td>   523.1</td> \n",
       "</tr>\n",
       "<tr>\n",
       "  <th>Df Model:</th>              <td>     1</td>      <th>                     </th>     <td> </td>    \n",
       "</tr>\n",
       "<tr>\n",
       "  <th>Covariance Type:</th>      <td>nonrobust</td>    <th>                     </th>     <td> </td>    \n",
       "</tr>\n",
       "</table>\n",
       "<table class=\"simpletable\">\n",
       "<tr>\n",
       "      <td></td>         <th>coef</th>     <th>std err</th>      <th>t</th>      <th>P>|t|</th> <th>[95.0% Conf. Int.]</th> \n",
       "</tr>\n",
       "<tr>\n",
       "  <th>Intercept</th> <td>   11.4630</td> <td>    0.080</td> <td>  143.363</td> <td> 0.000</td> <td>   11.306    11.620</td>\n",
       "</tr>\n",
       "<tr>\n",
       "  <th>id</th>        <td>   -0.0202</td> <td>    0.001</td> <td>  -38.287</td> <td> 0.000</td> <td>   -0.021    -0.019</td>\n",
       "</tr>\n",
       "</table>\n",
       "<table class=\"simpletable\">\n",
       "<tr>\n",
       "  <th>Omnibus:</th>       <td>22.352</td> <th>  Durbin-Watson:     </th> <td>   0.989</td>\n",
       "</tr>\n",
       "<tr>\n",
       "  <th>Prob(Omnibus):</th> <td> 0.000</td> <th>  Jarque-Bera (JB):  </th> <td>  25.530</td>\n",
       "</tr>\n",
       "<tr>\n",
       "  <th>Skew:</th>          <td> 0.712</td> <th>  Prob(JB):          </th> <td>2.86e-06</td>\n",
       "</tr>\n",
       "<tr>\n",
       "  <th>Kurtosis:</th>      <td> 3.558</td> <th>  Cond. No.          </th> <td>    304.</td>\n",
       "</tr>\n",
       "</table>"
      ],
      "text/plain": [
       "<class 'statsmodels.iolib.summary.Summary'>\n",
       "\"\"\"\n",
       "                            OLS Regression Results                            \n",
       "==============================================================================\n",
       "Dep. Variable:             log(solve)   R-squared:                       0.849\n",
       "Model:                            OLS   Adj. R-squared:                  0.849\n",
       "Method:                 Least Squares   F-statistic:                     1466.\n",
       "Date:                Mon, 01 May 2017   Prob (F-statistic):          7.30e-109\n",
       "Time:                        22:07:29   Log-Likelihood:                -255.98\n",
       "No. Observations:                 262   AIC:                             516.0\n",
       "Df Residuals:                     260   BIC:                             523.1\n",
       "Df Model:                           1                                         \n",
       "Covariance Type:            nonrobust                                         \n",
       "==============================================================================\n",
       "                 coef    std err          t      P>|t|      [95.0% Conf. Int.]\n",
       "------------------------------------------------------------------------------\n",
       "Intercept     11.4630      0.080    143.363      0.000        11.306    11.620\n",
       "id            -0.0202      0.001    -38.287      0.000        -0.021    -0.019\n",
       "==============================================================================\n",
       "Omnibus:                       22.352   Durbin-Watson:                   0.989\n",
       "Prob(Omnibus):                  0.000   Jarque-Bera (JB):               25.530\n",
       "Skew:                           0.712   Prob(JB):                     2.86e-06\n",
       "Kurtosis:                       3.558   Cond. No.                         304.\n",
       "==============================================================================\n",
       "\n",
       "Warnings:\n",
       "[1] Standard Errors assume that the covariance matrix of the errors is correctly specified.\n",
       "\"\"\""
      ]
     },
     "execution_count": 91,
     "metadata": {},
     "output_type": "execute_result"
    }
   ],
   "source": [
    "res.summary()"
   ]
  },
  {
   "cell_type": "code",
   "execution_count": 92,
   "metadata": {
    "collapsed": false
   },
   "outputs": [
    {
     "data": {
      "text/plain": [
       "(95132.768745309499, 0.98002165648895589)"
      ]
     },
     "execution_count": 92,
     "metadata": {},
     "output_type": "execute_result"
    }
   ],
   "source": [
    "logn,logp = res.params\n",
    "exp(logn),exp(logp)"
   ]
  },
  {
   "cell_type": "code",
   "execution_count": 109,
   "metadata": {
    "collapsed": false
   },
   "outputs": [],
   "source": [
    "cut = df.shape[0]//10\n",
    "df2 = df.ix[:cut]\n",
    "df3 = df.ix[cut:]"
   ]
  },
  {
   "cell_type": "code",
   "execution_count": 110,
   "metadata": {
    "collapsed": false
   },
   "outputs": [
    {
     "data": {
      "text/plain": [
       "(425752.36210311513, 0.92758983628363301)"
      ]
     },
     "execution_count": 110,
     "metadata": {},
     "output_type": "execute_result"
    }
   ],
   "source": [
    "res = smf.ols('log(solve) ~ id',data=df2).fit()\n",
    "logn,logp = res.params\n",
    "exp(logn),exp(logp)"
   ]
  },
  {
   "cell_type": "code",
   "execution_count": 111,
   "metadata": {
    "collapsed": false
   },
   "outputs": [
    {
     "data": {
      "text/plain": [
       "(61664.20658032129, 0.98240025301503431)"
      ]
     },
     "execution_count": 111,
     "metadata": {},
     "output_type": "execute_result"
    }
   ],
   "source": [
    "res = smf.ols('log(solve) ~ id',data=df3).fit()\n",
    "logn,logp = res.params\n",
    "exp(logn),exp(logp)"
   ]
  },
  {
   "cell_type": "code",
   "execution_count": 82,
   "metadata": {
    "collapsed": false
   },
   "outputs": [
    {
     "data": {
      "text/plain": [
       "[<matplotlib.lines.Line2D at 0xbfef6a0>]"
      ]
     },
     "execution_count": 82,
     "metadata": {},
     "output_type": "execute_result"
    },
    {
     "data": {
      "image/png": "[encoded data removed]",
      "text/plain": [
       "<matplotlib.figure.Figure at 0xba835c0>"
      ]
     },
     "metadata": {},
     "output_type": "display_data"
    }
   ],
   "source": [
    "plt.plot(log(df2.solve))"
   ]
  },
  {
   "cell_type": "code",
   "execution_count": 86,
   "metadata": {
    "collapsed": false
   },
   "outputs": [
    {
     "data": {
      "text/plain": [
       "[<matplotlib.lines.Line2D at 0xc0d09e8>]"
      ]
     },
     "execution_count": 86,
     "metadata": {},
     "output_type": "execute_result"
    },
    {
     "data": {
      "image/png": "[encoded data removed]",
      "text/plain": [
       "<matplotlib.figure.Figure at 0xc07aef0>"
      ]
     },
     "metadata": {},
     "output_type": "display_data"
    }
   ],
   "source": [
    "plt.plot(log(df3.solve))"
   ]
  },
  {
   "cell_type": "code",
   "execution_count": 85,
   "metadata": {
    "collapsed": false
   },
   "outputs": [
    {
     "data": {
      "text/plain": [
       "Intercept    17.663259\n",
       "log(id)      -1.932395\n",
       "dtype: float64"
      ]
     },
     "execution_count": 85,
     "metadata": {},
     "output_type": "execute_result"
    }
   ],
   "source": [
    "res.params"
   ]
  },
  {
   "cell_type": "code",
   "execution_count": 104,
   "metadata": {
    "collapsed": true
   },
   "outputs": [],
   "source": [
    "df4 = df3.copy()\n",
    "df4['id'] -= df4['id'].min() -1"
   ]
  },
  {
   "cell_type": "code",
   "execution_count": 106,
   "metadata": {
    "collapsed": false
   },
   "outputs": [
    {
     "data": {
      "text/plain": [
       "(3536.9652969608965, 0.98974753393117876)"
      ]
     },
     "execution_count": 106,
     "metadata": {},
     "output_type": "execute_result"
    }
   ],
   "source": [
    "res = smf.ols('log(solve) ~ id',data=df4).fit()\n",
    "logn,logp = res.params\n",
    "exp(logn),exp(logp)"
   ]
  },
  {
   "cell_type": "code",
   "execution_count": 113,
   "metadata": {
    "collapsed": false
   },
   "outputs": [
    {
     "data": {
      "text/plain": [
       "(95132.768745309499, 0.98002165648895589)"
      ]
     },
     "execution_count": 113,
     "metadata": {},
     "output_type": "execute_result"
    }
   ],
   "source": [
    "res = smf.ols('log(solve) ~ id',data=df).fit()\n",
    "logn,logp = res.params\n",
    "n,p = exp(logn),exp(logp)\n",
    "n,p"
   ]
  },
  {
   "cell_type": "code",
   "execution_count": 123,
   "metadata": {
    "collapsed": false
   },
   "outputs": [
    {
     "data": {
      "image/png": "[encoded data removed]",
      "text/plain": [
       "<matplotlib.figure.Figure at 0xd1e3a20>"
      ]
     },
     "metadata": {},
     "output_type": "display_data"
    }
   ],
   "source": [
    "\n",
    "plt.plot(n*p**df.id,label='fit')\n",
    "plt.plot(df.solve,label='real')\n",
    "plt.legend()\n",
    "plt.show()"
   ]
  },
  {
   "cell_type": "code",
   "execution_count": 119,
   "metadata": {
    "collapsed": false
   },
   "outputs": [],
   "source": []
  },
  {
   "cell_type": "code",
   "execution_count": null,
   "metadata": {
    "collapsed": true
   },
   "outputs": [],
   "source": []
  }
 ],
 "metadata": {
  "kernelspec": {
   "display_name": "Python [Root]",
   "language": "python",
   "name": "Python [Root]"
  },
  "language_info": {
   "codemirror_mode": {
    "name": "ipython",
    "version": 3
   },
   "file_extension": ".py",
   "mimetype": "text/x-python",
   "name": "python",
   "nbconvert_exporter": "python",
   "pygments_lexer": "ipython3",
   "version": "3.5.2"
  }
 },
 "nbformat": 4,
 "nbformat_minor": 0
}
