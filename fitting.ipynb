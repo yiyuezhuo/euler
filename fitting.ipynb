{
 "cells": [
  {
   "cell_type": "markdown",
   "metadata": {},
   "source": [
    "We want to specify parameter $\\alpha,\\beta$ to fit data. \n",
    "\n",
    "$$\n",
    "y = e^{\\alpha + \\beta x}\n",
    "$$\n",
    "\n",
    "Whether the two optimzing problems get same result?\n",
    "\n",
    "$$\n",
    "\\min_{\\alpha,\\beta} \\sum_{i=1}^n (y_i - e^{\\alpha + \\beta x_i})^2\n",
    "$$\n",
    "\n",
    "and\n",
    "\n",
    "$$\n",
    "\\min_{\\alpha,\\beta} \\sum_{i=1}^n (\\log y_i - (\\alpha + \\beta x_i))^2\n",
    "$$"
   ]
  },
  {
   "cell_type": "code",
   "execution_count": 1,
   "metadata": {
    "collapsed": true
   },
   "outputs": [],
   "source": [
    "import numpy as np\n",
    "from scipy.optimize import minimize,least_squares\n",
    "import matplotlib.pyplot as plt\n",
    "import pandas as pd\n",
    "import statsmodels.api as sm\n",
    "import statsmodels.formula.api as smf\n",
    "%matplotlib inline\n",
    "plt.rcParams['figure.figsize'] = (8,6)\n",
    "plt.style.use('ggplot')\n"
   ]
  },
  {
   "cell_type": "code",
   "execution_count": 2,
   "metadata": {
    "collapsed": true
   },
   "outputs": [],
   "source": [
    "p=0.95\n",
    "n=200\n",
    "\n"
   ]
  },
  {
   "cell_type": "code",
   "execution_count": 3,
   "metadata": {
    "collapsed": false
   },
   "outputs": [],
   "source": [
    "g = np.random.geometric(1-p,size=n)\n",
    "succ = g - 1\n",
    "N = succ.max()\n",
    "s = np.zeros((n,N))\n",
    "for i in range(n):\n",
    "    s[i,np.arange(succ[i])] = 1\n",
    "S = np.sum(s,axis=0)"
   ]
  },
  {
   "cell_type": "code",
   "execution_count": 4,
   "metadata": {
    "collapsed": false
   },
   "outputs": [
    {
     "data": {
      "text/plain": [
       "array([ 191.,  183.,  174.,  163.,  156.,  149.,  140.,  137.,  132.,\n",
       "        126.,  122.,  116.,  109.,  103.,  102.,   95.,   90.,   85.,\n",
       "         80.,   75.,   73.,   69.,   65.,   64.,   60.,   59.,   59.,\n",
       "         56.,   51.,   49.,   48.,   44.,   41.,   38.,   37.,   35.,\n",
       "         35.,   33.,   32.,   31.,   29.,   27.,   23.,   22.,   22.,\n",
       "         21.,   20.,   19.,   19.,   18.,   17.,   16.,   15.,   14.,\n",
       "         13.,   13.,   13.,   13.,   12.,   11.,   11.,    9.,    9.,\n",
       "          9.,    7.,    6.,    6.,    5.,    5.,    5.,    5.,    5.,\n",
       "          5.,    5.,    5.,    5.,    4.,    4.,    4.,    4.,    3.,\n",
       "          2.,    2.,    2.,    2.,    2.,    2.,    1.,    1.,    1.,\n",
       "          1.,    1.,    1.,    1.])"
      ]
     },
     "execution_count": 4,
     "metadata": {},
     "output_type": "execute_result"
    }
   ],
   "source": [
    "S"
   ]
  },
  {
   "cell_type": "code",
   "execution_count": 5,
   "metadata": {
    "collapsed": false
   },
   "outputs": [],
   "source": [
    "y = S\n",
    "x = np.arange(1,N+1)"
   ]
  },
  {
   "cell_type": "code",
   "execution_count": 6,
   "metadata": {
    "collapsed": true
   },
   "outputs": [],
   "source": [
    "def generate(p,n,only_S = False):\n",
    "    g = np.random.geometric(1-p,size=n)\n",
    "    succ = g - 1\n",
    "    N = succ.max()\n",
    "    s = np.zeros((n,N))\n",
    "    for i in range(n):\n",
    "        s[i,np.arange(succ[i])] = 1\n",
    "    S = np.sum(s,axis=0)\n",
    "    if only_S:\n",
    "        return S\n",
    "    x = np.arange(1,N+1)\n",
    "    return x,S"
   ]
  },
  {
   "cell_type": "code",
   "execution_count": 7,
   "metadata": {
    "collapsed": false
   },
   "outputs": [],
   "source": [
    "x,y = generate(0.97,2000)"
   ]
  },
  {
   "cell_type": "code",
   "execution_count": 8,
   "metadata": {
    "collapsed": false
   },
   "outputs": [
    {
     "data": {
      "text/plain": [
       "[<matplotlib.lines.Line2D at 0xaf184a8>]"
      ]
     },
     "execution_count": 8,
     "metadata": {},
     "output_type": "execute_result"
    },
    {
     "data": {
      "image/png": "[encoded data removed]",
      "text/plain": [
       "<matplotlib.figure.Figure at 0xad9ccf8>"
      ]
     },
     "metadata": {},
     "output_type": "display_data"
    }
   ],
   "source": [
    "plt.plot(y)"
   ]
  },
  {
   "cell_type": "code",
   "execution_count": 9,
   "metadata": {
    "collapsed": true
   },
   "outputs": [],
   "source": [
    "def fun1(p):\n",
    "    a,b = p\n",
    "    yy = np.exp(a + b*x)\n",
    "    return np.sum((y - yy)**2)\n",
    "\n",
    "def fun2(p):\n",
    "    a,b = p\n",
    "    logy = np.log(y)\n",
    "    logyy = a + b*x\n",
    "    return np.sum((logy-logyy)**2)\n",
    "\n"
   ]
  },
  {
   "cell_type": "code",
   "execution_count": 10,
   "metadata": {
    "collapsed": false
   },
   "outputs": [
    {
     "data": {
      "text/plain": [
       "      fun: 67712594.348888457\n",
       " hess_inv: array([[1, 0],\n",
       "       [0, 1]])\n",
       "      jac: array([ -817., -1272.])\n",
       "  message: 'Desired error not necessarily achieved due to precision loss.'\n",
       "     nfev: 39\n",
       "      nit: 0\n",
       "     njev: 7\n",
       "   status: 2\n",
       "  success: False\n",
       "        x: array([-1., -1.])"
      ]
     },
     "execution_count": 10,
     "metadata": {},
     "output_type": "execute_result"
    }
   ],
   "source": [
    "minimize(fun1,x0 = (-1,-1),method='BFGS')"
   ]
  },
  {
   "cell_type": "code",
   "execution_count": 11,
   "metadata": {
    "collapsed": false
   },
   "outputs": [
    {
     "data": {
      "text/plain": [
       "      fun: 118.82709027954628\n",
       " hess_inv: array([[  5.64172020e-03,  -2.37379572e-05],\n",
       "       [ -2.37379572e-05,   1.32985738e-07]])\n",
       "      jac: array([ -9.53674316e-07,   9.53674316e-07])\n",
       "  message: 'Optimization terminated successfully.'\n",
       "     nfev: 36\n",
       "      nit: 5\n",
       "     njev: 9\n",
       "   status: 0\n",
       "  success: True\n",
       "        x: array([ 7.07297184, -0.02421235])"
      ]
     },
     "execution_count": 11,
     "metadata": {},
     "output_type": "execute_result"
    }
   ],
   "source": [
    "res = minimize(fun2,x0 = (-1,-1))\n",
    "res"
   ]
  },
  {
   "cell_type": "code",
   "execution_count": 12,
   "metadata": {
    "collapsed": false
   },
   "outputs": [
    {
     "data": {
      "text/plain": [
       "(1179.6485530014443, 0.97607841438308385)"
      ]
     },
     "execution_count": 12,
     "metadata": {},
     "output_type": "execute_result"
    }
   ],
   "source": [
    "a,b = res.x\n",
    "np.exp(a),np.exp(b)"
   ]
  },
  {
   "cell_type": "code",
   "execution_count": 13,
   "metadata": {
    "collapsed": true
   },
   "outputs": [],
   "source": [
    "def fun3(p):\n",
    "    cut = 50\n",
    "    a,b = p\n",
    "    logy = np.log(y[cut:])\n",
    "    logyy = a + b*x[cut:]\n",
    "    return np.sum((logy-logyy)**2)\n"
   ]
  },
  {
   "cell_type": "code",
   "execution_count": 14,
   "metadata": {
    "collapsed": false
   },
   "outputs": [
    {
     "data": {
      "text/plain": [
       "(805.29524020919177, 0.9775896822607284)"
      ]
     },
     "execution_count": 14,
     "metadata": {},
     "output_type": "execute_result"
    }
   ],
   "source": [
    "res2 = minimize(fun3,x0 = (-1,-1))\n",
    "a,b = res2.x\n",
    "np.exp(a),np.exp(b)"
   ]
  },
  {
   "cell_type": "markdown",
   "metadata": {},
   "source": [
    "Let's try it on real data."
   ]
  },
  {
   "cell_type": "code",
   "execution_count": 15,
   "metadata": {
    "collapsed": true
   },
   "outputs": [],
   "source": [
    "data_file_name='data.csv'\n",
    "df=pd.read_csv(data_file_name)"
   ]
  },
  {
   "cell_type": "code",
   "execution_count": 16,
   "metadata": {
    "collapsed": false
   },
   "outputs": [
    {
     "data": {
      "text/html": [
       "<div>\n",
       "<table border=\"1\" class=\"dataframe\">\n",
       "  <thead>\n",
       "    <tr style=\"text-align: right;\">\n",
       "      <th></th>\n",
       "      <th>id</th>\n",
       "      <th>content</th>\n",
       "      <th>des_len</th>\n",
       "      <th>diff</th>\n",
       "      <th>hit</th>\n",
       "      <th>id.1</th>\n",
       "      <th>solve</th>\n",
       "      <th>t_content</th>\n",
       "    </tr>\n",
       "  </thead>\n",
       "  <tbody>\n",
       "    <tr>\n",
       "      <th>0</th>\n",
       "      <td>1</td>\n",
       "      <td>187</td>\n",
       "      <td>25</td>\n",
       "      <td>5</td>\n",
       "      <td>13792</td>\n",
       "      <td>1</td>\n",
       "      <td>537234</td>\n",
       "      <td>85</td>\n",
       "    </tr>\n",
       "    <tr>\n",
       "      <th>1</th>\n",
       "      <td>2</td>\n",
       "      <td>312</td>\n",
       "      <td>32</td>\n",
       "      <td>5</td>\n",
       "      <td>7571</td>\n",
       "      <td>2</td>\n",
       "      <td>438350</td>\n",
       "      <td>135</td>\n",
       "    </tr>\n",
       "    <tr>\n",
       "      <th>2</th>\n",
       "      <td>3</td>\n",
       "      <td>111</td>\n",
       "      <td>17</td>\n",
       "      <td>5</td>\n",
       "      <td>6364</td>\n",
       "      <td>3</td>\n",
       "      <td>317208</td>\n",
       "      <td>65</td>\n",
       "    </tr>\n",
       "    <tr>\n",
       "      <th>3</th>\n",
       "      <td>4</td>\n",
       "      <td>209</td>\n",
       "      <td>20</td>\n",
       "      <td>5</td>\n",
       "      <td>5414</td>\n",
       "      <td>4</td>\n",
       "      <td>285419</td>\n",
       "      <td>101</td>\n",
       "    </tr>\n",
       "    <tr>\n",
       "      <th>4</th>\n",
       "      <td>5</td>\n",
       "      <td>206</td>\n",
       "      <td>24</td>\n",
       "      <td>5</td>\n",
       "      <td>4627</td>\n",
       "      <td>5</td>\n",
       "      <td>297082</td>\n",
       "      <td>70</td>\n",
       "    </tr>\n",
       "  </tbody>\n",
       "</table>\n",
       "</div>"
      ],
      "text/plain": [
       "   id  content  des_len  diff    hit  id.1   solve  t_content\n",
       "0   1      187       25     5  13792     1  537234         85\n",
       "1   2      312       32     5   7571     2  438350        135\n",
       "2   3      111       17     5   6364     3  317208         65\n",
       "3   4      209       20     5   5414     4  285419        101\n",
       "4   5      206       24     5   4627     5  297082         70"
      ]
     },
     "execution_count": 16,
     "metadata": {},
     "output_type": "execute_result"
    }
   ],
   "source": [
    "df.head()"
   ]
  },
  {
   "cell_type": "code",
   "execution_count": 17,
   "metadata": {
    "collapsed": false
   },
   "outputs": [],
   "source": [
    "log = np.log\n",
    "exp = np.exp\n",
    "res = smf.ols('log(solve) ~ id',data=df).fit()"
   ]
  },
  {
   "cell_type": "code",
   "execution_count": 18,
   "metadata": {
    "collapsed": false
   },
   "outputs": [
    {
     "data": {
      "text/html": [
       "<table class=\"simpletable\">\n",
       "<caption>OLS Regression Results</caption>\n",
       "<tr>\n",
       "  <th>Dep. Variable:</th>       <td>log(solve)</td>    <th>  R-squared:         </th> <td>   0.849</td> \n",
       "</tr>\n",
       "<tr>\n",
       "  <th>Model:</th>                   <td>OLS</td>       <th>  Adj. R-squared:    </th> <td>   0.849</td> \n",
       "</tr>\n",
       "<tr>\n",
       "  <th>Method:</th>             <td>Least Squares</td>  <th>  F-statistic:       </th> <td>   1466.</td> \n",
       "</tr>\n",
       "<tr>\n",
       "  <th>Date:</th>             <td>Sat, 13 May 2017</td> <th>  Prob (F-statistic):</th> <td>7.30e-109</td>\n",
       "</tr>\n",
       "<tr>\n",
       "  <th>Time:</th>                 <td>14:27:29</td>     <th>  Log-Likelihood:    </th> <td> -255.98</td> \n",
       "</tr>\n",
       "<tr>\n",
       "  <th>No. Observations:</th>      <td>   262</td>      <th>  AIC:               </th> <td>   516.0</td> \n",
       "</tr>\n",
       "<tr>\n",
       "  <th>Df Residuals:</th>          <td>   260</td>      <th>  BIC:               </th> <td>   523.1</td> \n",
       "</tr>\n",
       "<tr>\n",
       "  <th>Df Model:</th>              <td>     1</td>      <th>                     </th>     <td> </td>    \n",
       "</tr>\n",
       "<tr>\n",
       "  <th>Covariance Type:</th>      <td>nonrobust</td>    <th>                     </th>     <td> </td>    \n",
       "</tr>\n",
       "</table>\n",
       "<table class=\"simpletable\">\n",
       "<tr>\n",
       "      <td></td>         <th>coef</th>     <th>std err</th>      <th>t</th>      <th>P>|t|</th> <th>[95.0% Conf. Int.]</th> \n",
       "</tr>\n",
       "<tr>\n",
       "  <th>Intercept</th> <td>   11.4630</td> <td>    0.080</td> <td>  143.363</td> <td> 0.000</td> <td>   11.306    11.620</td>\n",
       "</tr>\n",
       "<tr>\n",
       "  <th>id</th>        <td>   -0.0202</td> <td>    0.001</td> <td>  -38.287</td> <td> 0.000</td> <td>   -0.021    -0.019</td>\n",
       "</tr>\n",
       "</table>\n",
       "<table class=\"simpletable\">\n",
       "<tr>\n",
       "  <th>Omnibus:</th>       <td>22.352</td> <th>  Durbin-Watson:     </th> <td>   0.989</td>\n",
       "</tr>\n",
       "<tr>\n",
       "  <th>Prob(Omnibus):</th> <td> 0.000</td> <th>  Jarque-Bera (JB):  </th> <td>  25.530</td>\n",
       "</tr>\n",
       "<tr>\n",
       "  <th>Skew:</th>          <td> 0.712</td> <th>  Prob(JB):          </th> <td>2.86e-06</td>\n",
       "</tr>\n",
       "<tr>\n",
       "  <th>Kurtosis:</th>      <td> 3.558</td> <th>  Cond. No.          </th> <td>    304.</td>\n",
       "</tr>\n",
       "</table>"
      ],
      "text/plain": [
       "<class 'statsmodels.iolib.summary.Summary'>\n",
       "\"\"\"\n",
       "                            OLS Regression Results                            \n",
       "==============================================================================\n",
       "Dep. Variable:             log(solve)   R-squared:                       0.849\n",
       "Model:                            OLS   Adj. R-squared:                  0.849\n",
       "Method:                 Least Squares   F-statistic:                     1466.\n",
       "Date:                Sat, 13 May 2017   Prob (F-statistic):          7.30e-109\n",
       "Time:                        14:27:29   Log-Likelihood:                -255.98\n",
       "No. Observations:                 262   AIC:                             516.0\n",
       "Df Residuals:                     260   BIC:                             523.1\n",
       "Df Model:                           1                                         \n",
       "Covariance Type:            nonrobust                                         \n",
       "==============================================================================\n",
       "                 coef    std err          t      P>|t|      [95.0% Conf. Int.]\n",
       "------------------------------------------------------------------------------\n",
       "Intercept     11.4630      0.080    143.363      0.000        11.306    11.620\n",
       "id            -0.0202      0.001    -38.287      0.000        -0.021    -0.019\n",
       "==============================================================================\n",
       "Omnibus:                       22.352   Durbin-Watson:                   0.989\n",
       "Prob(Omnibus):                  0.000   Jarque-Bera (JB):               25.530\n",
       "Skew:                           0.712   Prob(JB):                     2.86e-06\n",
       "Kurtosis:                       3.558   Cond. No.                         304.\n",
       "==============================================================================\n",
       "\n",
       "Warnings:\n",
       "[1] Standard Errors assume that the covariance matrix of the errors is correctly specified.\n",
       "\"\"\""
      ]
     },
     "execution_count": 18,
     "metadata": {},
     "output_type": "execute_result"
    }
   ],
   "source": [
    "res.summary()"
   ]
  },
  {
   "cell_type": "code",
   "execution_count": 19,
   "metadata": {
    "collapsed": false
   },
   "outputs": [
    {
     "data": {
      "text/plain": [
       "(95132.768745309499, 0.98002165648895589)"
      ]
     },
     "execution_count": 19,
     "metadata": {},
     "output_type": "execute_result"
    }
   ],
   "source": [
    "logn,logp = res.params\n",
    "exp(logn),exp(logp)"
   ]
  },
  {
   "cell_type": "code",
   "execution_count": 20,
   "metadata": {
    "collapsed": false
   },
   "outputs": [],
   "source": [
    "cut = df.shape[0]//10\n",
    "df2 = df.ix[:cut]\n",
    "df3 = df.ix[cut:]"
   ]
  },
  {
   "cell_type": "code",
   "execution_count": 21,
   "metadata": {
    "collapsed": false
   },
   "outputs": [
    {
     "data": {
      "text/plain": [
       "(425752.36210311513, 0.92758983628363301)"
      ]
     },
     "execution_count": 21,
     "metadata": {},
     "output_type": "execute_result"
    }
   ],
   "source": [
    "res = smf.ols('log(solve) ~ id',data=df2).fit()\n",
    "logn,logp = res.params\n",
    "exp(logn),exp(logp)"
   ]
  },
  {
   "cell_type": "code",
   "execution_count": 22,
   "metadata": {
    "collapsed": false
   },
   "outputs": [
    {
     "data": {
      "text/plain": [
       "(61664.20658032129, 0.98240025301503431)"
      ]
     },
     "execution_count": 22,
     "metadata": {},
     "output_type": "execute_result"
    }
   ],
   "source": [
    "res = smf.ols('log(solve) ~ id',data=df3).fit()\n",
    "logn,logp = res.params\n",
    "exp(logn),exp(logp)"
   ]
  },
  {
   "cell_type": "code",
   "execution_count": 23,
   "metadata": {
    "collapsed": false
   },
   "outputs": [
    {
     "data": {
      "text/plain": [
       "[<matplotlib.lines.Line2D at 0xb2432e8>]"
      ]
     },
     "execution_count": 23,
     "metadata": {},
     "output_type": "execute_result"
    },
    {
     "data": {
      "image/png": "[encoded data removed]",
      "text/plain": [
       "<matplotlib.figure.Figure at 0xaf320f0>"
      ]
     },
     "metadata": {},
     "output_type": "display_data"
    }
   ],
   "source": [
    "plt.plot(log(df2.solve))"
   ]
  },
  {
   "cell_type": "code",
   "execution_count": 24,
   "metadata": {
    "collapsed": false
   },
   "outputs": [
    {
     "data": {
      "text/plain": [
       "[<matplotlib.lines.Line2D at 0xb75b6a0>]"
      ]
     },
     "execution_count": 24,
     "metadata": {},
     "output_type": "execute_result"
    },
    {
     "data": {
      "image/png": "[encoded data removed]",
      "text/plain": [
       "<matplotlib.figure.Figure at 0xb2490b8>"
      ]
     },
     "metadata": {},
     "output_type": "display_data"
    }
   ],
   "source": [
    "plt.plot(log(df3.solve))"
   ]
  },
  {
   "cell_type": "code",
   "execution_count": 25,
   "metadata": {
    "collapsed": false
   },
   "outputs": [
    {
     "data": {
      "text/plain": [
       "Intercept    11.029459\n",
       "id           -0.017756\n",
       "dtype: float64"
      ]
     },
     "execution_count": 25,
     "metadata": {},
     "output_type": "execute_result"
    }
   ],
   "source": [
    "res.params"
   ]
  },
  {
   "cell_type": "code",
   "execution_count": 26,
   "metadata": {
    "collapsed": true
   },
   "outputs": [],
   "source": [
    "df4 = df3.copy()\n",
    "df4['id'] -= df4['id'].min() -1"
   ]
  },
  {
   "cell_type": "code",
   "execution_count": 27,
   "metadata": {
    "collapsed": false
   },
   "outputs": [
    {
     "data": {
      "text/plain": [
       "(95132.768745309499, 0.98002165648895589)"
      ]
     },
     "execution_count": 27,
     "metadata": {},
     "output_type": "execute_result"
    }
   ],
   "source": [
    "res = smf.ols('log(solve) ~ id',data=df).fit()\n",
    "logn,logp = res.params\n",
    "n,p = exp(logn),exp(logp)\n",
    "n,p"
   ]
  },
  {
   "cell_type": "code",
   "execution_count": 28,
   "metadata": {
    "collapsed": false
   },
   "outputs": [
    {
     "name": "stdout",
     "output_type": "stream",
     "text": [
      "\\begin{center}\n",
      "\\begin{tabular}{lclc}\n",
      "\\toprule\n",
      "\\textbf{Dep. Variable:}    &    log(solve)    & \\textbf{  R-squared:         } &     0.849   \\\\\n",
      "\\textbf{Model:}            &       OLS        & \\textbf{  Adj. R-squared:    } &     0.849   \\\\\n",
      "\\textbf{Method:}           &  Least Squares   & \\textbf{  F-statistic:       } &     1466.   \\\\\n",
      "\\textbf{Date:}             & Sat, 13 May 2017 & \\textbf{  Prob (F-statistic):} & 7.30e-109   \\\\\n",
      "\\textbf{Time:}             &     14:27:30     & \\textbf{  Log-Likelihood:    } &   -255.98   \\\\\n",
      "\\textbf{No. Observations:} &         262      & \\textbf{  AIC:               } &     516.0   \\\\\n",
      "\\textbf{Df Residuals:}     &         260      & \\textbf{  BIC:               } &     523.1   \\\\\n",
      "\\textbf{Df Model:}         &           1      & \\textbf{                     } &             \\\\\n",
      "\\bottomrule\n",
      "\\end{tabular}\n",
      "\\begin{tabular}{lccccc}\n",
      "                   & \\textbf{coef} & \\textbf{std err} & \\textbf{t} & \\textbf{P$>$$|$t$|$} & \\textbf{[95.0\\% Conf. Int.]}  \\\\\n",
      "\\midrule\n",
      "\\textbf{Intercept} &      11.4630  &        0.080     &   143.363  &         0.000        &        11.306    11.620       \\\\\n",
      "\\textbf{id}        &      -0.0202  &        0.001     &   -38.287  &         0.000        &        -0.021    -0.019       \\\\\n",
      "\\bottomrule\n",
      "\\end{tabular}\n",
      "\\begin{tabular}{lclc}\n",
      "\\textbf{Omnibus:}       & 22.352 & \\textbf{  Durbin-Watson:     } &    0.989  \\\\\n",
      "\\textbf{Prob(Omnibus):} &  0.000 & \\textbf{  Jarque-Bera (JB):  } &   25.530  \\\\\n",
      "\\textbf{Skew:}          &  0.712 & \\textbf{  Prob(JB):          } & 2.86e-06  \\\\\n",
      "\\textbf{Kurtosis:}      &  3.558 & \\textbf{  Cond. No.          } &     304.  \\\\\n",
      "\\bottomrule\n",
      "\\end{tabular}\n",
      "%\\caption{OLS Regression Results}\n",
      "\\end{center}\n"
     ]
    }
   ],
   "source": [
    "print(res.summary().as_latex())"
   ]
  },
  {
   "cell_type": "code",
   "execution_count": 29,
   "metadata": {
    "collapsed": false
   },
   "outputs": [
    {
     "data": {
      "image/png": "[encoded data removed]",
      "text/plain": [
       "<matplotlib.figure.Figure at 0xaf37128>"
      ]
     },
     "metadata": {},
     "output_type": "display_data"
    }
   ],
   "source": [
    "\n",
    "plt.plot(n*p**df.id,label='fit')\n",
    "plt.plot(df.solve,label='real')\n",
    "plt.legend()\n",
    "plt.show()"
   ]
  },
  {
   "cell_type": "code",
   "execution_count": 30,
   "metadata": {
    "collapsed": false
   },
   "outputs": [],
   "source": [
    "K = int(df.shape[0] * 1/10)\n",
    "df['lid'] = df['id'] * (df['id'] < K)\n",
    "df['rid'] = df['id'] * (df['id'] >= K)\n",
    "df['lC'] = (df['id'] < K).astype('int')\n",
    "df['rC'] = (df['id'] >= K).astype('int')\n",
    "#df['lK'] = df['id'] < K\n",
    "#df['gK'] = df['id] >= K"
   ]
  },
  {
   "cell_type": "code",
   "execution_count": 31,
   "metadata": {
    "collapsed": false
   },
   "outputs": [],
   "source": [
    "res = smf.ols('log(solve) ~ lC + lid + rC + rid -1',data = df).fit()"
   ]
  },
  {
   "cell_type": "code",
   "execution_count": 32,
   "metadata": {
    "collapsed": false
   },
   "outputs": [
    {
     "data": {
      "text/html": [
       "<table class=\"simpletable\">\n",
       "<caption>OLS Regression Results</caption>\n",
       "<tr>\n",
       "  <th>Dep. Variable:</th>       <td>log(solve)</td>    <th>  R-squared:         </th> <td>   0.887</td> \n",
       "</tr>\n",
       "<tr>\n",
       "  <th>Model:</th>                   <td>OLS</td>       <th>  Adj. R-squared:    </th> <td>   0.886</td> \n",
       "</tr>\n",
       "<tr>\n",
       "  <th>Method:</th>             <td>Least Squares</td>  <th>  F-statistic:       </th> <td>   677.2</td> \n",
       "</tr>\n",
       "<tr>\n",
       "  <th>Date:</th>             <td>Sat, 13 May 2017</td> <th>  Prob (F-statistic):</th> <td>5.95e-122</td>\n",
       "</tr>\n",
       "<tr>\n",
       "  <th>Time:</th>                 <td>14:27:31</td>     <th>  Log-Likelihood:    </th> <td> -217.95</td> \n",
       "</tr>\n",
       "<tr>\n",
       "  <th>No. Observations:</th>      <td>   262</td>      <th>  AIC:               </th> <td>   443.9</td> \n",
       "</tr>\n",
       "<tr>\n",
       "  <th>Df Residuals:</th>          <td>   258</td>      <th>  BIC:               </th> <td>   458.2</td> \n",
       "</tr>\n",
       "<tr>\n",
       "  <th>Df Model:</th>              <td>     3</td>      <th>                     </th>     <td> </td>    \n",
       "</tr>\n",
       "<tr>\n",
       "  <th>Covariance Type:</th>      <td>nonrobust</td>    <th>                     </th>     <td> </td>    \n",
       "</tr>\n",
       "</table>\n",
       "<table class=\"simpletable\">\n",
       "<tr>\n",
       "   <td></td>      <th>coef</th>     <th>std err</th>      <th>t</th>      <th>P>|t|</th> <th>[95.0% Conf. Int.]</th> \n",
       "</tr>\n",
       "<tr>\n",
       "  <th>lC</th>  <td>   12.9522</td> <td>    0.231</td> <td>   56.072</td> <td> 0.000</td> <td>   12.497    13.407</td>\n",
       "</tr>\n",
       "<tr>\n",
       "  <th>lid</th> <td>   -0.0741</td> <td>    0.016</td> <td>   -4.770</td> <td> 0.000</td> <td>   -0.105    -0.044</td>\n",
       "</tr>\n",
       "<tr>\n",
       "  <th>rC</th>  <td>   11.0358</td> <td>    0.085</td> <td>  130.136</td> <td> 0.000</td> <td>   10.869    11.203</td>\n",
       "</tr>\n",
       "<tr>\n",
       "  <th>rid</th> <td>   -0.0178</td> <td>    0.001</td> <td>  -33.447</td> <td> 0.000</td> <td>   -0.019    -0.017</td>\n",
       "</tr>\n",
       "</table>\n",
       "<table class=\"simpletable\">\n",
       "<tr>\n",
       "  <th>Omnibus:</th>       <td>27.715</td> <th>  Durbin-Watson:     </th> <td>   1.318</td>\n",
       "</tr>\n",
       "<tr>\n",
       "  <th>Prob(Omnibus):</th> <td> 0.000</td> <th>  Jarque-Bera (JB):  </th> <td>  38.377</td>\n",
       "</tr>\n",
       "<tr>\n",
       "  <th>Skew:</th>          <td> 0.699</td> <th>  Prob(JB):          </th> <td>4.64e-09</td>\n",
       "</tr>\n",
       "<tr>\n",
       "  <th>Kurtosis:</th>      <td> 4.249</td> <th>  Cond. No.          </th> <td>1.01e+03</td>\n",
       "</tr>\n",
       "</table>"
      ],
      "text/plain": [
       "<class 'statsmodels.iolib.summary.Summary'>\n",
       "\"\"\"\n",
       "                            OLS Regression Results                            \n",
       "==============================================================================\n",
       "Dep. Variable:             log(solve)   R-squared:                       0.887\n",
       "Model:                            OLS   Adj. R-squared:                  0.886\n",
       "Method:                 Least Squares   F-statistic:                     677.2\n",
       "Date:                Sat, 13 May 2017   Prob (F-statistic):          5.95e-122\n",
       "Time:                        14:27:31   Log-Likelihood:                -217.95\n",
       "No. Observations:                 262   AIC:                             443.9\n",
       "Df Residuals:                     258   BIC:                             458.2\n",
       "Df Model:                           3                                         \n",
       "Covariance Type:            nonrobust                                         \n",
       "==============================================================================\n",
       "                 coef    std err          t      P>|t|      [95.0% Conf. Int.]\n",
       "------------------------------------------------------------------------------\n",
       "lC            12.9522      0.231     56.072      0.000        12.497    13.407\n",
       "lid           -0.0741      0.016     -4.770      0.000        -0.105    -0.044\n",
       "rC            11.0358      0.085    130.136      0.000        10.869    11.203\n",
       "rid           -0.0178      0.001    -33.447      0.000        -0.019    -0.017\n",
       "==============================================================================\n",
       "Omnibus:                       27.715   Durbin-Watson:                   1.318\n",
       "Prob(Omnibus):                  0.000   Jarque-Bera (JB):               38.377\n",
       "Skew:                           0.699   Prob(JB):                     4.64e-09\n",
       "Kurtosis:                       4.249   Cond. No.                     1.01e+03\n",
       "==============================================================================\n",
       "\n",
       "Warnings:\n",
       "[1] Standard Errors assume that the covariance matrix of the errors is correctly specified.\n",
       "[2] The condition number is large, 1.01e+03. This might indicate that there are\n",
       "strong multicollinearity or other numerical problems.\n",
       "\"\"\""
      ]
     },
     "execution_count": 32,
     "metadata": {},
     "output_type": "execute_result"
    }
   ],
   "source": [
    "res.summary()"
   ]
  },
  {
   "cell_type": "code",
   "execution_count": 33,
   "metadata": {
    "collapsed": false
   },
   "outputs": [
    {
     "name": "stdout",
     "output_type": "stream",
     "text": [
      "\\begin{center}\n",
      "\\begin{tabular}{lclc}\n",
      "\\toprule\n",
      "\\textbf{Dep. Variable:}    &    log(solve)    & \\textbf{  R-squared:         } &     0.887   \\\\\n",
      "\\textbf{Model:}            &       OLS        & \\textbf{  Adj. R-squared:    } &     0.886   \\\\\n",
      "\\textbf{Method:}           &  Least Squares   & \\textbf{  F-statistic:       } &     677.2   \\\\\n",
      "\\textbf{Date:}             & Sat, 13 May 2017 & \\textbf{  Prob (F-statistic):} & 5.95e-122   \\\\\n",
      "\\textbf{Time:}             &     14:27:32     & \\textbf{  Log-Likelihood:    } &   -217.95   \\\\\n",
      "\\textbf{No. Observations:} &         262      & \\textbf{  AIC:               } &     443.9   \\\\\n",
      "\\textbf{Df Residuals:}     &         258      & \\textbf{  BIC:               } &     458.2   \\\\\n",
      "\\textbf{Df Model:}         &           3      & \\textbf{                     } &             \\\\\n",
      "\\bottomrule\n",
      "\\end{tabular}\n",
      "\\begin{tabular}{lccccc}\n",
      "             & \\textbf{coef} & \\textbf{std err} & \\textbf{t} & \\textbf{P$>$$|$t$|$} & \\textbf{[95.0\\% Conf. Int.]}  \\\\\n",
      "\\midrule\n",
      "\\textbf{lC}  &      12.9522  &        0.231     &    56.072  &         0.000        &        12.497    13.407       \\\\\n",
      "\\textbf{lid} &      -0.0741  &        0.016     &    -4.770  &         0.000        &        -0.105    -0.044       \\\\\n",
      "\\textbf{rC}  &      11.0358  &        0.085     &   130.136  &         0.000        &        10.869    11.203       \\\\\n",
      "\\textbf{rid} &      -0.0178  &        0.001     &   -33.447  &         0.000        &        -0.019    -0.017       \\\\\n",
      "\\bottomrule\n",
      "\\end{tabular}\n",
      "\\begin{tabular}{lclc}\n",
      "\\textbf{Omnibus:}       & 27.715 & \\textbf{  Durbin-Watson:     } &    1.318  \\\\\n",
      "\\textbf{Prob(Omnibus):} &  0.000 & \\textbf{  Jarque-Bera (JB):  } &   38.377  \\\\\n",
      "\\textbf{Skew:}          &  0.699 & \\textbf{  Prob(JB):          } & 4.64e-09  \\\\\n",
      "\\textbf{Kurtosis:}      &  4.249 & \\textbf{  Cond. No.          } & 1.01e+03  \\\\\n",
      "\\bottomrule\n",
      "\\end{tabular}\n",
      "%\\caption{OLS Regression Results}\n",
      "\\end{center}\n"
     ]
    }
   ],
   "source": [
    "print(res.summary().as_latex())"
   ]
  },
  {
   "cell_type": "code",
   "execution_count": 34,
   "metadata": {
    "collapsed": false
   },
   "outputs": [
    {
     "data": {
      "text/plain": [
       "(421772.40912348649,\n",
       " 0.92856124376505211,\n",
       " 62056.962122289784,\n",
       " 0.98236629358616134)"
      ]
     },
     "execution_count": 34,
     "metadata": {},
     "output_type": "execute_result"
    }
   ],
   "source": [
    "logn1,logp1,logn2,logp2 = res.params\n",
    "n1,p1,n2,p2 = exp(logn1),exp(logp1),exp(logn2),exp(logp2)\n",
    "n1,p1,n2,p2"
   ]
  },
  {
   "cell_type": "code",
   "execution_count": 35,
   "metadata": {
    "collapsed": false
   },
   "outputs": [],
   "source": [
    "res2 = smf.ols('log(solve) ~ id',data=df2).fit()\n",
    "logn2,logp2 = res2.params\n",
    "n2,p2 = exp(logn2),exp(logp2)"
   ]
  },
  {
   "cell_type": "code",
   "execution_count": 36,
   "metadata": {
    "collapsed": true
   },
   "outputs": [],
   "source": [
    "res3 = smf.ols('log(solve) ~ id',data=df3).fit()\n",
    "logn3,logp3 = res3.params\n",
    "n3,p3 = exp(logn3),exp(logp3)"
   ]
  },
  {
   "cell_type": "code",
   "execution_count": 37,
   "metadata": {
    "collapsed": false
   },
   "outputs": [
    {
     "data": {
      "image/png": "[encoded data removed]",
      "text/plain": [
       "<matplotlib.figure.Figure at 0xb264c50>"
      ]
     },
     "metadata": {},
     "output_type": "display_data"
    }
   ],
   "source": [
    "plt.plot(df2.id,n2*p2**df2.id,label='first fit')\n",
    "plt.plot(df3.id,n3*p3**df3.id,label='second fit')\n",
    "plt.plot(df.id,df.solve,label='real')\n",
    "#plt.yscale('log')\n",
    "plt.legend()\n",
    "plt.show()"
   ]
  },
  {
   "cell_type": "code",
   "execution_count": 38,
   "metadata": {
    "collapsed": false
   },
   "outputs": [
    {
     "data": {
      "image/png": "[encoded data removed]",
      "text/plain": [
       "<matplotlib.figure.Figure at 0xc0e20f0>"
      ]
     },
     "metadata": {},
     "output_type": "display_data"
    }
   ],
   "source": [
    "plt.plot(df2.id,n2*p2**df2.id,label='first fit')\n",
    "plt.plot(df3.id,n3*p3**df3.id,label='second fit')\n",
    "plt.plot(df.id,df.solve,label='real')\n",
    "plt.yscale('log')\n",
    "plt.legend()\n",
    "plt.show()"
   ]
  },
  {
   "cell_type": "code",
   "execution_count": 39,
   "metadata": {
    "collapsed": false
   },
   "outputs": [
    {
     "data": {
      "text/html": [
       "<div>\n",
       "<table border=\"1\" class=\"dataframe\">\n",
       "  <thead>\n",
       "    <tr style=\"text-align: right;\">\n",
       "      <th></th>\n",
       "      <th>id</th>\n",
       "      <th>content</th>\n",
       "      <th>des_len</th>\n",
       "      <th>diff</th>\n",
       "      <th>hit</th>\n",
       "      <th>id.1</th>\n",
       "      <th>solve</th>\n",
       "      <th>t_content</th>\n",
       "      <th>lid</th>\n",
       "      <th>rid</th>\n",
       "      <th>lC</th>\n",
       "      <th>rC</th>\n",
       "    </tr>\n",
       "  </thead>\n",
       "  <tbody>\n",
       "    <tr>\n",
       "      <th>0</th>\n",
       "      <td>1</td>\n",
       "      <td>187</td>\n",
       "      <td>25</td>\n",
       "      <td>5</td>\n",
       "      <td>13792</td>\n",
       "      <td>1</td>\n",
       "      <td>537234</td>\n",
       "      <td>85</td>\n",
       "      <td>1</td>\n",
       "      <td>0</td>\n",
       "      <td>1</td>\n",
       "      <td>0</td>\n",
       "    </tr>\n",
       "    <tr>\n",
       "      <th>1</th>\n",
       "      <td>2</td>\n",
       "      <td>312</td>\n",
       "      <td>32</td>\n",
       "      <td>5</td>\n",
       "      <td>7571</td>\n",
       "      <td>2</td>\n",
       "      <td>438350</td>\n",
       "      <td>135</td>\n",
       "      <td>2</td>\n",
       "      <td>0</td>\n",
       "      <td>1</td>\n",
       "      <td>0</td>\n",
       "    </tr>\n",
       "    <tr>\n",
       "      <th>2</th>\n",
       "      <td>3</td>\n",
       "      <td>111</td>\n",
       "      <td>17</td>\n",
       "      <td>5</td>\n",
       "      <td>6364</td>\n",
       "      <td>3</td>\n",
       "      <td>317208</td>\n",
       "      <td>65</td>\n",
       "      <td>3</td>\n",
       "      <td>0</td>\n",
       "      <td>1</td>\n",
       "      <td>0</td>\n",
       "    </tr>\n",
       "    <tr>\n",
       "      <th>3</th>\n",
       "      <td>4</td>\n",
       "      <td>209</td>\n",
       "      <td>20</td>\n",
       "      <td>5</td>\n",
       "      <td>5414</td>\n",
       "      <td>4</td>\n",
       "      <td>285419</td>\n",
       "      <td>101</td>\n",
       "      <td>4</td>\n",
       "      <td>0</td>\n",
       "      <td>1</td>\n",
       "      <td>0</td>\n",
       "    </tr>\n",
       "    <tr>\n",
       "      <th>4</th>\n",
       "      <td>5</td>\n",
       "      <td>206</td>\n",
       "      <td>24</td>\n",
       "      <td>5</td>\n",
       "      <td>4627</td>\n",
       "      <td>5</td>\n",
       "      <td>297082</td>\n",
       "      <td>70</td>\n",
       "      <td>5</td>\n",
       "      <td>0</td>\n",
       "      <td>1</td>\n",
       "      <td>0</td>\n",
       "    </tr>\n",
       "    <tr>\n",
       "      <th>5</th>\n",
       "      <td>6</td>\n",
       "      <td>431</td>\n",
       "      <td>17</td>\n",
       "      <td>5</td>\n",
       "      <td>4524</td>\n",
       "      <td>6</td>\n",
       "      <td>298805</td>\n",
       "      <td>156</td>\n",
       "      <td>6</td>\n",
       "      <td>0</td>\n",
       "      <td>1</td>\n",
       "      <td>0</td>\n",
       "    </tr>\n",
       "    <tr>\n",
       "      <th>6</th>\n",
       "      <td>7</td>\n",
       "      <td>137</td>\n",
       "      <td>16</td>\n",
       "      <td>5</td>\n",
       "      <td>3756</td>\n",
       "      <td>7</td>\n",
       "      <td>256030</td>\n",
       "      <td>62</td>\n",
       "      <td>7</td>\n",
       "      <td>0</td>\n",
       "      <td>1</td>\n",
       "      <td>0</td>\n",
       "    </tr>\n",
       "    <tr>\n",
       "      <th>7</th>\n",
       "      <td>8</td>\n",
       "      <td>1255</td>\n",
       "      <td>30</td>\n",
       "      <td>5</td>\n",
       "      <td>4263</td>\n",
       "      <td>8</td>\n",
       "      <td>220371</td>\n",
       "      <td>1071</td>\n",
       "      <td>8</td>\n",
       "      <td>0</td>\n",
       "      <td>1</td>\n",
       "      <td>0</td>\n",
       "    </tr>\n",
       "    <tr>\n",
       "      <th>8</th>\n",
       "      <td>9</td>\n",
       "      <td>229</td>\n",
       "      <td>46</td>\n",
       "      <td>5</td>\n",
       "      <td>4090</td>\n",
       "      <td>9</td>\n",
       "      <td>220702</td>\n",
       "      <td>157</td>\n",
       "      <td>9</td>\n",
       "      <td>0</td>\n",
       "      <td>1</td>\n",
       "      <td>0</td>\n",
       "    </tr>\n",
       "    <tr>\n",
       "      <th>9</th>\n",
       "      <td>10</td>\n",
       "      <td>105</td>\n",
       "      <td>19</td>\n",
       "      <td>5</td>\n",
       "      <td>3710</td>\n",
       "      <td>10</td>\n",
       "      <td>202710</td>\n",
       "      <td>65</td>\n",
       "      <td>10</td>\n",
       "      <td>0</td>\n",
       "      <td>1</td>\n",
       "      <td>0</td>\n",
       "    </tr>\n",
       "  </tbody>\n",
       "</table>\n",
       "</div>"
      ],
      "text/plain": [
       "   id  content  des_len  diff    hit  id.1   solve  t_content  lid  rid  lC  \\\n",
       "0   1      187       25     5  13792     1  537234         85    1    0   1   \n",
       "1   2      312       32     5   7571     2  438350        135    2    0   1   \n",
       "2   3      111       17     5   6364     3  317208         65    3    0   1   \n",
       "3   4      209       20     5   5414     4  285419        101    4    0   1   \n",
       "4   5      206       24     5   4627     5  297082         70    5    0   1   \n",
       "5   6      431       17     5   4524     6  298805        156    6    0   1   \n",
       "6   7      137       16     5   3756     7  256030         62    7    0   1   \n",
       "7   8     1255       30     5   4263     8  220371       1071    8    0   1   \n",
       "8   9      229       46     5   4090     9  220702        157    9    0   1   \n",
       "9  10      105       19     5   3710    10  202710         65   10    0   1   \n",
       "\n",
       "   rC  \n",
       "0   0  \n",
       "1   0  \n",
       "2   0  \n",
       "3   0  \n",
       "4   0  \n",
       "5   0  \n",
       "6   0  \n",
       "7   0  \n",
       "8   0  \n",
       "9   0  "
      ]
     },
     "execution_count": 39,
     "metadata": {},
     "output_type": "execute_result"
    }
   ],
   "source": [
    "df.head(10)"
   ]
  },
  {
   "cell_type": "code",
   "execution_count": 40,
   "metadata": {
    "collapsed": false
   },
   "outputs": [
    {
     "data": {
      "text/plain": [
       "0     1.0\n",
       "1     2.0\n",
       "2     3.0\n",
       "3     6.0\n",
       "4     5.0\n",
       "5     4.0\n",
       "6     7.0\n",
       "7     9.0\n",
       "8     8.0\n",
       "9    10.0\n",
       "Name: solve, dtype: float64"
      ]
     },
     "execution_count": 40,
     "metadata": {},
     "output_type": "execute_result"
    }
   ],
   "source": [
    "rank = df.solve.rank(ascending=False)\n",
    "rank.head(10)"
   ]
  },
  {
   "cell_type": "code",
   "execution_count": 41,
   "metadata": {
    "collapsed": false
   },
   "outputs": [],
   "source": [
    "df['solve_rank'] = rank"
   ]
  },
  {
   "cell_type": "code",
   "execution_count": 42,
   "metadata": {
    "collapsed": false
   },
   "outputs": [
    {
     "data": {
      "text/html": [
       "<div>\n",
       "<table border=\"1\" class=\"dataframe\">\n",
       "  <thead>\n",
       "    <tr style=\"text-align: right;\">\n",
       "      <th></th>\n",
       "      <th>id</th>\n",
       "      <th>content</th>\n",
       "      <th>des_len</th>\n",
       "      <th>diff</th>\n",
       "      <th>hit</th>\n",
       "      <th>id.1</th>\n",
       "      <th>solve</th>\n",
       "      <th>t_content</th>\n",
       "      <th>lid</th>\n",
       "      <th>rid</th>\n",
       "      <th>lC</th>\n",
       "      <th>rC</th>\n",
       "      <th>solve_rank</th>\n",
       "    </tr>\n",
       "  </thead>\n",
       "  <tbody>\n",
       "    <tr>\n",
       "      <th>0</th>\n",
       "      <td>1</td>\n",
       "      <td>187</td>\n",
       "      <td>25</td>\n",
       "      <td>5</td>\n",
       "      <td>13792</td>\n",
       "      <td>1</td>\n",
       "      <td>537234</td>\n",
       "      <td>85</td>\n",
       "      <td>1</td>\n",
       "      <td>0</td>\n",
       "      <td>1</td>\n",
       "      <td>0</td>\n",
       "      <td>1.0</td>\n",
       "    </tr>\n",
       "    <tr>\n",
       "      <th>1</th>\n",
       "      <td>2</td>\n",
       "      <td>312</td>\n",
       "      <td>32</td>\n",
       "      <td>5</td>\n",
       "      <td>7571</td>\n",
       "      <td>2</td>\n",
       "      <td>438350</td>\n",
       "      <td>135</td>\n",
       "      <td>2</td>\n",
       "      <td>0</td>\n",
       "      <td>1</td>\n",
       "      <td>0</td>\n",
       "      <td>2.0</td>\n",
       "    </tr>\n",
       "    <tr>\n",
       "      <th>2</th>\n",
       "      <td>3</td>\n",
       "      <td>111</td>\n",
       "      <td>17</td>\n",
       "      <td>5</td>\n",
       "      <td>6364</td>\n",
       "      <td>3</td>\n",
       "      <td>317208</td>\n",
       "      <td>65</td>\n",
       "      <td>3</td>\n",
       "      <td>0</td>\n",
       "      <td>1</td>\n",
       "      <td>0</td>\n",
       "      <td>3.0</td>\n",
       "    </tr>\n",
       "    <tr>\n",
       "      <th>3</th>\n",
       "      <td>4</td>\n",
       "      <td>209</td>\n",
       "      <td>20</td>\n",
       "      <td>5</td>\n",
       "      <td>5414</td>\n",
       "      <td>4</td>\n",
       "      <td>285419</td>\n",
       "      <td>101</td>\n",
       "      <td>4</td>\n",
       "      <td>0</td>\n",
       "      <td>1</td>\n",
       "      <td>0</td>\n",
       "      <td>6.0</td>\n",
       "    </tr>\n",
       "    <tr>\n",
       "      <th>4</th>\n",
       "      <td>5</td>\n",
       "      <td>206</td>\n",
       "      <td>24</td>\n",
       "      <td>5</td>\n",
       "      <td>4627</td>\n",
       "      <td>5</td>\n",
       "      <td>297082</td>\n",
       "      <td>70</td>\n",
       "      <td>5</td>\n",
       "      <td>0</td>\n",
       "      <td>1</td>\n",
       "      <td>0</td>\n",
       "      <td>5.0</td>\n",
       "    </tr>\n",
       "    <tr>\n",
       "      <th>5</th>\n",
       "      <td>6</td>\n",
       "      <td>431</td>\n",
       "      <td>17</td>\n",
       "      <td>5</td>\n",
       "      <td>4524</td>\n",
       "      <td>6</td>\n",
       "      <td>298805</td>\n",
       "      <td>156</td>\n",
       "      <td>6</td>\n",
       "      <td>0</td>\n",
       "      <td>1</td>\n",
       "      <td>0</td>\n",
       "      <td>4.0</td>\n",
       "    </tr>\n",
       "    <tr>\n",
       "      <th>6</th>\n",
       "      <td>7</td>\n",
       "      <td>137</td>\n",
       "      <td>16</td>\n",
       "      <td>5</td>\n",
       "      <td>3756</td>\n",
       "      <td>7</td>\n",
       "      <td>256030</td>\n",
       "      <td>62</td>\n",
       "      <td>7</td>\n",
       "      <td>0</td>\n",
       "      <td>1</td>\n",
       "      <td>0</td>\n",
       "      <td>7.0</td>\n",
       "    </tr>\n",
       "    <tr>\n",
       "      <th>7</th>\n",
       "      <td>8</td>\n",
       "      <td>1255</td>\n",
       "      <td>30</td>\n",
       "      <td>5</td>\n",
       "      <td>4263</td>\n",
       "      <td>8</td>\n",
       "      <td>220371</td>\n",
       "      <td>1071</td>\n",
       "      <td>8</td>\n",
       "      <td>0</td>\n",
       "      <td>1</td>\n",
       "      <td>0</td>\n",
       "      <td>9.0</td>\n",
       "    </tr>\n",
       "    <tr>\n",
       "      <th>8</th>\n",
       "      <td>9</td>\n",
       "      <td>229</td>\n",
       "      <td>46</td>\n",
       "      <td>5</td>\n",
       "      <td>4090</td>\n",
       "      <td>9</td>\n",
       "      <td>220702</td>\n",
       "      <td>157</td>\n",
       "      <td>9</td>\n",
       "      <td>0</td>\n",
       "      <td>1</td>\n",
       "      <td>0</td>\n",
       "      <td>8.0</td>\n",
       "    </tr>\n",
       "    <tr>\n",
       "      <th>9</th>\n",
       "      <td>10</td>\n",
       "      <td>105</td>\n",
       "      <td>19</td>\n",
       "      <td>5</td>\n",
       "      <td>3710</td>\n",
       "      <td>10</td>\n",
       "      <td>202710</td>\n",
       "      <td>65</td>\n",
       "      <td>10</td>\n",
       "      <td>0</td>\n",
       "      <td>1</td>\n",
       "      <td>0</td>\n",
       "      <td>10.0</td>\n",
       "    </tr>\n",
       "  </tbody>\n",
       "</table>\n",
       "</div>"
      ],
      "text/plain": [
       "   id  content  des_len  diff    hit  id.1   solve  t_content  lid  rid  lC  \\\n",
       "0   1      187       25     5  13792     1  537234         85    1    0   1   \n",
       "1   2      312       32     5   7571     2  438350        135    2    0   1   \n",
       "2   3      111       17     5   6364     3  317208         65    3    0   1   \n",
       "3   4      209       20     5   5414     4  285419        101    4    0   1   \n",
       "4   5      206       24     5   4627     5  297082         70    5    0   1   \n",
       "5   6      431       17     5   4524     6  298805        156    6    0   1   \n",
       "6   7      137       16     5   3756     7  256030         62    7    0   1   \n",
       "7   8     1255       30     5   4263     8  220371       1071    8    0   1   \n",
       "8   9      229       46     5   4090     9  220702        157    9    0   1   \n",
       "9  10      105       19     5   3710    10  202710         65   10    0   1   \n",
       "\n",
       "   rC  solve_rank  \n",
       "0   0         1.0  \n",
       "1   0         2.0  \n",
       "2   0         3.0  \n",
       "3   0         6.0  \n",
       "4   0         5.0  \n",
       "5   0         4.0  \n",
       "6   0         7.0  \n",
       "7   0         9.0  \n",
       "8   0         8.0  \n",
       "9   0        10.0  "
      ]
     },
     "execution_count": 42,
     "metadata": {},
     "output_type": "execute_result"
    }
   ],
   "source": [
    "df.head(10)"
   ]
  },
  {
   "cell_type": "code",
   "execution_count": 43,
   "metadata": {
    "collapsed": true
   },
   "outputs": [],
   "source": [
    "def fun(param):\n",
    "    n1,n2,p = param\n",
    "    Esolve = n1*p**df['id'] + n2*p**df['solve_rank']\n",
    "    return np.sum((df['solve'] - Esolve)**2)"
   ]
  },
  {
   "cell_type": "code",
   "execution_count": 44,
   "metadata": {
    "collapsed": false
   },
   "outputs": [
    {
     "data": {
      "text/plain": [
       "      fun: 627363351114.1097\n",
       " hess_inv: array([[1, 0, 0],\n",
       "       [0, 1, 0],\n",
       "       [0, 0, 1]])\n",
       "      jac: array([  5.09542400e+06,   4.83328000e+06,   7.01454574e+13])\n",
       "  message: 'Desired error not necessarily achieved due to precision loss.'\n",
       "     nfev: 27\n",
       "      nit: 0\n",
       "     njev: 3\n",
       "   status: 2\n",
       "  success: False\n",
       "        x: array([  3.05132000e+05,   1.00000000e+02,   9.80000000e-01])"
      ]
     },
     "execution_count": 44,
     "metadata": {},
     "output_type": "execute_result"
    }
   ],
   "source": [
    "minimize(fun,( 305132,100,0.98))"
   ]
  },
  {
   "cell_type": "code",
   "execution_count": 45,
   "metadata": {
    "collapsed": false
   },
   "outputs": [
    {
     "data": {
      "text/plain": [
       "584823550802.3755"
      ]
     },
     "execution_count": 45,
     "metadata": {},
     "output_type": "execute_result"
    }
   ],
   "source": [
    "fun((100000,100000,0.9))"
   ]
  },
  {
   "cell_type": "code",
   "execution_count": 46,
   "metadata": {
    "collapsed": true
   },
   "outputs": [],
   "source": [
    "param = ( 95132,100,0.98)"
   ]
  },
  {
   "cell_type": "code",
   "execution_count": 47,
   "metadata": {
    "collapsed": true
   },
   "outputs": [],
   "source": [
    "    n1,n2,p = param\n",
    "    Esolve = n1*p**df['id'] + n2*p**df['solve_rank']\n"
   ]
  },
  {
   "cell_type": "code",
   "execution_count": 48,
   "metadata": {
    "collapsed": false
   },
   "outputs": [
    {
     "data": {
      "text/plain": [
       "0    93327.360000\n",
       "1    91460.812800\n",
       "2    89631.596544\n",
       "3    87835.312035\n",
       "4    86082.185321\n",
       "dtype: float64"
      ]
     },
     "execution_count": 48,
     "metadata": {},
     "output_type": "execute_result"
    }
   ],
   "source": [
    "Esolve.head()"
   ]
  },
  {
   "cell_type": "code",
   "execution_count": 49,
   "metadata": {
    "collapsed": false
   },
   "outputs": [
    {
     "data": {
      "text/plain": [
       "630961486197.7689"
      ]
     },
     "execution_count": 49,
     "metadata": {},
     "output_type": "execute_result"
    }
   ],
   "source": [
    "np.sum((df['solve'] - Esolve)**2)"
   ]
  },
  {
   "cell_type": "code",
   "execution_count": 50,
   "metadata": {
    "collapsed": false
   },
   "outputs": [
    {
     "data": {
      "text/plain": [
       "      fun: 56480545798.34385\n",
       " hess_inv: <3x3 LbfgsInvHessProduct with dtype=float64>\n",
       "      jac: array([  1.44958496e+04,  -1.52587891e+04,   8.95867691e+09])\n",
       "  message: b'CONVERGENCE: REL_REDUCTION_OF_F_<=_FACTR*EPSMCH'\n",
       "     nfev: 84\n",
       "      nit: 10\n",
       "   status: 0\n",
       "  success: True\n",
       "        x: array([  2.19010514e+05,   2.28833833e+05,   9.30164431e-01])"
      ]
     },
     "execution_count": 50,
     "metadata": {},
     "output_type": "execute_result"
    }
   ],
   "source": [
    "minimize(fun,x0 = (10000,15000,0.95),bounds=((0,None),(0,None),(0,0.9999)),tol=1e-6)"
   ]
  },
  {
   "cell_type": "code",
   "execution_count": 51,
   "metadata": {
    "collapsed": false
   },
   "outputs": [
    {
     "data": {
      "text/plain": [
       "      fun: 54983198388.18133\n",
       " hess_inv: <3x3 LbfgsInvHessProduct with dtype=float64>\n",
       "      jac: array([  4.57763672e+03,  -3.05175781e+03,   6.28357697e+08])\n",
       "  message: b'CONVERGENCE: REL_REDUCTION_OF_F_<=_FACTR*EPSMCH'\n",
       "     nfev: 492\n",
       "      nit: 41\n",
       "   status: 0\n",
       "  success: True\n",
       "        x: array([  1.36106744e+05,   3.11131684e+05,   9.30330085e-01])"
      ]
     },
     "execution_count": 51,
     "metadata": {},
     "output_type": "execute_result"
    }
   ],
   "source": [
    "minimize(fun,x0 = (10000,15000,0.95),bounds=((0,None),(0,None),(0,0.9999)))"
   ]
  },
  {
   "cell_type": "code",
   "execution_count": 52,
   "metadata": {
    "collapsed": false
   },
   "outputs": [
    {
     "data": {
      "text/plain": [
       "      fun: 54983198388.18133\n",
       " hess_inv: <3x3 LbfgsInvHessProduct with dtype=float64>\n",
       "      jac: array([  4.57763672e+03,  -3.05175781e+03,   6.28357697e+08])\n",
       "  message: b'CONVERGENCE: REL_REDUCTION_OF_F_<=_FACTR*EPSMCH'\n",
       "     nfev: 492\n",
       "      nit: 41\n",
       "   status: 0\n",
       "  success: True\n",
       "        x: array([  1.36106744e+05,   3.11131684e+05,   9.30330085e-01])"
      ]
     },
     "execution_count": 52,
     "metadata": {},
     "output_type": "execute_result"
    }
   ],
   "source": [
    "minimize(fun,x0 = (10000,15000,0.95),bounds=((0,None),(0,None),(0,0.9999)),tol=1e-10)"
   ]
  },
  {
   "cell_type": "code",
   "execution_count": 53,
   "metadata": {
    "collapsed": false
   },
   "outputs": [
    {
     "data": {
      "text/plain": [
       "      fun: 56586930847.23505\n",
       " hess_inv: <3x3 LbfgsInvHessProduct with dtype=float64>\n",
       "      jac: array([  1.22070312e+04,  -1.67846680e+04,  -1.53985825e+09])\n",
       "  message: b'CONVERGENCE: REL_REDUCTION_OF_F_<=_FACTR*EPSMCH'\n",
       "     nfev: 108\n",
       "      nit: 11\n",
       "   status: 0\n",
       "  success: True\n",
       "        x: array([  2.22992967e+05,   2.25423658e+05,   9.30011451e-01])"
      ]
     },
     "execution_count": 53,
     "metadata": {},
     "output_type": "execute_result"
    }
   ],
   "source": [
    "minimize(fun,x0 = (100000,100000,0.95),bounds=((0,None),(0,None),(0,0.9999)))"
   ]
  },
  {
   "cell_type": "code",
   "execution_count": 54,
   "metadata": {
    "collapsed": true
   },
   "outputs": [],
   "source": [
    "def fun(param):\n",
    "    n1,n2,p1,p2 = param\n",
    "    Esolve = n1*p1**df['id'] + n2*p2**df['id']\n",
    "    return np.sum((df['solve'] - Esolve)**2)"
   ]
  },
  {
   "cell_type": "code",
   "execution_count": 55,
   "metadata": {
    "collapsed": false
   },
   "outputs": [
    {
     "data": {
      "text/plain": [
       "      fun: 23357538257.449345\n",
       " hess_inv: <4x4 LbfgsInvHessProduct with dtype=float64>\n",
       "      jac: array([  6.10351562e+03,   6.48498535e+03,   4.06295776e+07,\n",
       "        -2.68366623e+08])\n",
       "  message: b'CONVERGENCE: REL_REDUCTION_OF_F_<=_FACTR*EPSMCH'\n",
       "     nfev: 410\n",
       "      nit: 42\n",
       "   status: 0\n",
       "  success: True\n",
       "        x: array([  4.25457821e+05,   1.52096499e+05,   8.27528636e-01,\n",
       "         9.71799384e-01])"
      ]
     },
     "execution_count": 55,
     "metadata": {},
     "output_type": "execute_result"
    }
   ],
   "source": [
    "res = minimize(fun,x0 = (100000,80000,0.95,0.95),bounds=((0,None),(0,None),(0,0.99999),(0,0.99999)))\n",
    "res"
   ]
  },
  {
   "cell_type": "code",
   "execution_count": 56,
   "metadata": {
    "collapsed": false
   },
   "outputs": [],
   "source": [
    "n1,n2,p1,p2 = res.x"
   ]
  },
  {
   "cell_type": "code",
   "execution_count": 57,
   "metadata": {
    "collapsed": true
   },
   "outputs": [],
   "source": [
    "Esolve = n1*p1**df['id'] + n2*p2**df['id']"
   ]
  },
  {
   "cell_type": "code",
   "execution_count": 58,
   "metadata": {
    "collapsed": false
   },
   "outputs": [
    {
     "data": {
      "image/png": "[encoded data removed]",
      "text/plain": [
       "<matplotlib.figure.Figure at 0xc1a2860>"
      ]
     },
     "metadata": {},
     "output_type": "display_data"
    }
   ],
   "source": [
    "plt.plot(Esolve, label='fit')\n",
    "plt.plot(df.solve, label='real')\n",
    "plt.legend()\n",
    "plt.show()"
   ]
  },
  {
   "cell_type": "code",
   "execution_count": 59,
   "metadata": {
    "collapsed": false
   },
   "outputs": [
    {
     "data": {
      "image/png": "[encoded data removed]",
      "text/plain": [
       "<matplotlib.figure.Figure at 0xc165ef0>"
      ]
     },
     "metadata": {},
     "output_type": "display_data"
    }
   ],
   "source": [
    "plt.plot(Esolve, label='fit')\n",
    "plt.plot(df.solve, label='real')\n",
    "plt.yscale('log')\n",
    "plt.legend()\n",
    "plt.show()"
   ]
  },
  {
   "cell_type": "code",
   "execution_count": 60,
   "metadata": {
    "collapsed": true
   },
   "outputs": [],
   "source": [
    "def fun(param):\n",
    "    n1,n2,n3,p1,p2,p3 = param\n",
    "    Esolve = n1*p1**df['id'] + n2*p2**df['id'] + + n3*p3**df['id']\n",
    "    return np.sum((df['solve'] - Esolve)**2)"
   ]
  },
  {
   "cell_type": "code",
   "execution_count": 61,
   "metadata": {
    "collapsed": false
   },
   "outputs": [
    {
     "data": {
      "text/plain": [
       "      fun: 19162046683.818653\n",
       " hess_inv: <6x6 LbfgsInvHessProduct with dtype=float64>\n",
       "      jac: array([ -3.81469727e+03,  -1.67846680e+04,   1.67846680e+04,\n",
       "         5.02391815e+07,   4.45190430e+07,   2.30589676e+08])\n",
       "  message: b'CONVERGENCE: REL_REDUCTION_OF_F_<=_FACTR*EPSMCH'\n",
       "     nfev: 959\n",
       "      nit: 80\n",
       "   status: 0\n",
       "  success: True\n",
       "        x: array([  3.14874634e+05,   3.12449104e+05,   1.37903081e+05,\n",
       "         3.99205594e-01,   8.73436068e-01,   9.72693747e-01])"
      ]
     },
     "execution_count": 61,
     "metadata": {},
     "output_type": "execute_result"
    }
   ],
   "source": [
    "res = minimize(fun,x0 = (160000,80000,40000,0.9,0.95,0.98),bounds=((0,None),(0,None),(0,None),(0,0.99999),(0,0.99999),(0,0.99999)))\n",
    "res"
   ]
  },
  {
   "cell_type": "code",
   "execution_count": 62,
   "metadata": {
    "collapsed": false
   },
   "outputs": [],
   "source": [
    "n1,n2,n3,p1,p2,p3 = res.x\n",
    "Esolve = n1*p1**df['id'] + n2*p2**df['id'] + n3*p3**df['id']"
   ]
  },
  {
   "cell_type": "code",
   "execution_count": 63,
   "metadata": {
    "collapsed": false
   },
   "outputs": [
    {
     "data": {
      "image/png": "[encoded data removed]",
      "text/plain": [
       "<matplotlib.figure.Figure at 0xd9a92b0>"
      ]
     },
     "metadata": {},
     "output_type": "display_data"
    }
   ],
   "source": [
    "plt.plot(Esolve, label='fit')\n",
    "plt.plot(df.solve, label='real')\n",
    "plt.legend()\n",
    "plt.show()"
   ]
  },
  {
   "cell_type": "code",
   "execution_count": 64,
   "metadata": {
    "collapsed": false
   },
   "outputs": [
    {
     "data": {
      "image/png": "[encoded data removed]",
      "text/plain": [
       "<matplotlib.figure.Figure at 0xd9bf438>"
      ]
     },
     "metadata": {},
     "output_type": "display_data"
    }
   ],
   "source": [
    "plt.plot(Esolve, label='fit')\n",
    "plt.plot(df.solve, label='real')\n",
    "plt.yscale('log')\n",
    "plt.legend()\n",
    "plt.show()"
   ]
  },
  {
   "cell_type": "code",
   "execution_count": 65,
   "metadata": {
    "collapsed": false
   },
   "outputs": [],
   "source": [
    "df['solve_rank_rev'] = df['solve_rank'].max() - df['solve_rank'] + 1"
   ]
  },
  {
   "cell_type": "code",
   "execution_count": 66,
   "metadata": {
    "collapsed": false
   },
   "outputs": [
    {
     "data": {
      "text/html": [
       "<div>\n",
       "<table border=\"1\" class=\"dataframe\">\n",
       "  <thead>\n",
       "    <tr style=\"text-align: right;\">\n",
       "      <th></th>\n",
       "      <th>id</th>\n",
       "      <th>content</th>\n",
       "      <th>des_len</th>\n",
       "      <th>diff</th>\n",
       "      <th>hit</th>\n",
       "      <th>id.1</th>\n",
       "      <th>solve</th>\n",
       "      <th>t_content</th>\n",
       "      <th>lid</th>\n",
       "      <th>rid</th>\n",
       "      <th>lC</th>\n",
       "      <th>rC</th>\n",
       "      <th>solve_rank</th>\n",
       "      <th>solve_rank_rev</th>\n",
       "    </tr>\n",
       "  </thead>\n",
       "  <tbody>\n",
       "    <tr>\n",
       "      <th>257</th>\n",
       "      <td>258</td>\n",
       "      <td>126</td>\n",
       "      <td>15</td>\n",
       "      <td>70</td>\n",
       "      <td>237</td>\n",
       "      <td>258</td>\n",
       "      <td>973</td>\n",
       "      <td>131</td>\n",
       "      <td>0</td>\n",
       "      <td>258</td>\n",
       "      <td>0</td>\n",
       "      <td>1</td>\n",
       "      <td>236.0</td>\n",
       "      <td>27.0</td>\n",
       "    </tr>\n",
       "    <tr>\n",
       "      <th>258</th>\n",
       "      <td>259</td>\n",
       "      <td>717</td>\n",
       "      <td>9</td>\n",
       "      <td>70</td>\n",
       "      <td>194</td>\n",
       "      <td>259</td>\n",
       "      <td>1047</td>\n",
       "      <td>270</td>\n",
       "      <td>0</td>\n",
       "      <td>259</td>\n",
       "      <td>0</td>\n",
       "      <td>1</td>\n",
       "      <td>227.5</td>\n",
       "      <td>35.5</td>\n",
       "    </tr>\n",
       "    <tr>\n",
       "      <th>259</th>\n",
       "      <td>260</td>\n",
       "      <td>1164</td>\n",
       "      <td>10</td>\n",
       "      <td>70</td>\n",
       "      <td>287</td>\n",
       "      <td>260</td>\n",
       "      <td>882</td>\n",
       "      <td>495</td>\n",
       "      <td>0</td>\n",
       "      <td>260</td>\n",
       "      <td>0</td>\n",
       "      <td>1</td>\n",
       "      <td>241.0</td>\n",
       "      <td>22.0</td>\n",
       "    </tr>\n",
       "    <tr>\n",
       "      <th>260</th>\n",
       "      <td>261</td>\n",
       "      <td>458</td>\n",
       "      <td>11</td>\n",
       "      <td>85</td>\n",
       "      <td>334</td>\n",
       "      <td>261</td>\n",
       "      <td>447</td>\n",
       "      <td>304</td>\n",
       "      <td>0</td>\n",
       "      <td>261</td>\n",
       "      <td>0</td>\n",
       "      <td>1</td>\n",
       "      <td>261.0</td>\n",
       "      <td>2.0</td>\n",
       "    </tr>\n",
       "    <tr>\n",
       "      <th>261</th>\n",
       "      <td>262</td>\n",
       "      <td>997</td>\n",
       "      <td>12</td>\n",
       "      <td>80</td>\n",
       "      <td>210</td>\n",
       "      <td>262</td>\n",
       "      <td>488</td>\n",
       "      <td>193</td>\n",
       "      <td>0</td>\n",
       "      <td>262</td>\n",
       "      <td>0</td>\n",
       "      <td>1</td>\n",
       "      <td>260.0</td>\n",
       "      <td>3.0</td>\n",
       "    </tr>\n",
       "  </tbody>\n",
       "</table>\n",
       "</div>"
      ],
      "text/plain": [
       "      id  content  des_len  diff  hit  id.1  solve  t_content  lid  rid  lC  \\\n",
       "257  258      126       15    70  237   258    973        131    0  258   0   \n",
       "258  259      717        9    70  194   259   1047        270    0  259   0   \n",
       "259  260     1164       10    70  287   260    882        495    0  260   0   \n",
       "260  261      458       11    85  334   261    447        304    0  261   0   \n",
       "261  262      997       12    80  210   262    488        193    0  262   0   \n",
       "\n",
       "     rC  solve_rank  solve_rank_rev  \n",
       "257   1       236.0            27.0  \n",
       "258   1       227.5            35.5  \n",
       "259   1       241.0            22.0  \n",
       "260   1       261.0             2.0  \n",
       "261   1       260.0             3.0  "
      ]
     },
     "execution_count": 66,
     "metadata": {},
     "output_type": "execute_result"
    }
   ],
   "source": [
    "df.tail()"
   ]
  },
  {
   "cell_type": "code",
   "execution_count": 67,
   "metadata": {
    "collapsed": true
   },
   "outputs": [],
   "source": [
    "def fun(param):\n",
    "    n1,n2,p1,p2 = param\n",
    "    Esolve = n1*p1**df['id'] + n2*p2**df['solve_rank_rev']\n",
    "    return np.sum((df['solve'] - Esolve)**2)"
   ]
  },
  {
   "cell_type": "code",
   "execution_count": 68,
   "metadata": {
    "collapsed": false
   },
   "outputs": [
    {
     "data": {
      "text/plain": [
       "      fun: 69394083796.6872\n",
       " hess_inv: <4x4 LbfgsInvHessProduct with dtype=float64>\n",
       "      jac: array([ -1.52587891e+03,   0.00000000e+00,   4.98687744e+07,\n",
       "         2.73437500e+06])\n",
       "  message: b'CONVERGENCE: REL_REDUCTION_OF_F_<=_FACTR*EPSMCH'\n",
       "     nfev: 375\n",
       "      nit: 29\n",
       "   status: 0\n",
       "  success: True\n",
       "        x: array([  4.47616391e+05,   7.30544278e+03,   9.29196241e-01,\n",
       "         9.85999189e-02])"
      ]
     },
     "execution_count": 68,
     "metadata": {},
     "output_type": "execute_result"
    }
   ],
   "source": [
    "res = minimize(fun,x0 = (100000,15000,0.9,0.95),bounds=((0,None),(0,None),(0,0.9999),(0,0.9999)))\n",
    "res"
   ]
  },
  {
   "cell_type": "code",
   "execution_count": 69,
   "metadata": {
    "collapsed": true
   },
   "outputs": [],
   "source": [
    "n1,n2,p1,p2 = res.x\n",
    "Esolve = n1*p1**df['id'] + n2*p2**df['solve_rank_rev']"
   ]
  },
  {
   "cell_type": "code",
   "execution_count": 70,
   "metadata": {
    "collapsed": false
   },
   "outputs": [
    {
     "data": {
      "image/png": "[encoded data removed]",
      "text/plain": [
       "<matplotlib.figure.Figure at 0xc17c160>"
      ]
     },
     "metadata": {},
     "output_type": "display_data"
    }
   ],
   "source": [
    "plt.plot(Esolve, label='fit')\n",
    "plt.plot(df.solve, label='real')\n",
    "plt.legend()\n",
    "plt.show()"
   ]
  },
  {
   "cell_type": "code",
   "execution_count": 71,
   "metadata": {
    "collapsed": false
   },
   "outputs": [
    {
     "data": {
      "image/png": "[encoded data removed]",
      "text/plain": [
       "<matplotlib.figure.Figure at 0xc19cb00>"
      ]
     },
     "metadata": {},
     "output_type": "display_data"
    }
   ],
   "source": [
    "plt.plot(Esolve, label='fit')\n",
    "plt.plot(df.solve, label='real')\n",
    "plt.yscale('log')\n",
    "plt.legend()\n",
    "plt.show()"
   ]
  },
  {
   "cell_type": "code",
   "execution_count": 72,
   "metadata": {
    "collapsed": false
   },
   "outputs": [],
   "source": [
    "solve = df['solve']"
   ]
  },
  {
   "cell_type": "code",
   "execution_count": 73,
   "metadata": {
    "collapsed": true
   },
   "outputs": [],
   "source": [
    "df['solve_l1'] = solve.shift(1)\n",
    "df['solve_l2'] = solve.shift(2)\n",
    "df['solve_l3'] = solve.shift(3)\n",
    "df['solve_l4'] = solve.shift(4)\n",
    "df['solve_l5'] = solve.shift(5)"
   ]
  },
  {
   "cell_type": "code",
   "execution_count": 74,
   "metadata": {
    "collapsed": false
   },
   "outputs": [
    {
     "data": {
      "text/html": [
       "<div>\n",
       "<table border=\"1\" class=\"dataframe\">\n",
       "  <thead>\n",
       "    <tr style=\"text-align: right;\">\n",
       "      <th></th>\n",
       "      <th>id</th>\n",
       "      <th>content</th>\n",
       "      <th>des_len</th>\n",
       "      <th>diff</th>\n",
       "      <th>hit</th>\n",
       "      <th>id.1</th>\n",
       "      <th>solve</th>\n",
       "      <th>t_content</th>\n",
       "      <th>lid</th>\n",
       "      <th>rid</th>\n",
       "      <th>lC</th>\n",
       "      <th>rC</th>\n",
       "      <th>solve_rank</th>\n",
       "      <th>solve_rank_rev</th>\n",
       "      <th>solve_l1</th>\n",
       "      <th>solve_l2</th>\n",
       "      <th>solve_l3</th>\n",
       "      <th>solve_l4</th>\n",
       "      <th>solve_l5</th>\n",
       "    </tr>\n",
       "  </thead>\n",
       "  <tbody>\n",
       "    <tr>\n",
       "      <th>0</th>\n",
       "      <td>1</td>\n",
       "      <td>187</td>\n",
       "      <td>25</td>\n",
       "      <td>5</td>\n",
       "      <td>13792</td>\n",
       "      <td>1</td>\n",
       "      <td>537234</td>\n",
       "      <td>85</td>\n",
       "      <td>1</td>\n",
       "      <td>0</td>\n",
       "      <td>1</td>\n",
       "      <td>0</td>\n",
       "      <td>1.0</td>\n",
       "      <td>262.0</td>\n",
       "      <td>NaN</td>\n",
       "      <td>NaN</td>\n",
       "      <td>NaN</td>\n",
       "      <td>NaN</td>\n",
       "      <td>NaN</td>\n",
       "    </tr>\n",
       "    <tr>\n",
       "      <th>1</th>\n",
       "      <td>2</td>\n",
       "      <td>312</td>\n",
       "      <td>32</td>\n",
       "      <td>5</td>\n",
       "      <td>7571</td>\n",
       "      <td>2</td>\n",
       "      <td>438350</td>\n",
       "      <td>135</td>\n",
       "      <td>2</td>\n",
       "      <td>0</td>\n",
       "      <td>1</td>\n",
       "      <td>0</td>\n",
       "      <td>2.0</td>\n",
       "      <td>261.0</td>\n",
       "      <td>537234.0</td>\n",
       "      <td>NaN</td>\n",
       "      <td>NaN</td>\n",
       "      <td>NaN</td>\n",
       "      <td>NaN</td>\n",
       "    </tr>\n",
       "    <tr>\n",
       "      <th>2</th>\n",
       "      <td>3</td>\n",
       "      <td>111</td>\n",
       "      <td>17</td>\n",
       "      <td>5</td>\n",
       "      <td>6364</td>\n",
       "      <td>3</td>\n",
       "      <td>317208</td>\n",
       "      <td>65</td>\n",
       "      <td>3</td>\n",
       "      <td>0</td>\n",
       "      <td>1</td>\n",
       "      <td>0</td>\n",
       "      <td>3.0</td>\n",
       "      <td>260.0</td>\n",
       "      <td>438350.0</td>\n",
       "      <td>537234.0</td>\n",
       "      <td>NaN</td>\n",
       "      <td>NaN</td>\n",
       "      <td>NaN</td>\n",
       "    </tr>\n",
       "    <tr>\n",
       "      <th>3</th>\n",
       "      <td>4</td>\n",
       "      <td>209</td>\n",
       "      <td>20</td>\n",
       "      <td>5</td>\n",
       "      <td>5414</td>\n",
       "      <td>4</td>\n",
       "      <td>285419</td>\n",
       "      <td>101</td>\n",
       "      <td>4</td>\n",
       "      <td>0</td>\n",
       "      <td>1</td>\n",
       "      <td>0</td>\n",
       "      <td>6.0</td>\n",
       "      <td>257.0</td>\n",
       "      <td>317208.0</td>\n",
       "      <td>438350.0</td>\n",
       "      <td>537234.0</td>\n",
       "      <td>NaN</td>\n",
       "      <td>NaN</td>\n",
       "    </tr>\n",
       "    <tr>\n",
       "      <th>4</th>\n",
       "      <td>5</td>\n",
       "      <td>206</td>\n",
       "      <td>24</td>\n",
       "      <td>5</td>\n",
       "      <td>4627</td>\n",
       "      <td>5</td>\n",
       "      <td>297082</td>\n",
       "      <td>70</td>\n",
       "      <td>5</td>\n",
       "      <td>0</td>\n",
       "      <td>1</td>\n",
       "      <td>0</td>\n",
       "      <td>5.0</td>\n",
       "      <td>258.0</td>\n",
       "      <td>285419.0</td>\n",
       "      <td>317208.0</td>\n",
       "      <td>438350.0</td>\n",
       "      <td>537234.0</td>\n",
       "      <td>NaN</td>\n",
       "    </tr>\n",
       "  </tbody>\n",
       "</table>\n",
       "</div>"
      ],
      "text/plain": [
       "   id  content  des_len  diff    hit  id.1   solve  t_content  lid  rid  lC  \\\n",
       "0   1      187       25     5  13792     1  537234         85    1    0   1   \n",
       "1   2      312       32     5   7571     2  438350        135    2    0   1   \n",
       "2   3      111       17     5   6364     3  317208         65    3    0   1   \n",
       "3   4      209       20     5   5414     4  285419        101    4    0   1   \n",
       "4   5      206       24     5   4627     5  297082         70    5    0   1   \n",
       "\n",
       "   rC  solve_rank  solve_rank_rev  solve_l1  solve_l2  solve_l3  solve_l4  \\\n",
       "0   0         1.0           262.0       NaN       NaN       NaN       NaN   \n",
       "1   0         2.0           261.0  537234.0       NaN       NaN       NaN   \n",
       "2   0         3.0           260.0  438350.0  537234.0       NaN       NaN   \n",
       "3   0         6.0           257.0  317208.0  438350.0  537234.0       NaN   \n",
       "4   0         5.0           258.0  285419.0  317208.0  438350.0  537234.0   \n",
       "\n",
       "   solve_l5  \n",
       "0       NaN  \n",
       "1       NaN  \n",
       "2       NaN  \n",
       "3       NaN  \n",
       "4       NaN  "
      ]
     },
     "execution_count": 74,
     "metadata": {},
     "output_type": "execute_result"
    }
   ],
   "source": [
    "df.head()"
   ]
  },
  {
   "cell_type": "code",
   "execution_count": 75,
   "metadata": {
    "collapsed": false
   },
   "outputs": [
    {
     "data": {
      "text/html": [
       "<table class=\"simpletable\">\n",
       "<caption>OLS Regression Results</caption>\n",
       "<tr>\n",
       "  <th>Dep. Variable:</th>          <td>solve</td>      <th>  R-squared:         </th> <td>   0.958</td> \n",
       "</tr>\n",
       "<tr>\n",
       "  <th>Model:</th>                   <td>OLS</td>       <th>  Adj. R-squared:    </th> <td>   0.958</td> \n",
       "</tr>\n",
       "<tr>\n",
       "  <th>Method:</th>             <td>Least Squares</td>  <th>  F-statistic:       </th> <td>   5951.</td> \n",
       "</tr>\n",
       "<tr>\n",
       "  <th>Date:</th>             <td>Sat, 13 May 2017</td> <th>  Prob (F-statistic):</th> <td>1.05e-180</td>\n",
       "</tr>\n",
       "<tr>\n",
       "  <th>Time:</th>                 <td>14:27:43</td>     <th>  Log-Likelihood:    </th> <td> -2816.2</td> \n",
       "</tr>\n",
       "<tr>\n",
       "  <th>No. Observations:</th>      <td>   261</td>      <th>  AIC:               </th> <td>   5636.</td> \n",
       "</tr>\n",
       "<tr>\n",
       "  <th>Df Residuals:</th>          <td>   259</td>      <th>  BIC:               </th> <td>   5644.</td> \n",
       "</tr>\n",
       "<tr>\n",
       "  <th>Df Model:</th>              <td>     1</td>      <th>                     </th>     <td> </td>    \n",
       "</tr>\n",
       "<tr>\n",
       "  <th>Covariance Type:</th>      <td>nonrobust</td>    <th>                     </th>     <td> </td>    \n",
       "</tr>\n",
       "</table>\n",
       "<table class=\"simpletable\">\n",
       "<tr>\n",
       "      <td></td>         <th>coef</th>     <th>std err</th>      <th>t</th>      <th>P>|t|</th> <th>[95.0% Conf. Int.]</th> \n",
       "</tr>\n",
       "<tr>\n",
       "  <th>Intercept</th> <td> 2004.0414</td> <td>  796.786</td> <td>    2.515</td> <td> 0.013</td> <td>  435.037  3573.046</td>\n",
       "</tr>\n",
       "<tr>\n",
       "  <th>solve_l1</th>  <td>    0.8586</td> <td>    0.011</td> <td>   77.142</td> <td> 0.000</td> <td>    0.837     0.881</td>\n",
       "</tr>\n",
       "</table>\n",
       "<table class=\"simpletable\">\n",
       "<tr>\n",
       "  <th>Omnibus:</th>       <td>74.396</td> <th>  Durbin-Watson:     </th> <td>   2.390</td> \n",
       "</tr>\n",
       "<tr>\n",
       "  <th>Prob(Omnibus):</th> <td> 0.000</td> <th>  Jarque-Bera (JB):  </th> <td> 869.448</td> \n",
       "</tr>\n",
       "<tr>\n",
       "  <th>Skew:</th>          <td> 0.739</td> <th>  Prob(JB):          </th> <td>1.59e-189</td>\n",
       "</tr>\n",
       "<tr>\n",
       "  <th>Kurtosis:</th>      <td>11.818</td> <th>  Cond. No.          </th> <td>7.82e+04</td> \n",
       "</tr>\n",
       "</table>"
      ],
      "text/plain": [
       "<class 'statsmodels.iolib.summary.Summary'>\n",
       "\"\"\"\n",
       "                            OLS Regression Results                            \n",
       "==============================================================================\n",
       "Dep. Variable:                  solve   R-squared:                       0.958\n",
       "Model:                            OLS   Adj. R-squared:                  0.958\n",
       "Method:                 Least Squares   F-statistic:                     5951.\n",
       "Date:                Sat, 13 May 2017   Prob (F-statistic):          1.05e-180\n",
       "Time:                        14:27:43   Log-Likelihood:                -2816.2\n",
       "No. Observations:                 261   AIC:                             5636.\n",
       "Df Residuals:                     259   BIC:                             5644.\n",
       "Df Model:                           1                                         \n",
       "Covariance Type:            nonrobust                                         \n",
       "==============================================================================\n",
       "                 coef    std err          t      P>|t|      [95.0% Conf. Int.]\n",
       "------------------------------------------------------------------------------\n",
       "Intercept   2004.0414    796.786      2.515      0.013       435.037  3573.046\n",
       "solve_l1       0.8586      0.011     77.142      0.000         0.837     0.881\n",
       "==============================================================================\n",
       "Omnibus:                       74.396   Durbin-Watson:                   2.390\n",
       "Prob(Omnibus):                  0.000   Jarque-Bera (JB):              869.448\n",
       "Skew:                           0.739   Prob(JB):                    1.59e-189\n",
       "Kurtosis:                      11.818   Cond. No.                     7.82e+04\n",
       "==============================================================================\n",
       "\n",
       "Warnings:\n",
       "[1] Standard Errors assume that the covariance matrix of the errors is correctly specified.\n",
       "[2] The condition number is large, 7.82e+04. This might indicate that there are\n",
       "strong multicollinearity or other numerical problems.\n",
       "\"\"\""
      ]
     },
     "execution_count": 75,
     "metadata": {},
     "output_type": "execute_result"
    }
   ],
   "source": [
    "res = smf.ols('solve ~ solve_l1', data=df).fit()\n",
    "res.summary()"
   ]
  },
  {
   "cell_type": "code",
   "execution_count": 76,
   "metadata": {
    "collapsed": false
   },
   "outputs": [
    {
     "data": {
      "text/plain": [
       "<matplotlib.legend.Legend at 0xb7ae048>"
      ]
     },
     "execution_count": 76,
     "metadata": {},
     "output_type": "execute_result"
    },
    {
     "data": {
      "image/png": "[encoded data removed]",
      "text/plain": [
       "<matplotlib.figure.Figure at 0xb7aef28>"
      ]
     },
     "metadata": {},
     "output_type": "display_data"
    }
   ],
   "source": [
    "axis = df['id'][1:]\n",
    "plt.plot(axis, df['solve'][1:], label='real')\n",
    "plt.plot(axis, res.predict(), label='fit')\n",
    "plt.legend()"
   ]
  },
  {
   "cell_type": "code",
   "execution_count": 77,
   "metadata": {
    "collapsed": false
   },
   "outputs": [
    {
     "data": {
      "text/plain": [
       "<matplotlib.legend.Legend at 0xd907898>"
      ]
     },
     "execution_count": 77,
     "metadata": {},
     "output_type": "execute_result"
    },
    {
     "data": {
      "image/png": "[encoded data removed]",
      "text/plain": [
       "<matplotlib.figure.Figure at 0xc0b0898>"
      ]
     },
     "metadata": {},
     "output_type": "display_data"
    }
   ],
   "source": [
    "axis = df['id'][1:]\n",
    "plt.plot(axis, df['solve'][1:], label='real')\n",
    "plt.plot(axis, res.predict(), label='fit')\n",
    "plt.yscale('log')\n",
    "plt.legend()"
   ]
  },
  {
   "cell_type": "code",
   "execution_count": 78,
   "metadata": {
    "collapsed": false
   },
   "outputs": [],
   "source": [
    "#print(res.summary().as_latex())"
   ]
  },
  {
   "cell_type": "code",
   "execution_count": 79,
   "metadata": {
    "collapsed": false
   },
   "outputs": [
    {
     "data": {
      "text/html": [
       "<table class=\"simpletable\">\n",
       "<caption>OLS Regression Results</caption>\n",
       "<tr>\n",
       "  <th>Dep. Variable:</th>          <td>solve</td>      <th>  R-squared:         </th> <td>   0.965</td> \n",
       "</tr>\n",
       "<tr>\n",
       "  <th>Model:</th>                   <td>OLS</td>       <th>  Adj. R-squared:    </th> <td>   0.965</td> \n",
       "</tr>\n",
       "<tr>\n",
       "  <th>Method:</th>             <td>Least Squares</td>  <th>  F-statistic:       </th> <td>   7133.</td> \n",
       "</tr>\n",
       "<tr>\n",
       "  <th>Date:</th>             <td>Sat, 13 May 2017</td> <th>  Prob (F-statistic):</th> <td>5.01e-191</td>\n",
       "</tr>\n",
       "<tr>\n",
       "  <th>Time:</th>                 <td>14:27:45</td>     <th>  Log-Likelihood:    </th> <td> -2819.4</td> \n",
       "</tr>\n",
       "<tr>\n",
       "  <th>No. Observations:</th>      <td>   261</td>      <th>  AIC:               </th> <td>   5641.</td> \n",
       "</tr>\n",
       "<tr>\n",
       "  <th>Df Residuals:</th>          <td>   260</td>      <th>  BIC:               </th> <td>   5644.</td> \n",
       "</tr>\n",
       "<tr>\n",
       "  <th>Df Model:</th>              <td>     1</td>      <th>                     </th>     <td> </td>    \n",
       "</tr>\n",
       "<tr>\n",
       "  <th>Covariance Type:</th>      <td>nonrobust</td>    <th>                     </th>     <td> </td>    \n",
       "</tr>\n",
       "</table>\n",
       "<table class=\"simpletable\">\n",
       "<tr>\n",
       "      <td></td>        <th>coef</th>     <th>std err</th>      <th>t</th>      <th>P>|t|</th> <th>[95.0% Conf. Int.]</th> \n",
       "</tr>\n",
       "<tr>\n",
       "  <th>solve_l1</th> <td>    0.8698</td> <td>    0.010</td> <td>   84.458</td> <td> 0.000</td> <td>    0.850     0.890</td>\n",
       "</tr>\n",
       "</table>\n",
       "<table class=\"simpletable\">\n",
       "<tr>\n",
       "  <th>Omnibus:</th>       <td>62.426</td> <th>  Durbin-Watson:     </th> <td>   2.362</td> \n",
       "</tr>\n",
       "<tr>\n",
       "  <th>Prob(Omnibus):</th> <td> 0.000</td> <th>  Jarque-Bera (JB):  </th> <td> 945.115</td> \n",
       "</tr>\n",
       "<tr>\n",
       "  <th>Skew:</th>          <td> 0.399</td> <th>  Prob(JB):          </th> <td>5.90e-206</td>\n",
       "</tr>\n",
       "<tr>\n",
       "  <th>Kurtosis:</th>      <td>12.288</td> <th>  Cond. No.          </th> <td>    1.00</td> \n",
       "</tr>\n",
       "</table>"
      ],
      "text/plain": [
       "<class 'statsmodels.iolib.summary.Summary'>\n",
       "\"\"\"\n",
       "                            OLS Regression Results                            \n",
       "==============================================================================\n",
       "Dep. Variable:                  solve   R-squared:                       0.965\n",
       "Model:                            OLS   Adj. R-squared:                  0.965\n",
       "Method:                 Least Squares   F-statistic:                     7133.\n",
       "Date:                Sat, 13 May 2017   Prob (F-statistic):          5.01e-191\n",
       "Time:                        14:27:45   Log-Likelihood:                -2819.4\n",
       "No. Observations:                 261   AIC:                             5641.\n",
       "Df Residuals:                     260   BIC:                             5644.\n",
       "Df Model:                           1                                         \n",
       "Covariance Type:            nonrobust                                         \n",
       "==============================================================================\n",
       "                 coef    std err          t      P>|t|      [95.0% Conf. Int.]\n",
       "------------------------------------------------------------------------------\n",
       "solve_l1       0.8698      0.010     84.458      0.000         0.850     0.890\n",
       "==============================================================================\n",
       "Omnibus:                       62.426   Durbin-Watson:                   2.362\n",
       "Prob(Omnibus):                  0.000   Jarque-Bera (JB):              945.115\n",
       "Skew:                           0.399   Prob(JB):                    5.90e-206\n",
       "Kurtosis:                      12.288   Cond. No.                         1.00\n",
       "==============================================================================\n",
       "\n",
       "Warnings:\n",
       "[1] Standard Errors assume that the covariance matrix of the errors is correctly specified.\n",
       "\"\"\""
      ]
     },
     "execution_count": 79,
     "metadata": {},
     "output_type": "execute_result"
    }
   ],
   "source": [
    "res = smf.ols('solve ~ solve_l1 -1', data=df).fit()\n",
    "res.summary()"
   ]
  },
  {
   "cell_type": "code",
   "execution_count": 80,
   "metadata": {
    "collapsed": false
   },
   "outputs": [],
   "source": [
    "#print(res.summary().as_latex())"
   ]
  },
  {
   "cell_type": "code",
   "execution_count": 81,
   "metadata": {
    "collapsed": false
   },
   "outputs": [
    {
     "data": {
      "text/html": [
       "<table class=\"simpletable\">\n",
       "<caption>OLS Regression Results</caption>\n",
       "<tr>\n",
       "  <th>Dep. Variable:</th>          <td>solve</td>      <th>  R-squared:         </th> <td>   0.960</td> \n",
       "</tr>\n",
       "<tr>\n",
       "  <th>Model:</th>                   <td>OLS</td>       <th>  Adj. R-squared:    </th> <td>   0.959</td> \n",
       "</tr>\n",
       "<tr>\n",
       "  <th>Method:</th>             <td>Least Squares</td>  <th>  F-statistic:       </th> <td>   2019.</td> \n",
       "</tr>\n",
       "<tr>\n",
       "  <th>Date:</th>             <td>Sat, 13 May 2017</td> <th>  Prob (F-statistic):</th> <td>2.61e-177</td>\n",
       "</tr>\n",
       "<tr>\n",
       "  <th>Time:</th>                 <td>14:27:45</td>     <th>  Log-Likelihood:    </th> <td> -2746.0</td> \n",
       "</tr>\n",
       "<tr>\n",
       "  <th>No. Observations:</th>      <td>   259</td>      <th>  AIC:               </th> <td>   5500.</td> \n",
       "</tr>\n",
       "<tr>\n",
       "  <th>Df Residuals:</th>          <td>   255</td>      <th>  BIC:               </th> <td>   5514.</td> \n",
       "</tr>\n",
       "<tr>\n",
       "  <th>Df Model:</th>              <td>     3</td>      <th>                     </th>     <td> </td>    \n",
       "</tr>\n",
       "<tr>\n",
       "  <th>Covariance Type:</th>      <td>nonrobust</td>    <th>                     </th>     <td> </td>    \n",
       "</tr>\n",
       "</table>\n",
       "<table class=\"simpletable\">\n",
       "<tr>\n",
       "      <td></td>         <th>coef</th>     <th>std err</th>      <th>t</th>      <th>P>|t|</th> <th>[95.0% Conf. Int.]</th> \n",
       "</tr>\n",
       "<tr>\n",
       "  <th>Intercept</th> <td> 1322.4878</td> <td>  682.037</td> <td>    1.939</td> <td> 0.054</td> <td>  -20.655  2665.630</td>\n",
       "</tr>\n",
       "<tr>\n",
       "  <th>solve_l1</th>  <td>    0.5457</td> <td>    0.054</td> <td>   10.164</td> <td> 0.000</td> <td>    0.440     0.651</td>\n",
       "</tr>\n",
       "<tr>\n",
       "  <th>solve_l2</th>  <td>    0.1739</td> <td>    0.063</td> <td>    2.782</td> <td> 0.006</td> <td>    0.051     0.297</td>\n",
       "</tr>\n",
       "<tr>\n",
       "  <th>solve_l3</th>  <td>    0.1458</td> <td>    0.047</td> <td>    3.132</td> <td> 0.002</td> <td>    0.054     0.237</td>\n",
       "</tr>\n",
       "</table>\n",
       "<table class=\"simpletable\">\n",
       "<tr>\n",
       "  <th>Omnibus:</th>       <td>112.242</td> <th>  Durbin-Watson:     </th> <td>   2.414</td> \n",
       "</tr>\n",
       "<tr>\n",
       "  <th>Prob(Omnibus):</th> <td> 0.000</td>  <th>  Jarque-Bera (JB):  </th> <td>1166.361</td> \n",
       "</tr>\n",
       "<tr>\n",
       "  <th>Skew:</th>          <td> 1.422</td>  <th>  Prob(JB):          </th> <td>5.34e-254</td>\n",
       "</tr>\n",
       "<tr>\n",
       "  <th>Kurtosis:</th>      <td>13.000</td>  <th>  Cond. No.          </th> <td>1.24e+05</td> \n",
       "</tr>\n",
       "</table>"
      ],
      "text/plain": [
       "<class 'statsmodels.iolib.summary.Summary'>\n",
       "\"\"\"\n",
       "                            OLS Regression Results                            \n",
       "==============================================================================\n",
       "Dep. Variable:                  solve   R-squared:                       0.960\n",
       "Model:                            OLS   Adj. R-squared:                  0.959\n",
       "Method:                 Least Squares   F-statistic:                     2019.\n",
       "Date:                Sat, 13 May 2017   Prob (F-statistic):          2.61e-177\n",
       "Time:                        14:27:45   Log-Likelihood:                -2746.0\n",
       "No. Observations:                 259   AIC:                             5500.\n",
       "Df Residuals:                     255   BIC:                             5514.\n",
       "Df Model:                           3                                         \n",
       "Covariance Type:            nonrobust                                         \n",
       "==============================================================================\n",
       "                 coef    std err          t      P>|t|      [95.0% Conf. Int.]\n",
       "------------------------------------------------------------------------------\n",
       "Intercept   1322.4878    682.037      1.939      0.054       -20.655  2665.630\n",
       "solve_l1       0.5457      0.054     10.164      0.000         0.440     0.651\n",
       "solve_l2       0.1739      0.063      2.782      0.006         0.051     0.297\n",
       "solve_l3       0.1458      0.047      3.132      0.002         0.054     0.237\n",
       "==============================================================================\n",
       "Omnibus:                      112.242   Durbin-Watson:                   2.414\n",
       "Prob(Omnibus):                  0.000   Jarque-Bera (JB):             1166.361\n",
       "Skew:                           1.422   Prob(JB):                    5.34e-254\n",
       "Kurtosis:                      13.000   Cond. No.                     1.24e+05\n",
       "==============================================================================\n",
       "\n",
       "Warnings:\n",
       "[1] Standard Errors assume that the covariance matrix of the errors is correctly specified.\n",
       "[2] The condition number is large, 1.24e+05. This might indicate that there are\n",
       "strong multicollinearity or other numerical problems.\n",
       "\"\"\""
      ]
     },
     "execution_count": 81,
     "metadata": {},
     "output_type": "execute_result"
    }
   ],
   "source": [
    "res = smf.ols('solve ~ solve_l1 + solve_l2 + solve_l3', data=df).fit()\n",
    "res.summary()"
   ]
  },
  {
   "cell_type": "code",
   "execution_count": 82,
   "metadata": {
    "collapsed": true
   },
   "outputs": [],
   "source": [
    "diff_hard_threshold = 30\n",
    "df['diff_hard'] = (df['diff'] > diff_hard_threshold).astype(int)"
   ]
  },
  {
   "cell_type": "code",
   "execution_count": 83,
   "metadata": {
    "collapsed": false
   },
   "outputs": [
    {
     "data": {
      "text/html": [
       "<table class=\"simpletable\">\n",
       "<caption>OLS Regression Results</caption>\n",
       "<tr>\n",
       "  <th>Dep. Variable:</th>          <td>solve</td>      <th>  R-squared:         </th> <td>   0.961</td> \n",
       "</tr>\n",
       "<tr>\n",
       "  <th>Model:</th>                   <td>OLS</td>       <th>  Adj. R-squared:    </th> <td>   0.961</td> \n",
       "</tr>\n",
       "<tr>\n",
       "  <th>Method:</th>             <td>Least Squares</td>  <th>  F-statistic:       </th> <td>   3190.</td> \n",
       "</tr>\n",
       "<tr>\n",
       "  <th>Date:</th>             <td>Sat, 13 May 2017</td> <th>  Prob (F-statistic):</th> <td>1.13e-182</td>\n",
       "</tr>\n",
       "<tr>\n",
       "  <th>Time:</th>                 <td>14:27:45</td>     <th>  Log-Likelihood:    </th> <td> -2807.0</td> \n",
       "</tr>\n",
       "<tr>\n",
       "  <th>No. Observations:</th>      <td>   261</td>      <th>  AIC:               </th> <td>   5620.</td> \n",
       "</tr>\n",
       "<tr>\n",
       "  <th>Df Residuals:</th>          <td>   258</td>      <th>  BIC:               </th> <td>   5631.</td> \n",
       "</tr>\n",
       "<tr>\n",
       "  <th>Df Model:</th>              <td>     2</td>      <th>                     </th>     <td> </td>    \n",
       "</tr>\n",
       "<tr>\n",
       "  <th>Covariance Type:</th>      <td>nonrobust</td>    <th>                     </th>     <td> </td>    \n",
       "</tr>\n",
       "</table>\n",
       "<table class=\"simpletable\">\n",
       "<tr>\n",
       "           <td></td>             <th>coef</th>     <th>std err</th>      <th>t</th>      <th>P>|t|</th> <th>[95.0% Conf. Int.]</th> \n",
       "</tr>\n",
       "<tr>\n",
       "  <th>Intercept</th>          <td> 3928.8190</td> <td>  888.898</td> <td>    4.420</td> <td> 0.000</td> <td> 2178.399  5679.239</td>\n",
       "</tr>\n",
       "<tr>\n",
       "  <th>solve_l1</th>           <td>    0.8508</td> <td>    0.011</td> <td>   77.956</td> <td> 0.000</td> <td>    0.829     0.872</td>\n",
       "</tr>\n",
       "<tr>\n",
       "  <th>diff_hard:solve_l1</th> <td>   -0.8225</td> <td>    0.189</td> <td>   -4.345</td> <td> 0.000</td> <td>   -1.195    -0.450</td>\n",
       "</tr>\n",
       "</table>\n",
       "<table class=\"simpletable\">\n",
       "<tr>\n",
       "  <th>Omnibus:</th>       <td>75.418</td> <th>  Durbin-Watson:     </th> <td>   2.343</td> \n",
       "</tr>\n",
       "<tr>\n",
       "  <th>Prob(Omnibus):</th> <td> 0.000</td> <th>  Jarque-Bera (JB):  </th> <td>1059.431</td> \n",
       "</tr>\n",
       "<tr>\n",
       "  <th>Skew:</th>          <td> 0.688</td> <th>  Prob(JB):          </th> <td>8.86e-231</td>\n",
       "</tr>\n",
       "<tr>\n",
       "  <th>Kurtosis:</th>      <td>12.774</td> <th>  Cond. No.          </th> <td>9.01e+04</td> \n",
       "</tr>\n",
       "</table>"
      ],
      "text/plain": [
       "<class 'statsmodels.iolib.summary.Summary'>\n",
       "\"\"\"\n",
       "                            OLS Regression Results                            \n",
       "==============================================================================\n",
       "Dep. Variable:                  solve   R-squared:                       0.961\n",
       "Model:                            OLS   Adj. R-squared:                  0.961\n",
       "Method:                 Least Squares   F-statistic:                     3190.\n",
       "Date:                Sat, 13 May 2017   Prob (F-statistic):          1.13e-182\n",
       "Time:                        14:27:45   Log-Likelihood:                -2807.0\n",
       "No. Observations:                 261   AIC:                             5620.\n",
       "Df Residuals:                     258   BIC:                             5631.\n",
       "Df Model:                           2                                         \n",
       "Covariance Type:            nonrobust                                         \n",
       "======================================================================================\n",
       "                         coef    std err          t      P>|t|      [95.0% Conf. Int.]\n",
       "--------------------------------------------------------------------------------------\n",
       "Intercept           3928.8190    888.898      4.420      0.000      2178.399  5679.239\n",
       "solve_l1               0.8508      0.011     77.956      0.000         0.829     0.872\n",
       "diff_hard:solve_l1    -0.8225      0.189     -4.345      0.000        -1.195    -0.450\n",
       "==============================================================================\n",
       "Omnibus:                       75.418   Durbin-Watson:                   2.343\n",
       "Prob(Omnibus):                  0.000   Jarque-Bera (JB):             1059.431\n",
       "Skew:                           0.688   Prob(JB):                    8.86e-231\n",
       "Kurtosis:                      12.774   Cond. No.                     9.01e+04\n",
       "==============================================================================\n",
       "\n",
       "Warnings:\n",
       "[1] Standard Errors assume that the covariance matrix of the errors is correctly specified.\n",
       "[2] The condition number is large, 9.01e+04. This might indicate that there are\n",
       "strong multicollinearity or other numerical problems.\n",
       "\"\"\""
      ]
     },
     "execution_count": 83,
     "metadata": {},
     "output_type": "execute_result"
    }
   ],
   "source": [
    "res = smf.ols('solve ~ solve_l1 + diff_hard:solve_l1', data=df).fit()\n",
    "res.summary()"
   ]
  },
  {
   "cell_type": "code",
   "execution_count": 84,
   "metadata": {
    "collapsed": false
   },
   "outputs": [],
   "source": [
    "#print(res.summary().as_latex())"
   ]
  },
  {
   "cell_type": "code",
   "execution_count": 85,
   "metadata": {
    "collapsed": false
   },
   "outputs": [
    {
     "data": {
      "text/plain": [
       "83"
      ]
     },
     "execution_count": 85,
     "metadata": {},
     "output_type": "execute_result"
    }
   ],
   "source": [
    "(df['diff'] > 30).argmax()"
   ]
  },
  {
   "cell_type": "code",
   "execution_count": 86,
   "metadata": {
    "collapsed": false
   },
   "outputs": [
    {
     "data": {
      "text/plain": [
       "<matplotlib.legend.Legend at 0xb803400>"
      ]
     },
     "execution_count": 86,
     "metadata": {},
     "output_type": "execute_result"
    },
    {
     "data": {
      "image/png": "[encoded data removed]",
      "text/plain": [
       "<matplotlib.figure.Figure at 0xb8039b0>"
      ]
     },
     "metadata": {},
     "output_type": "display_data"
    }
   ],
   "source": [
    "cut = 100\n",
    "lag = 1\n",
    "axis = df['id'][lag+cut:]\n",
    "plt.plot(axis, df['solve'][lag+cut:], label='real')\n",
    "plt.plot(axis, res.predict()[cut:], label='fit')\n",
    "plt.legend()"
   ]
  },
  {
   "cell_type": "code",
   "execution_count": 87,
   "metadata": {
    "collapsed": false
   },
   "outputs": [
    {
     "data": {
      "text/html": [
       "<table class=\"simpletable\">\n",
       "<caption>OLS Regression Results</caption>\n",
       "<tr>\n",
       "  <th>Dep. Variable:</th>          <td>solve</td>      <th>  R-squared:         </th> <td>   0.966</td> \n",
       "</tr>\n",
       "<tr>\n",
       "  <th>Model:</th>                   <td>OLS</td>       <th>  Adj. R-squared:    </th> <td>   0.965</td> \n",
       "</tr>\n",
       "<tr>\n",
       "  <th>Method:</th>             <td>Least Squares</td>  <th>  F-statistic:       </th> <td>   3634.</td> \n",
       "</tr>\n",
       "<tr>\n",
       "  <th>Date:</th>             <td>Sat, 13 May 2017</td> <th>  Prob (F-statistic):</th> <td>3.17e-190</td>\n",
       "</tr>\n",
       "<tr>\n",
       "  <th>Time:</th>                 <td>14:27:46</td>     <th>  Log-Likelihood:    </th> <td> -2816.6</td> \n",
       "</tr>\n",
       "<tr>\n",
       "  <th>No. Observations:</th>      <td>   261</td>      <th>  AIC:               </th> <td>   5637.</td> \n",
       "</tr>\n",
       "<tr>\n",
       "  <th>Df Residuals:</th>          <td>   259</td>      <th>  BIC:               </th> <td>   5644.</td> \n",
       "</tr>\n",
       "<tr>\n",
       "  <th>Df Model:</th>              <td>     2</td>      <th>                     </th>     <td> </td>    \n",
       "</tr>\n",
       "<tr>\n",
       "  <th>Covariance Type:</th>      <td>nonrobust</td>    <th>                     </th>     <td> </td>    \n",
       "</tr>\n",
       "</table>\n",
       "<table class=\"simpletable\">\n",
       "<tr>\n",
       "           <td></td>             <th>coef</th>     <th>std err</th>      <th>t</th>      <th>P>|t|</th> <th>[95.0% Conf. Int.]</th> \n",
       "</tr>\n",
       "<tr>\n",
       "  <th>solve_l1</th>           <td>    0.8713</td> <td>    0.010</td> <td>   85.207</td> <td> 0.000</td> <td>    0.851     0.891</td>\n",
       "</tr>\n",
       "<tr>\n",
       "  <th>diff_hard:solve_l1</th> <td>   -0.4055</td> <td>    0.170</td> <td>   -2.387</td> <td> 0.018</td> <td>   -0.740    -0.071</td>\n",
       "</tr>\n",
       "</table>\n",
       "<table class=\"simpletable\">\n",
       "<tr>\n",
       "  <th>Omnibus:</th>       <td>61.517</td> <th>  Durbin-Watson:     </th> <td>   2.290</td> \n",
       "</tr>\n",
       "<tr>\n",
       "  <th>Prob(Omnibus):</th> <td> 0.000</td> <th>  Jarque-Bera (JB):  </th> <td>1185.953</td> \n",
       "</tr>\n",
       "<tr>\n",
       "  <th>Skew:</th>          <td> 0.215</td> <th>  Prob(JB):          </th> <td>2.98e-258</td>\n",
       "</tr>\n",
       "<tr>\n",
       "  <th>Kurtosis:</th>      <td>13.434</td> <th>  Cond. No.          </th> <td>    16.6</td> \n",
       "</tr>\n",
       "</table>"
      ],
      "text/plain": [
       "<class 'statsmodels.iolib.summary.Summary'>\n",
       "\"\"\"\n",
       "                            OLS Regression Results                            \n",
       "==============================================================================\n",
       "Dep. Variable:                  solve   R-squared:                       0.966\n",
       "Model:                            OLS   Adj. R-squared:                  0.965\n",
       "Method:                 Least Squares   F-statistic:                     3634.\n",
       "Date:                Sat, 13 May 2017   Prob (F-statistic):          3.17e-190\n",
       "Time:                        14:27:46   Log-Likelihood:                -2816.6\n",
       "No. Observations:                 261   AIC:                             5637.\n",
       "Df Residuals:                     259   BIC:                             5644.\n",
       "Df Model:                           2                                         \n",
       "Covariance Type:            nonrobust                                         \n",
       "======================================================================================\n",
       "                         coef    std err          t      P>|t|      [95.0% Conf. Int.]\n",
       "--------------------------------------------------------------------------------------\n",
       "solve_l1               0.8713      0.010     85.207      0.000         0.851     0.891\n",
       "diff_hard:solve_l1    -0.4055      0.170     -2.387      0.018        -0.740    -0.071\n",
       "==============================================================================\n",
       "Omnibus:                       61.517   Durbin-Watson:                   2.290\n",
       "Prob(Omnibus):                  0.000   Jarque-Bera (JB):             1185.953\n",
       "Skew:                           0.215   Prob(JB):                    2.98e-258\n",
       "Kurtosis:                      13.434   Cond. No.                         16.6\n",
       "==============================================================================\n",
       "\n",
       "Warnings:\n",
       "[1] Standard Errors assume that the covariance matrix of the errors is correctly specified.\n",
       "\"\"\""
      ]
     },
     "execution_count": 87,
     "metadata": {},
     "output_type": "execute_result"
    }
   ],
   "source": [
    "res = smf.ols('solve ~ solve_l1 + diff_hard:solve_l1 -1', data=df).fit()\n",
    "res.summary()"
   ]
  },
  {
   "cell_type": "code",
   "execution_count": 88,
   "metadata": {
    "collapsed": false
   },
   "outputs": [
    {
     "data": {
      "text/plain": [
       "<matplotlib.legend.Legend at 0xd979550>"
      ]
     },
     "execution_count": 88,
     "metadata": {},
     "output_type": "execute_result"
    },
    {
     "data": {
      "image/png": "[encoded data removed]",
      "text/plain": [
       "<matplotlib.figure.Figure at 0xd979588>"
      ]
     },
     "metadata": {},
     "output_type": "display_data"
    }
   ],
   "source": [
    "cut = 100\n",
    "lag = 1\n",
    "axis = df['id'][lag+cut:]\n",
    "plt.plot(axis, df['solve'][lag+cut:], label='real')\n",
    "plt.plot(axis, res.predict()[cut:], label='fit')\n",
    "plt.legend()"
   ]
  },
  {
   "cell_type": "code",
   "execution_count": 89,
   "metadata": {
    "collapsed": false
   },
   "outputs": [
    {
     "data": {
      "text/plain": [
       "0    537234\n",
       "1    438350\n",
       "2    317208\n",
       "3    285419\n",
       "4    297082\n",
       "Name: solve, dtype: int64"
      ]
     },
     "execution_count": 89,
     "metadata": {},
     "output_type": "execute_result"
    }
   ],
   "source": [
    "df['solve'].head()"
   ]
  },
  {
   "cell_type": "code",
   "execution_count": 90,
   "metadata": {
    "collapsed": false
   },
   "outputs": [
    {
     "data": {
      "text/plain": [
       "array([ 468102.11456954,  381942.62076033,  276389.31184246,\n",
       "        248690.9567122 ,  258853.14853592])"
      ]
     },
     "execution_count": 90,
     "metadata": {},
     "output_type": "execute_result"
    }
   ],
   "source": [
    "res.predict()[:5]"
   ]
  },
  {
   "cell_type": "code",
   "execution_count": 91,
   "metadata": {
    "collapsed": false
   },
   "outputs": [
    {
     "data": {
      "text/html": [
       "<table class=\"simpletable\">\n",
       "<caption>OLS Regression Results</caption>\n",
       "<tr>\n",
       "  <th>Dep. Variable:</th>          <td>solve</td>      <th>  R-squared:         </th> <td>   0.961</td> \n",
       "</tr>\n",
       "<tr>\n",
       "  <th>Model:</th>                   <td>OLS</td>       <th>  Adj. R-squared:    </th> <td>   0.960</td> \n",
       "</tr>\n",
       "<tr>\n",
       "  <th>Method:</th>             <td>Least Squares</td>  <th>  F-statistic:       </th> <td>   2099.</td> \n",
       "</tr>\n",
       "<tr>\n",
       "  <th>Date:</th>             <td>Sat, 13 May 2017</td> <th>  Prob (F-statistic):</th> <td>2.30e-180</td>\n",
       "</tr>\n",
       "<tr>\n",
       "  <th>Time:</th>                 <td>14:27:47</td>     <th>  Log-Likelihood:    </th> <td> -2797.0</td> \n",
       "</tr>\n",
       "<tr>\n",
       "  <th>No. Observations:</th>      <td>   260</td>      <th>  AIC:               </th> <td>   5600.</td> \n",
       "</tr>\n",
       "<tr>\n",
       "  <th>Df Residuals:</th>          <td>   257</td>      <th>  BIC:               </th> <td>   5611.</td> \n",
       "</tr>\n",
       "<tr>\n",
       "  <th>Df Model:</th>              <td>     3</td>      <th>                     </th>     <td> </td>    \n",
       "</tr>\n",
       "<tr>\n",
       "  <th>Covariance Type:</th>      <td>nonrobust</td>    <th>                     </th>     <td> </td>    \n",
       "</tr>\n",
       "</table>\n",
       "<table class=\"simpletable\">\n",
       "<tr>\n",
       "           <td></td>             <th>coef</th>     <th>std err</th>      <th>t</th>      <th>P>|t|</th> <th>[95.0% Conf. Int.]</th> \n",
       "</tr>\n",
       "<tr>\n",
       "  <th>solve_l1</th>           <td>    0.6957</td> <td>    0.060</td> <td>   11.564</td> <td> 0.000</td> <td>    0.577     0.814</td>\n",
       "</tr>\n",
       "<tr>\n",
       "  <th>solve_l2</th>           <td>    0.1718</td> <td>    0.053</td> <td>    3.230</td> <td> 0.001</td> <td>    0.067     0.277</td>\n",
       "</tr>\n",
       "<tr>\n",
       "  <th>diff_hard:solve_l1</th> <td>   -0.3490</td> <td>    0.166</td> <td>   -2.101</td> <td> 0.037</td> <td>   -0.676    -0.022</td>\n",
       "</tr>\n",
       "</table>\n",
       "<table class=\"simpletable\">\n",
       "<tr>\n",
       "  <th>Omnibus:</th>       <td>76.644</td> <th>  Durbin-Watson:     </th> <td>   2.015</td>\n",
       "</tr>\n",
       "<tr>\n",
       "  <th>Prob(Omnibus):</th> <td> 0.000</td> <th>  Jarque-Bera (JB):  </th> <td>2966.655</td>\n",
       "</tr>\n",
       "<tr>\n",
       "  <th>Skew:</th>          <td>-0.202</td> <th>  Prob(JB):          </th> <td>    0.00</td>\n",
       "</tr>\n",
       "<tr>\n",
       "  <th>Kurtosis:</th>      <td>19.543</td> <th>  Cond. No.          </th> <td>    22.4</td>\n",
       "</tr>\n",
       "</table>"
      ],
      "text/plain": [
       "<class 'statsmodels.iolib.summary.Summary'>\n",
       "\"\"\"\n",
       "                            OLS Regression Results                            \n",
       "==============================================================================\n",
       "Dep. Variable:                  solve   R-squared:                       0.961\n",
       "Model:                            OLS   Adj. R-squared:                  0.960\n",
       "Method:                 Least Squares   F-statistic:                     2099.\n",
       "Date:                Sat, 13 May 2017   Prob (F-statistic):          2.30e-180\n",
       "Time:                        14:27:47   Log-Likelihood:                -2797.0\n",
       "No. Observations:                 260   AIC:                             5600.\n",
       "Df Residuals:                     257   BIC:                             5611.\n",
       "Df Model:                           3                                         \n",
       "Covariance Type:            nonrobust                                         \n",
       "======================================================================================\n",
       "                         coef    std err          t      P>|t|      [95.0% Conf. Int.]\n",
       "--------------------------------------------------------------------------------------\n",
       "solve_l1               0.6957      0.060     11.564      0.000         0.577     0.814\n",
       "solve_l2               0.1718      0.053      3.230      0.001         0.067     0.277\n",
       "diff_hard:solve_l1    -0.3490      0.166     -2.101      0.037        -0.676    -0.022\n",
       "==============================================================================\n",
       "Omnibus:                       76.644   Durbin-Watson:                   2.015\n",
       "Prob(Omnibus):                  0.000   Jarque-Bera (JB):             2966.655\n",
       "Skew:                          -0.202   Prob(JB):                         0.00\n",
       "Kurtosis:                      19.543   Cond. No.                         22.4\n",
       "==============================================================================\n",
       "\n",
       "Warnings:\n",
       "[1] Standard Errors assume that the covariance matrix of the errors is correctly specified.\n",
       "\"\"\""
      ]
     },
     "execution_count": 91,
     "metadata": {},
     "output_type": "execute_result"
    }
   ],
   "source": [
    "res = smf.ols('solve ~ solve_l1 + solve_l2 + diff_hard:solve_l1  -1', data=df).fit()\n",
    "res.summary()"
   ]
  },
  {
   "cell_type": "code",
   "execution_count": 92,
   "metadata": {
    "collapsed": false
   },
   "outputs": [],
   "source": [
    "#print(res.summary().as_latex())"
   ]
  },
  {
   "cell_type": "code",
   "execution_count": 93,
   "metadata": {
    "collapsed": false
   },
   "outputs": [
    {
     "data": {
      "text/html": [
       "<table class=\"simpletable\">\n",
       "<caption>OLS Regression Results</caption>\n",
       "<tr>\n",
       "  <th>Dep. Variable:</th>          <td>solve</td>      <th>  R-squared:         </th> <td>   0.961</td> \n",
       "</tr>\n",
       "<tr>\n",
       "  <th>Model:</th>                   <td>OLS</td>       <th>  Adj. R-squared:    </th> <td>   0.960</td> \n",
       "</tr>\n",
       "<tr>\n",
       "  <th>Method:</th>             <td>Least Squares</td>  <th>  F-statistic:       </th> <td>   1569.</td> \n",
       "</tr>\n",
       "<tr>\n",
       "  <th>Date:</th>             <td>Sat, 13 May 2017</td> <th>  Prob (F-statistic):</th> <td>1.03e-178</td>\n",
       "</tr>\n",
       "<tr>\n",
       "  <th>Time:</th>                 <td>14:27:48</td>     <th>  Log-Likelihood:    </th> <td> -2796.8</td> \n",
       "</tr>\n",
       "<tr>\n",
       "  <th>No. Observations:</th>      <td>   260</td>      <th>  AIC:               </th> <td>   5602.</td> \n",
       "</tr>\n",
       "<tr>\n",
       "  <th>Df Residuals:</th>          <td>   256</td>      <th>  BIC:               </th> <td>   5616.</td> \n",
       "</tr>\n",
       "<tr>\n",
       "  <th>Df Model:</th>              <td>     4</td>      <th>                     </th>     <td> </td>    \n",
       "</tr>\n",
       "<tr>\n",
       "  <th>Covariance Type:</th>      <td>nonrobust</td>    <th>                     </th>     <td> </td>    \n",
       "</tr>\n",
       "</table>\n",
       "<table class=\"simpletable\">\n",
       "<tr>\n",
       "           <td></td>             <th>coef</th>     <th>std err</th>      <th>t</th>      <th>P>|t|</th> <th>[95.0% Conf. Int.]</th> \n",
       "</tr>\n",
       "<tr>\n",
       "  <th>solve_l1</th>           <td>    0.7014</td> <td>    0.061</td> <td>   11.406</td> <td> 0.000</td> <td>    0.580     0.822</td>\n",
       "</tr>\n",
       "<tr>\n",
       "  <th>solve_l2</th>           <td>    0.1667</td> <td>    0.054</td> <td>    3.064</td> <td> 0.002</td> <td>    0.060     0.274</td>\n",
       "</tr>\n",
       "<tr>\n",
       "  <th>diff_hard:solve_l1</th> <td>   -0.4368</td> <td>    0.253</td> <td>   -1.727</td> <td> 0.085</td> <td>   -0.935     0.061</td>\n",
       "</tr>\n",
       "<tr>\n",
       "  <th>diff_hard:solve_l2</th> <td>    0.1235</td> <td>    0.268</td> <td>    0.461</td> <td> 0.645</td> <td>   -0.405     0.652</td>\n",
       "</tr>\n",
       "</table>\n",
       "<table class=\"simpletable\">\n",
       "<tr>\n",
       "  <th>Omnibus:</th>       <td>75.816</td> <th>  Durbin-Watson:     </th> <td>   2.022</td>\n",
       "</tr>\n",
       "<tr>\n",
       "  <th>Prob(Omnibus):</th> <td> 0.000</td> <th>  Jarque-Bera (JB):  </th> <td>2893.093</td>\n",
       "</tr>\n",
       "<tr>\n",
       "  <th>Skew:</th>          <td>-0.178</td> <th>  Prob(JB):          </th> <td>    0.00</td>\n",
       "</tr>\n",
       "<tr>\n",
       "  <th>Kurtosis:</th>      <td>19.338</td> <th>  Cond. No.          </th> <td>    46.5</td>\n",
       "</tr>\n",
       "</table>"
      ],
      "text/plain": [
       "<class 'statsmodels.iolib.summary.Summary'>\n",
       "\"\"\"\n",
       "                            OLS Regression Results                            \n",
       "==============================================================================\n",
       "Dep. Variable:                  solve   R-squared:                       0.961\n",
       "Model:                            OLS   Adj. R-squared:                  0.960\n",
       "Method:                 Least Squares   F-statistic:                     1569.\n",
       "Date:                Sat, 13 May 2017   Prob (F-statistic):          1.03e-178\n",
       "Time:                        14:27:48   Log-Likelihood:                -2796.8\n",
       "No. Observations:                 260   AIC:                             5602.\n",
       "Df Residuals:                     256   BIC:                             5616.\n",
       "Df Model:                           4                                         \n",
       "Covariance Type:            nonrobust                                         \n",
       "======================================================================================\n",
       "                         coef    std err          t      P>|t|      [95.0% Conf. Int.]\n",
       "--------------------------------------------------------------------------------------\n",
       "solve_l1               0.7014      0.061     11.406      0.000         0.580     0.822\n",
       "solve_l2               0.1667      0.054      3.064      0.002         0.060     0.274\n",
       "diff_hard:solve_l1    -0.4368      0.253     -1.727      0.085        -0.935     0.061\n",
       "diff_hard:solve_l2     0.1235      0.268      0.461      0.645        -0.405     0.652\n",
       "==============================================================================\n",
       "Omnibus:                       75.816   Durbin-Watson:                   2.022\n",
       "Prob(Omnibus):                  0.000   Jarque-Bera (JB):             2893.093\n",
       "Skew:                          -0.178   Prob(JB):                         0.00\n",
       "Kurtosis:                      19.338   Cond. No.                         46.5\n",
       "==============================================================================\n",
       "\n",
       "Warnings:\n",
       "[1] Standard Errors assume that the covariance matrix of the errors is correctly specified.\n",
       "\"\"\""
      ]
     },
     "execution_count": 93,
     "metadata": {},
     "output_type": "execute_result"
    }
   ],
   "source": [
    "res = smf.ols('solve ~ solve_l1 + solve_l2 + diff_hard:solve_l1 + diff_hard:solve_l2 -1', data=df).fit()\n",
    "res.summary()"
   ]
  },
  {
   "cell_type": "code",
   "execution_count": 94,
   "metadata": {
    "collapsed": false
   },
   "outputs": [
    {
     "data": {
      "text/html": [
       "<table class=\"simpletable\">\n",
       "<caption>OLS Regression Results</caption>\n",
       "<tr>\n",
       "  <th>Dep. Variable:</th>          <td>solve</td>      <th>  R-squared:         </th> <td>   0.968</td> \n",
       "</tr>\n",
       "<tr>\n",
       "  <th>Model:</th>                   <td>OLS</td>       <th>  Adj. R-squared:    </th> <td>   0.967</td> \n",
       "</tr>\n",
       "<tr>\n",
       "  <th>Method:</th>             <td>Least Squares</td>  <th>  F-statistic:       </th> <td>   1910.</td> \n",
       "</tr>\n",
       "<tr>\n",
       "  <th>Date:</th>             <td>Sat, 13 May 2017</td> <th>  Prob (F-statistic):</th> <td>1.06e-188</td>\n",
       "</tr>\n",
       "<tr>\n",
       "  <th>Time:</th>                 <td>14:27:48</td>     <th>  Log-Likelihood:    </th> <td> -2745.4</td> \n",
       "</tr>\n",
       "<tr>\n",
       "  <th>No. Observations:</th>      <td>   259</td>      <th>  AIC:               </th> <td>   5499.</td> \n",
       "</tr>\n",
       "<tr>\n",
       "  <th>Df Residuals:</th>          <td>   255</td>      <th>  BIC:               </th> <td>   5513.</td> \n",
       "</tr>\n",
       "<tr>\n",
       "  <th>Df Model:</th>              <td>     4</td>      <th>                     </th>     <td> </td>    \n",
       "</tr>\n",
       "<tr>\n",
       "  <th>Covariance Type:</th>      <td>nonrobust</td>    <th>                     </th>     <td> </td>    \n",
       "</tr>\n",
       "</table>\n",
       "<table class=\"simpletable\">\n",
       "<tr>\n",
       "           <td></td>             <th>coef</th>     <th>std err</th>      <th>t</th>      <th>P>|t|</th> <th>[95.0% Conf. Int.]</th> \n",
       "</tr>\n",
       "<tr>\n",
       "  <th>solve_l1</th>           <td>    0.5798</td> <td>    0.054</td> <td>   10.823</td> <td> 0.000</td> <td>    0.474     0.685</td>\n",
       "</tr>\n",
       "<tr>\n",
       "  <th>solve_l2</th>           <td>    0.1711</td> <td>    0.062</td> <td>    2.741</td> <td> 0.007</td> <td>    0.048     0.294</td>\n",
       "</tr>\n",
       "<tr>\n",
       "  <th>solve_l3</th>           <td>    0.1300</td> <td>    0.046</td> <td>    2.809</td> <td> 0.005</td> <td>    0.039     0.221</td>\n",
       "</tr>\n",
       "<tr>\n",
       "  <th>diff_hard:solve_l1</th> <td>   -0.3202</td> <td>    0.142</td> <td>   -2.247</td> <td> 0.025</td> <td>   -0.601    -0.040</td>\n",
       "</tr>\n",
       "</table>\n",
       "<table class=\"simpletable\">\n",
       "<tr>\n",
       "  <th>Omnibus:</th>       <td>94.148</td> <th>  Durbin-Watson:     </th> <td>   2.375</td> \n",
       "</tr>\n",
       "<tr>\n",
       "  <th>Prob(Omnibus):</th> <td> 0.000</td> <th>  Jarque-Bera (JB):  </th> <td>1219.969</td> \n",
       "</tr>\n",
       "<tr>\n",
       "  <th>Skew:</th>          <td> 1.042</td> <th>  Prob(JB):          </th> <td>1.22e-265</td>\n",
       "</tr>\n",
       "<tr>\n",
       "  <th>Kurtosis:</th>      <td>13.426</td> <th>  Cond. No.          </th> <td>    26.1</td> \n",
       "</tr>\n",
       "</table>"
      ],
      "text/plain": [
       "<class 'statsmodels.iolib.summary.Summary'>\n",
       "\"\"\"\n",
       "                            OLS Regression Results                            \n",
       "==============================================================================\n",
       "Dep. Variable:                  solve   R-squared:                       0.968\n",
       "Model:                            OLS   Adj. R-squared:                  0.967\n",
       "Method:                 Least Squares   F-statistic:                     1910.\n",
       "Date:                Sat, 13 May 2017   Prob (F-statistic):          1.06e-188\n",
       "Time:                        14:27:48   Log-Likelihood:                -2745.4\n",
       "No. Observations:                 259   AIC:                             5499.\n",
       "Df Residuals:                     255   BIC:                             5513.\n",
       "Df Model:                           4                                         \n",
       "Covariance Type:            nonrobust                                         \n",
       "======================================================================================\n",
       "                         coef    std err          t      P>|t|      [95.0% Conf. Int.]\n",
       "--------------------------------------------------------------------------------------\n",
       "solve_l1               0.5798      0.054     10.823      0.000         0.474     0.685\n",
       "solve_l2               0.1711      0.062      2.741      0.007         0.048     0.294\n",
       "solve_l3               0.1300      0.046      2.809      0.005         0.039     0.221\n",
       "diff_hard:solve_l1    -0.3202      0.142     -2.247      0.025        -0.601    -0.040\n",
       "==============================================================================\n",
       "Omnibus:                       94.148   Durbin-Watson:                   2.375\n",
       "Prob(Omnibus):                  0.000   Jarque-Bera (JB):             1219.969\n",
       "Skew:                           1.042   Prob(JB):                    1.22e-265\n",
       "Kurtosis:                      13.426   Cond. No.                         26.1\n",
       "==============================================================================\n",
       "\n",
       "Warnings:\n",
       "[1] Standard Errors assume that the covariance matrix of the errors is correctly specified.\n",
       "\"\"\""
      ]
     },
     "execution_count": 94,
     "metadata": {},
     "output_type": "execute_result"
    }
   ],
   "source": [
    "res = smf.ols('solve ~ solve_l1 + solve_l2 + solve_l3 + diff_hard:solve_l1 -1', data=df).fit()\n",
    "res.summary()"
   ]
  },
  {
   "cell_type": "code",
   "execution_count": 95,
   "metadata": {
    "collapsed": false
   },
   "outputs": [
    {
     "name": "stdout",
     "output_type": "stream",
     "text": [
      "\\begin{center}\n",
      "\\begin{tabular}{lclc}\n",
      "\\toprule\n",
      "\\textbf{Dep. Variable:}     &      solve       & \\textbf{  R-squared:         } &     0.968   \\\\\n",
      "\\textbf{Model:}             &       OLS        & \\textbf{  Adj. R-squared:    } &     0.967   \\\\\n",
      "\\textbf{Method:}            &  Least Squares   & \\textbf{  F-statistic:       } &     1910.   \\\\\n",
      "\\textbf{Date:}              & Sat, 13 May 2017 & \\textbf{  Prob (F-statistic):} & 1.06e-188   \\\\\n",
      "\\textbf{Time:}              &     14:27:48     & \\textbf{  Log-Likelihood:    } &   -2745.4   \\\\\n",
      "\\textbf{No. Observations:}  &         259      & \\textbf{  AIC:               } &     5499.   \\\\\n",
      "\\textbf{Df Residuals:}      &         255      & \\textbf{  BIC:               } &     5513.   \\\\\n",
      "\\textbf{Df Model:}          &           4      & \\textbf{                     } &             \\\\\n",
      "\\bottomrule\n",
      "\\end{tabular}\n",
      "\\begin{tabular}{lccccc}\n",
      "                            & \\textbf{coef} & \\textbf{std err} & \\textbf{t} & \\textbf{P$>$$|$t$|$} & \\textbf{[95.0\\% Conf. Int.]}  \\\\\n",
      "\\midrule\n",
      "\\textbf{solve_l1}           &       0.5798  &        0.054     &    10.823  &         0.000        &         0.474     0.685       \\\\\n",
      "\\textbf{solve_l2}           &       0.1711  &        0.062     &     2.741  &         0.007        &         0.048     0.294       \\\\\n",
      "\\textbf{solve_l3}           &       0.1300  &        0.046     &     2.809  &         0.005        &         0.039     0.221       \\\\\n",
      "\\textbf{diff_hard:solve_l1} &      -0.3202  &        0.142     &    -2.247  &         0.025        &        -0.601    -0.040       \\\\\n",
      "\\bottomrule\n",
      "\\end{tabular}\n",
      "\\begin{tabular}{lclc}\n",
      "\\textbf{Omnibus:}       & 94.148 & \\textbf{  Durbin-Watson:     } &     2.375  \\\\\n",
      "\\textbf{Prob(Omnibus):} &  0.000 & \\textbf{  Jarque-Bera (JB):  } &  1219.969  \\\\\n",
      "\\textbf{Skew:}          &  1.042 & \\textbf{  Prob(JB):          } & 1.22e-265  \\\\\n",
      "\\textbf{Kurtosis:}      & 13.426 & \\textbf{  Cond. No.          } &      26.1  \\\\\n",
      "\\bottomrule\n",
      "\\end{tabular}\n",
      "%\\caption{OLS Regression Results}\n",
      "\\end{center}\n"
     ]
    }
   ],
   "source": [
    "print(res.summary().as_latex())"
   ]
  },
  {
   "cell_type": "code",
   "execution_count": 96,
   "metadata": {
    "collapsed": false
   },
   "outputs": [
    {
     "data": {
      "text/html": [
       "<table class=\"simpletable\">\n",
       "<caption>OLS Regression Results</caption>\n",
       "<tr>\n",
       "  <th>Dep. Variable:</th>          <td>solve</td>      <th>  R-squared:         </th> <td>   0.973</td> \n",
       "</tr>\n",
       "<tr>\n",
       "  <th>Model:</th>                   <td>OLS</td>       <th>  Adj. R-squared:    </th> <td>   0.972</td> \n",
       "</tr>\n",
       "<tr>\n",
       "  <th>Method:</th>             <td>Least Squares</td>  <th>  F-statistic:       </th> <td>   1820.</td> \n",
       "</tr>\n",
       "<tr>\n",
       "  <th>Date:</th>             <td>Sat, 13 May 2017</td> <th>  Prob (F-statistic):</th> <td>4.90e-196</td>\n",
       "</tr>\n",
       "<tr>\n",
       "  <th>Time:</th>                 <td>14:27:48</td>     <th>  Log-Likelihood:    </th> <td> -2697.7</td> \n",
       "</tr>\n",
       "<tr>\n",
       "  <th>No. Observations:</th>      <td>   258</td>      <th>  AIC:               </th> <td>   5405.</td> \n",
       "</tr>\n",
       "<tr>\n",
       "  <th>Df Residuals:</th>          <td>   253</td>      <th>  BIC:               </th> <td>   5423.</td> \n",
       "</tr>\n",
       "<tr>\n",
       "  <th>Df Model:</th>              <td>     5</td>      <th>                     </th>     <td> </td>    \n",
       "</tr>\n",
       "<tr>\n",
       "  <th>Covariance Type:</th>      <td>nonrobust</td>    <th>                     </th>     <td> </td>    \n",
       "</tr>\n",
       "</table>\n",
       "<table class=\"simpletable\">\n",
       "<tr>\n",
       "           <td></td>             <th>coef</th>     <th>std err</th>      <th>t</th>      <th>P>|t|</th> <th>[95.0% Conf. Int.]</th> \n",
       "</tr>\n",
       "<tr>\n",
       "  <th>solve_l1</th>           <td>    0.3339</td> <td>    0.055</td> <td>    6.110</td> <td> 0.000</td> <td>    0.226     0.442</td>\n",
       "</tr>\n",
       "<tr>\n",
       "  <th>solve_l2</th>           <td>    0.2081</td> <td>    0.055</td> <td>    3.776</td> <td> 0.000</td> <td>    0.100     0.317</td>\n",
       "</tr>\n",
       "<tr>\n",
       "  <th>solve_l3</th>           <td>    0.0363</td> <td>    0.055</td> <td>    0.660</td> <td> 0.510</td> <td>   -0.072     0.145</td>\n",
       "</tr>\n",
       "<tr>\n",
       "  <th>solve_l4</th>           <td>    0.2581</td> <td>    0.041</td> <td>    6.323</td> <td> 0.000</td> <td>    0.178     0.338</td>\n",
       "</tr>\n",
       "<tr>\n",
       "  <th>diff_hard:solve_l1</th> <td>   -0.2193</td> <td>    0.124</td> <td>   -1.767</td> <td> 0.079</td> <td>   -0.464     0.025</td>\n",
       "</tr>\n",
       "</table>\n",
       "<table class=\"simpletable\">\n",
       "<tr>\n",
       "  <th>Omnibus:</th>       <td>135.383</td> <th>  Durbin-Watson:     </th> <td>   2.179</td>\n",
       "</tr>\n",
       "<tr>\n",
       "  <th>Prob(Omnibus):</th> <td> 0.000</td>  <th>  Jarque-Bera (JB):  </th> <td>1713.428</td>\n",
       "</tr>\n",
       "<tr>\n",
       "  <th>Skew:</th>          <td> 1.761</td>  <th>  Prob(JB):          </th> <td>    0.00</td>\n",
       "</tr>\n",
       "<tr>\n",
       "  <th>Kurtosis:</th>      <td>15.123</td>  <th>  Cond. No.          </th> <td>    29.1</td>\n",
       "</tr>\n",
       "</table>"
      ],
      "text/plain": [
       "<class 'statsmodels.iolib.summary.Summary'>\n",
       "\"\"\"\n",
       "                            OLS Regression Results                            \n",
       "==============================================================================\n",
       "Dep. Variable:                  solve   R-squared:                       0.973\n",
       "Model:                            OLS   Adj. R-squared:                  0.972\n",
       "Method:                 Least Squares   F-statistic:                     1820.\n",
       "Date:                Sat, 13 May 2017   Prob (F-statistic):          4.90e-196\n",
       "Time:                        14:27:48   Log-Likelihood:                -2697.7\n",
       "No. Observations:                 258   AIC:                             5405.\n",
       "Df Residuals:                     253   BIC:                             5423.\n",
       "Df Model:                           5                                         \n",
       "Covariance Type:            nonrobust                                         \n",
       "======================================================================================\n",
       "                         coef    std err          t      P>|t|      [95.0% Conf. Int.]\n",
       "--------------------------------------------------------------------------------------\n",
       "solve_l1               0.3339      0.055      6.110      0.000         0.226     0.442\n",
       "solve_l2               0.2081      0.055      3.776      0.000         0.100     0.317\n",
       "solve_l3               0.0363      0.055      0.660      0.510        -0.072     0.145\n",
       "solve_l4               0.2581      0.041      6.323      0.000         0.178     0.338\n",
       "diff_hard:solve_l1    -0.2193      0.124     -1.767      0.079        -0.464     0.025\n",
       "==============================================================================\n",
       "Omnibus:                      135.383   Durbin-Watson:                   2.179\n",
       "Prob(Omnibus):                  0.000   Jarque-Bera (JB):             1713.428\n",
       "Skew:                           1.761   Prob(JB):                         0.00\n",
       "Kurtosis:                      15.123   Cond. No.                         29.1\n",
       "==============================================================================\n",
       "\n",
       "Warnings:\n",
       "[1] Standard Errors assume that the covariance matrix of the errors is correctly specified.\n",
       "\"\"\""
      ]
     },
     "execution_count": 96,
     "metadata": {},
     "output_type": "execute_result"
    }
   ],
   "source": [
    "res = smf.ols('solve ~ solve_l1 + solve_l2 + solve_l3 + solve_l4 + diff_hard:solve_l1 -1 ', data=df).fit()\n",
    "res.summary()"
   ]
  },
  {
   "cell_type": "code",
   "execution_count": 97,
   "metadata": {
    "collapsed": false
   },
   "outputs": [
    {
     "name": "stdout",
     "output_type": "stream",
     "text": [
      "\\begin{center}\n",
      "\\begin{tabular}{lclc}\n",
      "\\toprule\n",
      "\\textbf{Dep. Variable:}     &      solve       & \\textbf{  R-squared:         } &     0.973   \\\\\n",
      "\\textbf{Model:}             &       OLS        & \\textbf{  Adj. R-squared:    } &     0.972   \\\\\n",
      "\\textbf{Method:}            &  Least Squares   & \\textbf{  F-statistic:       } &     1820.   \\\\\n",
      "\\textbf{Date:}              & Sat, 13 May 2017 & \\textbf{  Prob (F-statistic):} & 4.90e-196   \\\\\n",
      "\\textbf{Time:}              &     14:27:49     & \\textbf{  Log-Likelihood:    } &   -2697.7   \\\\\n",
      "\\textbf{No. Observations:}  &         258      & \\textbf{  AIC:               } &     5405.   \\\\\n",
      "\\textbf{Df Residuals:}      &         253      & \\textbf{  BIC:               } &     5423.   \\\\\n",
      "\\textbf{Df Model:}          &           5      & \\textbf{                     } &             \\\\\n",
      "\\bottomrule\n",
      "\\end{tabular}\n",
      "\\begin{tabular}{lccccc}\n",
      "                            & \\textbf{coef} & \\textbf{std err} & \\textbf{t} & \\textbf{P$>$$|$t$|$} & \\textbf{[95.0\\% Conf. Int.]}  \\\\\n",
      "\\midrule\n",
      "\\textbf{solve_l1}           &       0.3339  &        0.055     &     6.110  &         0.000        &         0.226     0.442       \\\\\n",
      "\\textbf{solve_l2}           &       0.2081  &        0.055     &     3.776  &         0.000        &         0.100     0.317       \\\\\n",
      "\\textbf{solve_l3}           &       0.0363  &        0.055     &     0.660  &         0.510        &        -0.072     0.145       \\\\\n",
      "\\textbf{solve_l4}           &       0.2581  &        0.041     &     6.323  &         0.000        &         0.178     0.338       \\\\\n",
      "\\textbf{diff_hard:solve_l1} &      -0.2193  &        0.124     &    -1.767  &         0.079        &        -0.464     0.025       \\\\\n",
      "\\bottomrule\n",
      "\\end{tabular}\n",
      "\\begin{tabular}{lclc}\n",
      "\\textbf{Omnibus:}       & 135.383 & \\textbf{  Durbin-Watson:     } &    2.179  \\\\\n",
      "\\textbf{Prob(Omnibus):} &   0.000 & \\textbf{  Jarque-Bera (JB):  } & 1713.428  \\\\\n",
      "\\textbf{Skew:}          &   1.761 & \\textbf{  Prob(JB):          } &     0.00  \\\\\n",
      "\\textbf{Kurtosis:}      &  15.123 & \\textbf{  Cond. No.          } &     29.1  \\\\\n",
      "\\bottomrule\n",
      "\\end{tabular}\n",
      "%\\caption{OLS Regression Results}\n",
      "\\end{center}\n"
     ]
    }
   ],
   "source": [
    "print(res.summary().as_latex())"
   ]
  },
  {
   "cell_type": "code",
   "execution_count": 98,
   "metadata": {
    "collapsed": true
   },
   "outputs": [],
   "source": [
    "res = smf.ols('solve ~ solve_l1 + solve_l2 + solve_l3 + diff_hard:solve_l1 -1', data=df).fit()"
   ]
  },
  {
   "cell_type": "code",
   "execution_count": 99,
   "metadata": {
    "collapsed": false
   },
   "outputs": [
    {
     "data": {
      "text/plain": [
       "solve_l1              0.579769\n",
       "solve_l2              0.171104\n",
       "solve_l3              0.130010\n",
       "diff_hard:solve_l1   -0.320158\n",
       "dtype: float64"
      ]
     },
     "execution_count": 99,
     "metadata": {},
     "output_type": "execute_result"
    }
   ],
   "source": [
    "res.params"
   ]
  },
  {
   "cell_type": "code",
   "execution_count": 100,
   "metadata": {
    "collapsed": false
   },
   "outputs": [],
   "source": [
    "mat = np.zeros((16,7)) + np.array([10000,9500,9000,0,0,0,0])"
   ]
  },
  {
   "cell_type": "code",
   "execution_count": 101,
   "metadata": {
    "collapsed": false
   },
   "outputs": [
    {
     "data": {
      "text/plain": [
       "array([[ 10000.,   9500.,   9000.,      0.,      0.,      0.,      0.],\n",
       "       [ 10000.,   9500.,   9000.,      0.,      0.,      0.,      0.],\n",
       "       [ 10000.,   9500.,   9000.,      0.,      0.,      0.,      0.],\n",
       "       [ 10000.,   9500.,   9000.,      0.,      0.,      0.,      0.],\n",
       "       [ 10000.,   9500.,   9000.,      0.,      0.,      0.,      0.],\n",
       "       [ 10000.,   9500.,   9000.,      0.,      0.,      0.,      0.],\n",
       "       [ 10000.,   9500.,   9000.,      0.,      0.,      0.,      0.],\n",
       "       [ 10000.,   9500.,   9000.,      0.,      0.,      0.,      0.],\n",
       "       [ 10000.,   9500.,   9000.,      0.,      0.,      0.,      0.],\n",
       "       [ 10000.,   9500.,   9000.,      0.,      0.,      0.,      0.],\n",
       "       [ 10000.,   9500.,   9000.,      0.,      0.,      0.,      0.],\n",
       "       [ 10000.,   9500.,   9000.,      0.,      0.,      0.,      0.],\n",
       "       [ 10000.,   9500.,   9000.,      0.,      0.,      0.,      0.],\n",
       "       [ 10000.,   9500.,   9000.,      0.,      0.,      0.,      0.],\n",
       "       [ 10000.,   9500.,   9000.,      0.,      0.,      0.,      0.],\n",
       "       [ 10000.,   9500.,   9000.,      0.,      0.,      0.,      0.]])"
      ]
     },
     "execution_count": 101,
     "metadata": {},
     "output_type": "execute_result"
    }
   ],
   "source": [
    "mat"
   ]
  },
  {
   "cell_type": "code",
   "execution_count": 102,
   "metadata": {
    "collapsed": true
   },
   "outputs": [],
   "source": [
    "coef = res.params[:3]\n",
    "coef_h = res.params[3]"
   ]
  },
  {
   "cell_type": "code",
   "execution_count": 103,
   "metadata": {
    "collapsed": true
   },
   "outputs": [],
   "source": [
    "from itertools import product"
   ]
  },
  {
   "cell_type": "code",
   "execution_count": 104,
   "metadata": {
    "collapsed": false
   },
   "outputs": [
    {
     "data": {
      "text/plain": [
       "[(0, 0, 0, 0),\n",
       " (0, 0, 0, 1),\n",
       " (0, 0, 1, 0),\n",
       " (0, 0, 1, 1),\n",
       " (0, 1, 0, 0),\n",
       " (0, 1, 0, 1),\n",
       " (0, 1, 1, 0),\n",
       " (0, 1, 1, 1),\n",
       " (1, 0, 0, 0),\n",
       " (1, 0, 0, 1),\n",
       " (1, 0, 1, 0),\n",
       " (1, 0, 1, 1),\n",
       " (1, 1, 0, 0),\n",
       " (1, 1, 0, 1),\n",
       " (1, 1, 1, 0),\n",
       " (1, 1, 1, 1)]"
      ]
     },
     "execution_count": 104,
     "metadata": {},
     "output_type": "execute_result"
    }
   ],
   "source": [
    "hd = list(product(*[[0,1]]*4))\n",
    "hd"
   ]
  },
  {
   "cell_type": "code",
   "execution_count": 105,
   "metadata": {
    "collapsed": false
   },
   "outputs": [],
   "source": [
    "for i in range(16):\n",
    "    hard_dis = hd[i]\n",
    "    for j in range(4):\n",
    "        mat[i][j+3] = np.dot(coef,mat[i][j:j+3]) + coef_h*hard_dis[j]*mat[i][j+2]"
   ]
  },
  {
   "cell_type": "code",
   "execution_count": 106,
   "metadata": {
    "collapsed": false
   },
   "outputs": [
    {
     "data": {
      "text/plain": [
       "array([[10000,  9500,  9000,  8593,  8164,  7749,  7386],\n",
       "       [10000,  9500,  9000,  8593,  8164,  7749,  4905],\n",
       "       [10000,  9500,  9000,  8593,  8164,  5135,  7046],\n",
       "       [10000,  9500,  9000,  8593,  8164,  5135,  5402],\n",
       "       [10000,  9500,  9000,  8593,  5413,  7392,  6869],\n",
       "       [10000,  9500,  9000,  8593,  5413,  7392,  4502],\n",
       "       [10000,  9500,  9000,  8593,  5413,  5658,  6644],\n",
       "       [10000,  9500,  9000,  8593,  5413,  5658,  4832],\n",
       "       [10000,  9500,  9000,  5711,  7790,  7208,  5581],\n",
       "       [10000,  9500,  9000,  5711,  7790,  7208,  3273],\n",
       "       [10000,  9500,  9000,  5711,  7790,  4713,  5257],\n",
       "       [10000,  9500,  9000,  5711,  7790,  4713,  3748],\n",
       "       [10000,  9500,  9000,  5711,  5961,  6970,  5237],\n",
       "       [10000,  9500,  9000,  5711,  5961,  6970,  3006],\n",
       "       [10000,  9500,  9000,  5711,  5961,  5061,  4989],\n",
       "       [10000,  9500,  9000,  5711,  5961,  5061,  3369]])"
      ]
     },
     "execution_count": 106,
     "metadata": {},
     "output_type": "execute_result"
    }
   ],
   "source": [
    "mat.astype('int')"
   ]
  },
  {
   "cell_type": "markdown",
   "metadata": {},
   "source": [
    "$$\n",
    "\\begin{array}{c|ccccccc}\n",
    "\\mathrm{Hard} & 1 & 2& 3 & 4 & 5 & 6 &7 \\\\\n",
    "\\hline\n",
    "EEEE & 10000 & 9500 & 9000 & 8593 & 8164 & 7749 & 7386 \\\\\n",
    "EEEE & 10000 & 9500 & 9000 & 8593 & 8164 & 7749 & 7386 \\\\\n",
    "\\end{array}\n",
    "$$"
   ]
  },
  {
   "cell_type": "code",
   "execution_count": 107,
   "metadata": {
    "collapsed": true
   },
   "outputs": [],
   "source": [
    "template_head = r'''\\begin{array}{c|ccccccc}\n",
    "\\mathrm{Hard} & 1 & 2& 3 & 4 & 5 & 6 &7 \\\\\n",
    "\\hline'''\n",
    "template_tail = r'''\\end{array}'''\n",
    "rl = []\n",
    "for row,hard_dis in zip(mat.astype('int'),hd):\n",
    "    head = ''.join(['E' if h == 0 else 'H' for h in hard_dis])\n",
    "    line = '\\\\mathrm{{{}}}'.format(head)+ ' & ' + ' & '.join([str(n) for n in row]) + ' \\\\\\\\'\n",
    "    rl.append(line)"
   ]
  },
  {
   "cell_type": "code",
   "execution_count": 108,
   "metadata": {
    "collapsed": false
   },
   "outputs": [
    {
     "data": {
      "text/plain": [
       "'\\\\begin{array}{c|ccccccc}\\n\\\\mathrm{Hard} & 1 & 2& 3 & 4 & 5 & 6 &7 \\\\\\\\\\n\\\\hline\\n\\\\mathrm{EEEE} & 10000 & 9500 & 9000 & 8593 & 8164 & 7749 & 7386 \\\\\\\\\\n\\\\mathrm{EEEH} & 10000 & 9500 & 9000 & 8593 & 8164 & 7749 & 4905 \\\\\\\\\\n\\\\mathrm{EEHE} & 10000 & 9500 & 9000 & 8593 & 8164 & 5135 & 7046 \\\\\\\\\\n\\\\mathrm{EEHH} & 10000 & 9500 & 9000 & 8593 & 8164 & 5135 & 5402 \\\\\\\\\\n\\\\mathrm{EHEE} & 10000 & 9500 & 9000 & 8593 & 5413 & 7392 & 6869 \\\\\\\\\\n\\\\mathrm{EHEH} & 10000 & 9500 & 9000 & 8593 & 5413 & 7392 & 4502 \\\\\\\\\\n\\\\mathrm{EHHE} & 10000 & 9500 & 9000 & 8593 & 5413 & 5658 & 6644 \\\\\\\\\\n\\\\mathrm{EHHH} & 10000 & 9500 & 9000 & 8593 & 5413 & 5658 & 4832 \\\\\\\\\\n\\\\mathrm{HEEE} & 10000 & 9500 & 9000 & 5711 & 7790 & 7208 & 5581 \\\\\\\\\\n\\\\mathrm{HEEH} & 10000 & 9500 & 9000 & 5711 & 7790 & 7208 & 3273 \\\\\\\\\\n\\\\mathrm{HEHE} & 10000 & 9500 & 9000 & 5711 & 7790 & 4713 & 5257 \\\\\\\\\\n\\\\mathrm{HEHH} & 10000 & 9500 & 9000 & 5711 & 7790 & 4713 & 3748 \\\\\\\\\\n\\\\mathrm{HHEE} & 10000 & 9500 & 9000 & 5711 & 5961 & 6970 & 5237 \\\\\\\\\\n\\\\mathrm{HHEH} & 10000 & 9500 & 9000 & 5711 & 5961 & 6970 & 3006 \\\\\\\\\\n\\\\mathrm{HHHE} & 10000 & 9500 & 9000 & 5711 & 5961 & 5061 & 4989 \\\\\\\\\\n\\\\mathrm{HHHH} & 10000 & 9500 & 9000 & 5711 & 5961 & 5061 & 3369 \\\\\\\\\\n\\\\end{array}'"
      ]
     },
     "execution_count": 108,
     "metadata": {},
     "output_type": "execute_result"
    }
   ],
   "source": [
    "'\\n'.join([template_head] + rl + [template_tail])"
   ]
  },
  {
   "cell_type": "code",
   "execution_count": 109,
   "metadata": {
    "collapsed": false
   },
   "outputs": [
    {
     "name": "stdout",
     "output_type": "stream",
     "text": [
      "\\begin{array}{c|ccccccc}\n",
      "\\mathrm{Hard} & 1 & 2& 3 & 4 & 5 & 6 &7 \\\\\n",
      "\\hline\n",
      "\\mathrm{EEEE} & 10000 & 9500 & 9000 & 8593 & 8164 & 7749 & 7386 \\\\\n",
      "\\mathrm{EEEH} & 10000 & 9500 & 9000 & 8593 & 8164 & 7749 & 4905 \\\\\n",
      "\\mathrm{EEHE} & 10000 & 9500 & 9000 & 8593 & 8164 & 5135 & 7046 \\\\\n",
      "\\mathrm{EEHH} & 10000 & 9500 & 9000 & 8593 & 8164 & 5135 & 5402 \\\\\n",
      "\\mathrm{EHEE} & 10000 & 9500 & 9000 & 8593 & 5413 & 7392 & 6869 \\\\\n",
      "\\mathrm{EHEH} & 10000 & 9500 & 9000 & 8593 & 5413 & 7392 & 4502 \\\\\n",
      "\\mathrm{EHHE} & 10000 & 9500 & 9000 & 8593 & 5413 & 5658 & 6644 \\\\\n",
      "\\mathrm{EHHH} & 10000 & 9500 & 9000 & 8593 & 5413 & 5658 & 4832 \\\\\n",
      "\\mathrm{HEEE} & 10000 & 9500 & 9000 & 5711 & 7790 & 7208 & 5581 \\\\\n",
      "\\mathrm{HEEH} & 10000 & 9500 & 9000 & 5711 & 7790 & 7208 & 3273 \\\\\n",
      "\\mathrm{HEHE} & 10000 & 9500 & 9000 & 5711 & 7790 & 4713 & 5257 \\\\\n",
      "\\mathrm{HEHH} & 10000 & 9500 & 9000 & 5711 & 7790 & 4713 & 3748 \\\\\n",
      "\\mathrm{HHEE} & 10000 & 9500 & 9000 & 5711 & 5961 & 6970 & 5237 \\\\\n",
      "\\mathrm{HHEH} & 10000 & 9500 & 9000 & 5711 & 5961 & 6970 & 3006 \\\\\n",
      "\\mathrm{HHHE} & 10000 & 9500 & 9000 & 5711 & 5961 & 5061 & 4989 \\\\\n",
      "\\mathrm{HHHH} & 10000 & 9500 & 9000 & 5711 & 5961 & 5061 & 3369 \\\\\n",
      "\\end{array}\n"
     ]
    }
   ],
   "source": [
    "print(_)"
   ]
  },
  {
   "cell_type": "markdown",
   "metadata": {},
   "source": [
    "$$\n",
    "\\begin{array}{c|ccccccc}\n",
    "\\mathrm{Hard} & 1 & 2& 3 & 4 & 5 & 6 &7 \\\\\n",
    "\\hline\n",
    "\\mathrm{EEEE} & 10000 & 9500 & 9000 & 8593 & 8164 & 7749 & 7386 \\\\\n",
    "\\mathrm{EEEH} & 10000 & 9500 & 9000 & 8593 & 8164 & 7749 & 4905 \\\\\n",
    "\\mathrm{EEHE} & 10000 & 9500 & 9000 & 8593 & 8164 & 5135 & 7046 \\\\\n",
    "\\mathrm{EEHH} & 10000 & 9500 & 9000 & 8593 & 8164 & 5135 & 5402 \\\\\n",
    "\\mathrm{EHEE} & 10000 & 9500 & 9000 & 8593 & 5413 & 7392 & 6869 \\\\\n",
    "\\mathrm{EHEH} & 10000 & 9500 & 9000 & 8593 & 5413 & 7392 & 4502 \\\\\n",
    "\\mathrm{EHHE} & 10000 & 9500 & 9000 & 8593 & 5413 & 5658 & 6644 \\\\\n",
    "\\mathrm{EHHH} & 10000 & 9500 & 9000 & 8593 & 5413 & 5658 & 4832 \\\\\n",
    "\\mathrm{HEEE} & 10000 & 9500 & 9000 & 5711 & 7790 & 7208 & 5581 \\\\\n",
    "\\mathrm{HEEH} & 10000 & 9500 & 9000 & 5711 & 7790 & 7208 & 3273 \\\\\n",
    "\\mathrm{HEHE} & 10000 & 9500 & 9000 & 5711 & 7790 & 4713 & 5257 \\\\\n",
    "\\mathrm{HEHH} & 10000 & 9500 & 9000 & 5711 & 7790 & 4713 & 3748 \\\\\n",
    "\\mathrm{HHEE} & 10000 & 9500 & 9000 & 5711 & 5961 & 6970 & 5237 \\\\\n",
    "\\mathrm{HHEH} & 10000 & 9500 & 9000 & 5711 & 5961 & 6970 & 3006 \\\\\n",
    "\\mathrm{HHHE} & 10000 & 9500 & 9000 & 5711 & 5961 & 5061 & 4989 \\\\\n",
    "\\mathrm{HHHH} & 10000 & 9500 & 9000 & 5711 & 5961 & 5061 & 3369 \\\\\n",
    "\\end{array}\n",
    "$$"
   ]
  },
  {
   "cell_type": "code",
   "execution_count": null,
   "metadata": {
    "collapsed": false
   },
   "outputs": [],
   "source": []
  },
  {
   "cell_type": "code",
   "execution_count": 110,
   "metadata": {
    "collapsed": false
   },
   "outputs": [
    {
     "data": {
      "text/html": [
       "<table class=\"simpletable\">\n",
       "<caption>OLS Regression Results</caption>\n",
       "<tr>\n",
       "  <th>Dep. Variable:</th>          <td>solve</td>      <th>  R-squared:         </th> <td>   0.968</td> \n",
       "</tr>\n",
       "<tr>\n",
       "  <th>Model:</th>                   <td>OLS</td>       <th>  Adj. R-squared:    </th> <td>   0.967</td> \n",
       "</tr>\n",
       "<tr>\n",
       "  <th>Method:</th>             <td>Least Squares</td>  <th>  F-statistic:       </th> <td>   1910.</td> \n",
       "</tr>\n",
       "<tr>\n",
       "  <th>Date:</th>             <td>Sat, 13 May 2017</td> <th>  Prob (F-statistic):</th> <td>1.06e-188</td>\n",
       "</tr>\n",
       "<tr>\n",
       "  <th>Time:</th>                 <td>14:27:51</td>     <th>  Log-Likelihood:    </th> <td> -2745.4</td> \n",
       "</tr>\n",
       "<tr>\n",
       "  <th>No. Observations:</th>      <td>   259</td>      <th>  AIC:               </th> <td>   5499.</td> \n",
       "</tr>\n",
       "<tr>\n",
       "  <th>Df Residuals:</th>          <td>   255</td>      <th>  BIC:               </th> <td>   5513.</td> \n",
       "</tr>\n",
       "<tr>\n",
       "  <th>Df Model:</th>              <td>     4</td>      <th>                     </th>     <td> </td>    \n",
       "</tr>\n",
       "<tr>\n",
       "  <th>Covariance Type:</th>      <td>nonrobust</td>    <th>                     </th>     <td> </td>    \n",
       "</tr>\n",
       "</table>\n",
       "<table class=\"simpletable\">\n",
       "<tr>\n",
       "            <td></td>               <th>coef</th>     <th>std err</th>      <th>t</th>      <th>P>|t|</th> <th>[95.0% Conf. Int.]</th> \n",
       "</tr>\n",
       "<tr>\n",
       "  <th>solve_l1</th>              <td>    0.5798</td> <td>    0.054</td> <td>   10.823</td> <td> 0.000</td> <td>    0.474     0.685</td>\n",
       "</tr>\n",
       "<tr>\n",
       "  <th>solve_l2</th>              <td>    0.1711</td> <td>    0.062</td> <td>    2.741</td> <td> 0.007</td> <td>    0.048     0.294</td>\n",
       "</tr>\n",
       "<tr>\n",
       "  <th>solve_l3</th>              <td>    0.1300</td> <td>    0.046</td> <td>    2.809</td> <td> 0.005</td> <td>    0.039     0.221</td>\n",
       "</tr>\n",
       "<tr>\n",
       "  <th>diff_hard:solve_l1</th>    <td>   -0.1601</td> <td>    0.071</td> <td>   -2.247</td> <td> 0.025</td> <td>   -0.300    -0.020</td>\n",
       "</tr>\n",
       "<tr>\n",
       "  <th>diff_hard:solve_l1:rC</th> <td>   -0.1601</td> <td>    0.071</td> <td>   -2.247</td> <td> 0.025</td> <td>   -0.300    -0.020</td>\n",
       "</tr>\n",
       "</table>\n",
       "<table class=\"simpletable\">\n",
       "<tr>\n",
       "  <th>Omnibus:</th>       <td>94.148</td> <th>  Durbin-Watson:     </th> <td>   2.375</td> \n",
       "</tr>\n",
       "<tr>\n",
       "  <th>Prob(Omnibus):</th> <td> 0.000</td> <th>  Jarque-Bera (JB):  </th> <td>1219.969</td> \n",
       "</tr>\n",
       "<tr>\n",
       "  <th>Skew:</th>          <td> 1.042</td> <th>  Prob(JB):          </th> <td>1.22e-265</td>\n",
       "</tr>\n",
       "<tr>\n",
       "  <th>Kurtosis:</th>      <td>13.426</td> <th>  Cond. No.          </th> <td>2.00e+17</td> \n",
       "</tr>\n",
       "</table>"
      ],
      "text/plain": [
       "<class 'statsmodels.iolib.summary.Summary'>\n",
       "\"\"\"\n",
       "                            OLS Regression Results                            \n",
       "==============================================================================\n",
       "Dep. Variable:                  solve   R-squared:                       0.968\n",
       "Model:                            OLS   Adj. R-squared:                  0.967\n",
       "Method:                 Least Squares   F-statistic:                     1910.\n",
       "Date:                Sat, 13 May 2017   Prob (F-statistic):          1.06e-188\n",
       "Time:                        14:27:51   Log-Likelihood:                -2745.4\n",
       "No. Observations:                 259   AIC:                             5499.\n",
       "Df Residuals:                     255   BIC:                             5513.\n",
       "Df Model:                           4                                         \n",
       "Covariance Type:            nonrobust                                         \n",
       "=========================================================================================\n",
       "                            coef    std err          t      P>|t|      [95.0% Conf. Int.]\n",
       "-----------------------------------------------------------------------------------------\n",
       "solve_l1                  0.5798      0.054     10.823      0.000         0.474     0.685\n",
       "solve_l2                  0.1711      0.062      2.741      0.007         0.048     0.294\n",
       "solve_l3                  0.1300      0.046      2.809      0.005         0.039     0.221\n",
       "diff_hard:solve_l1       -0.1601      0.071     -2.247      0.025        -0.300    -0.020\n",
       "diff_hard:solve_l1:rC    -0.1601      0.071     -2.247      0.025        -0.300    -0.020\n",
       "==============================================================================\n",
       "Omnibus:                       94.148   Durbin-Watson:                   2.375\n",
       "Prob(Omnibus):                  0.000   Jarque-Bera (JB):             1219.969\n",
       "Skew:                           1.042   Prob(JB):                    1.22e-265\n",
       "Kurtosis:                      13.426   Cond. No.                     2.00e+17\n",
       "==============================================================================\n",
       "\n",
       "Warnings:\n",
       "[1] Standard Errors assume that the covariance matrix of the errors is correctly specified.\n",
       "[2] The smallest eigenvalue is 8.02e-23. This might indicate that there are\n",
       "strong multicollinearity problems or that the design matrix is singular.\n",
       "\"\"\""
      ]
     },
     "execution_count": 110,
     "metadata": {},
     "output_type": "execute_result"
    }
   ],
   "source": [
    "res = smf.ols('solve ~ solve_l1 + solve_l2 + solve_l3 + diff_hard:solve_l1 + diff_hard:solve_l1:rC -1 ', data=df).fit()\n",
    "res.summary()"
   ]
  },
  {
   "cell_type": "code",
   "execution_count": 130,
   "metadata": {
    "collapsed": true
   },
   "outputs": [],
   "source": [
    "K = int(df.shape[0] * 1/2)\n",
    "df['left'] = (df['id'] < K).astype('int')\n",
    "df['right'] = (df['id'] >= K).astype('int')"
   ]
  },
  {
   "cell_type": "code",
   "execution_count": 131,
   "metadata": {
    "collapsed": false
   },
   "outputs": [
    {
     "data": {
      "text/html": [
       "<table class=\"simpletable\">\n",
       "<caption>OLS Regression Results</caption>\n",
       "<tr>\n",
       "  <th>Dep. Variable:</th>          <td>solve</td>      <th>  R-squared:         </th> <td>   0.968</td> \n",
       "</tr>\n",
       "<tr>\n",
       "  <th>Model:</th>                   <td>OLS</td>       <th>  Adj. R-squared:    </th> <td>   0.967</td> \n",
       "</tr>\n",
       "<tr>\n",
       "  <th>Method:</th>             <td>Least Squares</td>  <th>  F-statistic:       </th> <td>   1523.</td> \n",
       "</tr>\n",
       "<tr>\n",
       "  <th>Date:</th>             <td>Sat, 13 May 2017</td> <th>  Prob (F-statistic):</th> <td>4.62e-187</td>\n",
       "</tr>\n",
       "<tr>\n",
       "  <th>Time:</th>                 <td>14:31:00</td>     <th>  Log-Likelihood:    </th> <td> -2745.3</td> \n",
       "</tr>\n",
       "<tr>\n",
       "  <th>No. Observations:</th>      <td>   259</td>      <th>  AIC:               </th> <td>   5501.</td> \n",
       "</tr>\n",
       "<tr>\n",
       "  <th>Df Residuals:</th>          <td>   254</td>      <th>  BIC:               </th> <td>   5518.</td> \n",
       "</tr>\n",
       "<tr>\n",
       "  <th>Df Model:</th>              <td>     5</td>      <th>                     </th>     <td> </td>    \n",
       "</tr>\n",
       "<tr>\n",
       "  <th>Covariance Type:</th>      <td>nonrobust</td>    <th>                     </th>     <td> </td>    \n",
       "</tr>\n",
       "</table>\n",
       "<table class=\"simpletable\">\n",
       "<tr>\n",
       "              <td></td>                <th>coef</th>     <th>std err</th>      <th>t</th>      <th>P>|t|</th> <th>[95.0% Conf. Int.]</th> \n",
       "</tr>\n",
       "<tr>\n",
       "  <th>solve_l1</th>                 <td>    0.5800</td> <td>    0.054</td> <td>   10.808</td> <td> 0.000</td> <td>    0.474     0.686</td>\n",
       "</tr>\n",
       "<tr>\n",
       "  <th>solve_l2</th>                 <td>    0.1706</td> <td>    0.063</td> <td>    2.728</td> <td> 0.007</td> <td>    0.047     0.294</td>\n",
       "</tr>\n",
       "<tr>\n",
       "  <th>solve_l3</th>                 <td>    0.1303</td> <td>    0.046</td> <td>    2.809</td> <td> 0.005</td> <td>    0.039     0.222</td>\n",
       "</tr>\n",
       "<tr>\n",
       "  <th>diff_hard:solve_l1</th>       <td>   -0.3482</td> <td>    0.163</td> <td>   -2.131</td> <td> 0.034</td> <td>   -0.670    -0.026</td>\n",
       "</tr>\n",
       "<tr>\n",
       "  <th>diff_hard:solve_l1:right</th> <td>    0.1162</td> <td>    0.329</td> <td>    0.353</td> <td> 0.725</td> <td>   -0.532     0.765</td>\n",
       "</tr>\n",
       "</table>\n",
       "<table class=\"simpletable\">\n",
       "<tr>\n",
       "  <th>Omnibus:</th>       <td>94.967</td> <th>  Durbin-Watson:     </th> <td>   2.375</td> \n",
       "</tr>\n",
       "<tr>\n",
       "  <th>Prob(Omnibus):</th> <td> 0.000</td> <th>  Jarque-Bera (JB):  </th> <td>1216.730</td> \n",
       "</tr>\n",
       "<tr>\n",
       "  <th>Skew:</th>          <td> 1.059</td> <th>  Prob(JB):          </th> <td>6.17e-265</td>\n",
       "</tr>\n",
       "<tr>\n",
       "  <th>Kurtosis:</th>      <td>13.405</td> <th>  Cond. No.          </th> <td>    62.1</td> \n",
       "</tr>\n",
       "</table>"
      ],
      "text/plain": [
       "<class 'statsmodels.iolib.summary.Summary'>\n",
       "\"\"\"\n",
       "                            OLS Regression Results                            \n",
       "==============================================================================\n",
       "Dep. Variable:                  solve   R-squared:                       0.968\n",
       "Model:                            OLS   Adj. R-squared:                  0.967\n",
       "Method:                 Least Squares   F-statistic:                     1523.\n",
       "Date:                Sat, 13 May 2017   Prob (F-statistic):          4.62e-187\n",
       "Time:                        14:31:00   Log-Likelihood:                -2745.3\n",
       "No. Observations:                 259   AIC:                             5501.\n",
       "Df Residuals:                     254   BIC:                             5518.\n",
       "Df Model:                           5                                         \n",
       "Covariance Type:            nonrobust                                         \n",
       "============================================================================================\n",
       "                               coef    std err          t      P>|t|      [95.0% Conf. Int.]\n",
       "--------------------------------------------------------------------------------------------\n",
       "solve_l1                     0.5800      0.054     10.808      0.000         0.474     0.686\n",
       "solve_l2                     0.1706      0.063      2.728      0.007         0.047     0.294\n",
       "solve_l3                     0.1303      0.046      2.809      0.005         0.039     0.222\n",
       "diff_hard:solve_l1          -0.3482      0.163     -2.131      0.034        -0.670    -0.026\n",
       "diff_hard:solve_l1:right     0.1162      0.329      0.353      0.725        -0.532     0.765\n",
       "==============================================================================\n",
       "Omnibus:                       94.967   Durbin-Watson:                   2.375\n",
       "Prob(Omnibus):                  0.000   Jarque-Bera (JB):             1216.730\n",
       "Skew:                           1.059   Prob(JB):                    6.17e-265\n",
       "Kurtosis:                      13.405   Cond. No.                         62.1\n",
       "==============================================================================\n",
       "\n",
       "Warnings:\n",
       "[1] Standard Errors assume that the covariance matrix of the errors is correctly specified.\n",
       "\"\"\""
      ]
     },
     "execution_count": 131,
     "metadata": {},
     "output_type": "execute_result"
    }
   ],
   "source": [
    "res = smf.ols('solve ~ solve_l1 + solve_l2 + solve_l3 + diff_hard:solve_l1 + diff_hard:solve_l1:right -1 ', data=df).fit()\n",
    "res.summary()"
   ]
  },
  {
   "cell_type": "code",
   "execution_count": 115,
   "metadata": {
    "collapsed": false
   },
   "outputs": [
    {
     "name": "stdout",
     "output_type": "stream",
     "text": [
      "\\begin{center}\n",
      "\\begin{tabular}{lclc}\n",
      "\\toprule\n",
      "\\textbf{Dep. Variable:}          &      solve       & \\textbf{  R-squared:         } &     0.968   \\\\\n",
      "\\textbf{Model:}                  &       OLS        & \\textbf{  Adj. R-squared:    } &     0.967   \\\\\n",
      "\\textbf{Method:}                 &  Least Squares   & \\textbf{  F-statistic:       } &     1523.   \\\\\n",
      "\\textbf{Date:}                   & Sat, 13 May 2017 & \\textbf{  Prob (F-statistic):} & 4.62e-187   \\\\\n",
      "\\textbf{Time:}                   &     14:29:04     & \\textbf{  Log-Likelihood:    } &   -2745.3   \\\\\n",
      "\\textbf{No. Observations:}       &         259      & \\textbf{  AIC:               } &     5501.   \\\\\n",
      "\\textbf{Df Residuals:}           &         254      & \\textbf{  BIC:               } &     5518.   \\\\\n",
      "\\textbf{Df Model:}               &           5      & \\textbf{                     } &             \\\\\n",
      "\\bottomrule\n",
      "\\end{tabular}\n",
      "\\begin{tabular}{lccccc}\n",
      "                                 & \\textbf{coef} & \\textbf{std err} & \\textbf{t} & \\textbf{P$>$$|$t$|$} & \\textbf{[95.0\\% Conf. Int.]}  \\\\\n",
      "\\midrule\n",
      "\\textbf{solve_l1}                &       0.5800  &        0.054     &    10.808  &         0.000        &         0.474     0.686       \\\\\n",
      "\\textbf{solve_l2}                &       0.1706  &        0.063     &     2.728  &         0.007        &         0.047     0.294       \\\\\n",
      "\\textbf{solve_l3}                &       0.1303  &        0.046     &     2.809  &         0.005        &         0.039     0.222       \\\\\n",
      "\\textbf{diff_hard:solve_l1}      &      -0.2320  &        0.288     &    -0.806  &         0.421        &        -0.799     0.335       \\\\\n",
      "\\textbf{diff_hard:solve_l1:left} &      -0.1162  &        0.329     &    -0.353  &         0.725        &        -0.765     0.532       \\\\\n",
      "\\bottomrule\n",
      "\\end{tabular}\n",
      "\\begin{tabular}{lclc}\n",
      "\\textbf{Omnibus:}       & 94.967 & \\textbf{  Durbin-Watson:     } &     2.375  \\\\\n",
      "\\textbf{Prob(Omnibus):} &  0.000 & \\textbf{  Jarque-Bera (JB):  } &  1216.730  \\\\\n",
      "\\textbf{Skew:}          &  1.059 & \\textbf{  Prob(JB):          } & 6.17e-265  \\\\\n",
      "\\textbf{Kurtosis:}      & 13.405 & \\textbf{  Cond. No.          } &      77.1  \\\\\n",
      "\\bottomrule\n",
      "\\end{tabular}\n",
      "%\\caption{OLS Regression Results}\n",
      "\\end{center}\n"
     ]
    }
   ],
   "source": [
    "print(res.summary().as_latex())"
   ]
  },
  {
   "cell_type": "code",
   "execution_count": 147,
   "metadata": {
    "collapsed": false
   },
   "outputs": [
    {
     "data": {
      "text/html": [
       "<table class=\"simpletable\">\n",
       "<caption>OLS Regression Results</caption>\n",
       "<tr>\n",
       "  <th>Dep. Variable:</th>          <td>solve</td>      <th>  R-squared:         </th> <td>   0.970</td> \n",
       "</tr>\n",
       "<tr>\n",
       "  <th>Model:</th>                   <td>OLS</td>       <th>  Adj. R-squared:    </th> <td>   0.969</td> \n",
       "</tr>\n",
       "<tr>\n",
       "  <th>Method:</th>             <td>Least Squares</td>  <th>  F-statistic:       </th> <td>   1619.</td> \n",
       "</tr>\n",
       "<tr>\n",
       "  <th>Date:</th>             <td>Sat, 13 May 2017</td> <th>  Prob (F-statistic):</th> <td>2.34e-190</td>\n",
       "</tr>\n",
       "<tr>\n",
       "  <th>Time:</th>                 <td>14:47:25</td>     <th>  Log-Likelihood:    </th> <td> -2737.6</td> \n",
       "</tr>\n",
       "<tr>\n",
       "  <th>No. Observations:</th>      <td>   259</td>      <th>  AIC:               </th> <td>   5485.</td> \n",
       "</tr>\n",
       "<tr>\n",
       "  <th>Df Residuals:</th>          <td>   254</td>      <th>  BIC:               </th> <td>   5503.</td> \n",
       "</tr>\n",
       "<tr>\n",
       "  <th>Df Model:</th>              <td>     5</td>      <th>                     </th>     <td> </td>    \n",
       "</tr>\n",
       "<tr>\n",
       "  <th>Covariance Type:</th>      <td>nonrobust</td>    <th>                     </th>     <td> </td>    \n",
       "</tr>\n",
       "</table>\n",
       "<table class=\"simpletable\">\n",
       "<tr>\n",
       "          <td></td>            <th>coef</th>     <th>std err</th>      <th>t</th>      <th>P>|t|</th> <th>[95.0% Conf. Int.]</th> \n",
       "</tr>\n",
       "<tr>\n",
       "  <th>solve_l1</th>         <td>    0.7618</td> <td>    0.068</td> <td>   11.162</td> <td> 0.000</td> <td>    0.627     0.896</td>\n",
       "</tr>\n",
       "<tr>\n",
       "  <th>solve_l2</th>         <td>    0.1196</td> <td>    0.062</td> <td>    1.931</td> <td> 0.055</td> <td>   -0.002     0.242</td>\n",
       "</tr>\n",
       "<tr>\n",
       "  <th>solve_l3</th>         <td>    0.1470</td> <td>    0.045</td> <td>    3.245</td> <td> 0.001</td> <td>    0.058     0.236</td>\n",
       "</tr>\n",
       "<tr>\n",
       "  <th>solve_l1:diff</th>    <td>   -0.0302</td> <td>    0.008</td> <td>   -3.921</td> <td> 0.000</td> <td>   -0.045    -0.015</td>\n",
       "</tr>\n",
       "<tr>\n",
       "  <th>solve_l1:diff:id</th> <td>    0.0001</td> <td> 5.47e-05</td> <td>    2.705</td> <td> 0.007</td> <td> 4.02e-05     0.000</td>\n",
       "</tr>\n",
       "</table>\n",
       "<table class=\"simpletable\">\n",
       "<tr>\n",
       "  <th>Omnibus:</th>       <td>98.904</td> <th>  Durbin-Watson:     </th> <td>   2.245</td> \n",
       "</tr>\n",
       "<tr>\n",
       "  <th>Prob(Omnibus):</th> <td> 0.000</td> <th>  Jarque-Bera (JB):  </th> <td>1333.652</td> \n",
       "</tr>\n",
       "<tr>\n",
       "  <th>Skew:</th>          <td> 1.107</td> <th>  Prob(JB):          </th> <td>2.52e-290</td>\n",
       "</tr>\n",
       "<tr>\n",
       "  <th>Kurtosis:</th>      <td>13.894</td> <th>  Cond. No.          </th> <td>4.16e+03</td> \n",
       "</tr>\n",
       "</table>"
      ],
      "text/plain": [
       "<class 'statsmodels.iolib.summary.Summary'>\n",
       "\"\"\"\n",
       "                            OLS Regression Results                            \n",
       "==============================================================================\n",
       "Dep. Variable:                  solve   R-squared:                       0.970\n",
       "Model:                            OLS   Adj. R-squared:                  0.969\n",
       "Method:                 Least Squares   F-statistic:                     1619.\n",
       "Date:                Sat, 13 May 2017   Prob (F-statistic):          2.34e-190\n",
       "Time:                        14:47:25   Log-Likelihood:                -2737.6\n",
       "No. Observations:                 259   AIC:                             5485.\n",
       "Df Residuals:                     254   BIC:                             5503.\n",
       "Df Model:                           5                                         \n",
       "Covariance Type:            nonrobust                                         \n",
       "====================================================================================\n",
       "                       coef    std err          t      P>|t|      [95.0% Conf. Int.]\n",
       "------------------------------------------------------------------------------------\n",
       "solve_l1             0.7618      0.068     11.162      0.000         0.627     0.896\n",
       "solve_l2             0.1196      0.062      1.931      0.055        -0.002     0.242\n",
       "solve_l3             0.1470      0.045      3.245      0.001         0.058     0.236\n",
       "solve_l1:diff       -0.0302      0.008     -3.921      0.000        -0.045    -0.015\n",
       "solve_l1:diff:id     0.0001   5.47e-05      2.705      0.007      4.02e-05     0.000\n",
       "==============================================================================\n",
       "Omnibus:                       98.904   Durbin-Watson:                   2.245\n",
       "Prob(Omnibus):                  0.000   Jarque-Bera (JB):             1333.652\n",
       "Skew:                           1.107   Prob(JB):                    2.52e-290\n",
       "Kurtosis:                      13.894   Cond. No.                     4.16e+03\n",
       "==============================================================================\n",
       "\n",
       "Warnings:\n",
       "[1] Standard Errors assume that the covariance matrix of the errors is correctly specified.\n",
       "[2] The condition number is large, 4.16e+03. This might indicate that there are\n",
       "strong multicollinearity or other numerical problems.\n",
       "\"\"\""
      ]
     },
     "execution_count": 147,
     "metadata": {},
     "output_type": "execute_result"
    }
   ],
   "source": [
    "res = smf.ols('solve ~ solve_l1 + solve_l2 + solve_l3 + solve_l1:diff + solve_l1:diff:id -1 ', data=df).fit()\n",
    "res.summary()"
   ]
  },
  {
   "cell_type": "code",
   "execution_count": 149,
   "metadata": {
    "collapsed": false
   },
   "outputs": [
    {
     "name": "stdout",
     "output_type": "stream",
     "text": [
      "\\begin{center}\n",
      "\\begin{tabular}{lclc}\n",
      "\\toprule\n",
      "\\textbf{Dep. Variable:}    &      solve       & \\textbf{  R-squared:         } &     0.970   \\\\\n",
      "\\textbf{Model:}            &       OLS        & \\textbf{  Adj. R-squared:    } &     0.969   \\\\\n",
      "\\textbf{Method:}           &  Least Squares   & \\textbf{  F-statistic:       } &     1619.   \\\\\n",
      "\\textbf{Date:}             & Sat, 13 May 2017 & \\textbf{  Prob (F-statistic):} & 2.34e-190   \\\\\n",
      "\\textbf{Time:}             &     14:47:52     & \\textbf{  Log-Likelihood:    } &   -2737.6   \\\\\n",
      "\\textbf{No. Observations:} &         259      & \\textbf{  AIC:               } &     5485.   \\\\\n",
      "\\textbf{Df Residuals:}     &         254      & \\textbf{  BIC:               } &     5503.   \\\\\n",
      "\\textbf{Df Model:}         &           5      & \\textbf{                     } &             \\\\\n",
      "\\bottomrule\n",
      "\\end{tabular}\n",
      "\\begin{tabular}{lccccc}\n",
      "                          & \\textbf{coef} & \\textbf{std err} & \\textbf{t} & \\textbf{P$>$$|$t$|$} & \\textbf{[95.0\\% Conf. Int.]}  \\\\\n",
      "\\midrule\n",
      "\\textbf{solve_l1}         &       0.7618  &        0.068     &    11.162  &         0.000        &         0.627     0.896       \\\\\n",
      "\\textbf{solve_l2}         &       0.1196  &        0.062     &     1.931  &         0.055        &        -0.002     0.242       \\\\\n",
      "\\textbf{solve_l3}         &       0.1470  &        0.045     &     3.245  &         0.001        &         0.058     0.236       \\\\\n",
      "\\textbf{solve_l1:diff}    &      -0.0302  &        0.008     &    -3.921  &         0.000        &        -0.045    -0.015       \\\\\n",
      "\\textbf{solve_l1:diff:id} &       0.0001  &     5.47e-05     &     2.705  &         0.007        &      4.02e-05     0.000       \\\\\n",
      "\\bottomrule\n",
      "\\end{tabular}\n",
      "\\begin{tabular}{lclc}\n",
      "\\textbf{Omnibus:}       & 98.904 & \\textbf{  Durbin-Watson:     } &     2.245  \\\\\n",
      "\\textbf{Prob(Omnibus):} &  0.000 & \\textbf{  Jarque-Bera (JB):  } &  1333.652  \\\\\n",
      "\\textbf{Skew:}          &  1.107 & \\textbf{  Prob(JB):          } & 2.52e-290  \\\\\n",
      "\\textbf{Kurtosis:}      & 13.894 & \\textbf{  Cond. No.          } &  4.16e+03  \\\\\n",
      "\\bottomrule\n",
      "\\end{tabular}\n",
      "%\\caption{OLS Regression Results}\n",
      "\\end{center}\n"
     ]
    }
   ],
   "source": [
    "print(res.summary().as_latex())"
   ]
  },
  {
   "cell_type": "code",
   "execution_count": null,
   "metadata": {
    "collapsed": true
   },
   "outputs": [],
   "source": []
  }
 ],
 "metadata": {
  "kernelspec": {
   "display_name": "Python [Root]",
   "language": "python",
   "name": "Python [Root]"
  },
  "language_info": {
   "codemirror_mode": {
    "name": "ipython",
    "version": 3
   },
   "file_extension": ".py",
   "mimetype": "text/x-python",
   "name": "python",
   "nbconvert_exporter": "python",
   "pygments_lexer": "ipython3",
   "version": "3.5.2"
  }
 },
 "nbformat": 4,
 "nbformat_minor": 0
}
